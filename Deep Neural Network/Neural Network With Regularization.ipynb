{
 "cells": [
  {
   "cell_type": "markdown",
   "id": "a5ef4287",
   "metadata": {},
   "source": [
    "# Deep Neural Network"
   ]
  },
  {
   "cell_type": "markdown",
   "id": "d48caba8",
   "metadata": {},
   "source": [
    "## Notations and demonstrations\n",
    "- $m$ is denoted as the number of training examples\n",
    "- $n$ is denoted as the number of the features\n",
    "- $X$ is a matrix that each column is a training example and each row is a feature <br>\n",
    "$\n",
    "X = \n",
    "\\begin{bmatrix}\n",
    "    \\displaystyle\n",
    "    x^{(1)}_{1} & x^{(2)}_{1} & \\dots & x^{(m)}_{1} \\\\\n",
    "    x^{(1)}_{2} & x^{(2)}_{2} & \\dots & x^{(m)}_{2} \\\\\n",
    "    & \\vdots & \\vdots & \\\\\n",
    "    x^{(1)}_{n} & x^{(2)}_{n} & \\dots & x^{(m)}_{n} \\\\\n",
    "\\end{bmatrix}_{n_x \\times m}\n",
    "$\n",
    "- $y$ is a vector denoted as the labels <br>\n",
    "$\n",
    "y = \n",
    "\\begin{bmatrix}\n",
    "    y_1 & y_2 & \\dots & y_m\n",
    "\\end{bmatrix}\n",
    "$\n",
    "- $w$ is a vector of weights <br>\n",
    "$\n",
    "w = \n",
    "\\begin{bmatrix}\n",
    "\\displaystyle\n",
    "    w_1\\\\\n",
    "    w_2\\\\\n",
    "    \\vdots\\\\\n",
    "    w_n\n",
    "\\end{bmatrix}\n",
    "$\n",
    "<br> <br>\n",
    "Neural networks might have multiple layers; each layers contains multiple perceptron and each themselves could be logistic function or ...; so for each we need different vector of weights that could be obtained via stacking each function's weights in a matrix;\n",
    "<br>\n",
    "- $W^{[1]}$ is a matrix for the first layer of the neural network; for example, if the first layer contains 4 logistic functions we have<br>\n",
    "$\n",
    "W^{[1]} =\n",
    "\\displaystyle\n",
    "\\begin{bmatrix}\n",
    "    \\dots & w_1^{[1]T} & \\dots\\\\\n",
    "    \\dots & w_2^{[1]T} & \\dots\\\\\n",
    "    \\dots & w_3^{[1]T} & \\dots\\\\\n",
    "    \\dots & w_4^{[1]T} & \\dots\\\\\n",
    "\\end{bmatrix}_{4, n}\n",
    "$\n",
    "<br><br>\n",
    "Since we have multiple functions in each layer, we need multiple intercepts.\n",
    "- $b$ is vector of intercepts; If we have 4 logistic function in the first layer, it would be like below <br>\n",
    "$\n",
    "b^{[1]} = \n",
    "\\displaystyle\n",
    "\\begin{bmatrix}\n",
    "    b_1^{[1]}\\\\\n",
    "    b_2^{[1]}\\\\\n",
    "    b_3^{[1]}\\\\\n",
    "    b_4^{[1]}\\\\\n",
    "\\end{bmatrix}\n",
    "$\n",
    "<br><br>\n",
    "For calculating $Z$ we have\n",
    "$$\n",
    "Z^{[1]} = \n",
    "\\begin{bmatrix}\n",
    "    \\dots & w_1^{[1]T} & \\dots\\\\\n",
    "    \\dots & w_2^{[1]T} & \\dots\\\\\n",
    "    \\dots & w_3^{[1]T} & \\dots\\\\\n",
    "    \\dots & w_4^{[1]T} & \\dots\\\\\n",
    "\\end{bmatrix}_{4, n}\n",
    "\\begin{bmatrix}\n",
    "    \\displaystyle\n",
    "    x^{(1)} & x^{(2)} & \\dots & x^{(m)}\n",
    "\\end{bmatrix}_{n_x \\times m} + \n",
    "\\begin{bmatrix}\n",
    "    b_1^{[1]}\\\\\n",
    "    b_2^{[1]}\\\\\n",
    "    b_3^{[1]}\\\\\n",
    "    b_4^{[1]}\\\\\n",
    "\\end{bmatrix}\n",
    "$$\n",
    "The result will be\n",
    "$$\n",
    "Z^{[1]} = \n",
    "\\begin{bmatrix}\n",
    "    \\displaystyle\n",
    "    W_1^{[1]T}.x^{(1)} + b_1^{[1]}\\\\\n",
    "    W_2^{[1]T}.x^{(2)} + b_2^{[1]}\\\\\n",
    "    W_3^{[1]T}.x^{(3)} + b_3^{[1]}\\\\\n",
    "    W_4^{[1]T}.x^{(4)} + b_4^{[1]}\\\\\n",
    "\\end{bmatrix}\n",
    "=\n",
    "\\begin{bmatrix}\n",
    "    \\displaystyle\n",
    "    Z_1^{[1]}\\\\\n",
    "    Z_2^{[1]}\\\\\n",
    "    Z_3^{[1]}\\\\\n",
    "    Z_4^{[1]}\\\\\n",
    "\\end{bmatrix}_{4, m}\n",
    "$$\n",
    "\n",
    "Applying the activation function for the first layer containing 4 perceptrons we have\n",
    "$$\n",
    "a^{[1]} = \n",
    "\\begin{bmatrix}\n",
    "    \\displaystyle\n",
    "    a_1^{[1]}\\\\\n",
    "    a_2^{[1]}\\\\\n",
    "    a_3^{[1]}\\\\\n",
    "    a_4^{[1]}\\\\\n",
    "\\end{bmatrix}\n",
    "= G(Z^{[1]})\n",
    "$$"
   ]
  },
  {
   "cell_type": "markdown",
   "id": "1d553824",
   "metadata": {},
   "source": [
    "## Activation functions\n",
    "- Sigmoid\n",
    "$$\n",
    "    \\begin{equation}\n",
    "        a = g(z) = \\displaystyle\\frac{1}{1 + e^{-z}} \\\\\n",
    "    \\end{equation}\n",
    "$$\n",
    "<img src=\"https://upload.wikimedia.org/wikipedia/commons/8/88/Logistic-curve.svg\" width=\"300px\" height=\"300px\"/>\n",
    "\n",
    "    - Derivative\n",
    "    $$\n",
    "        \\begin{equation}\n",
    "            g'(z) = \\frac{dg(z)}{dz} = \\frac{1}{1 + e^{-z}}(1 - \\frac{1}{1 + e^{-z}}) \\\\ \n",
    "            g'(z) = g(z)(1 - g(z)) = a(1 - a)\n",
    "        \\end{equation}\n",
    "    $$\n",
    "    Calculations :\n",
    "    $$\n",
    "        \\begin{equation}\n",
    "            \\frac{d}{dz}g(z) = \\frac{0 - (-e^{-z})}{(1 + e^{-z})^2} = \\frac{e^{-z}}{(1 + e^{-z})^2} = \\\\\n",
    "                \\frac{e^{-z} + 1 - 1}{1 + e^{-z}} \\times \\frac{1}{1 + e^{-z}} = \\\\\n",
    "                (1 - \\frac{1}{1 + e^{-z}})\\frac{1}{1+e^{-z}}\n",
    "        \\end{equation}\n",
    "    $$\n",
    "    <br><br>\n",
    "\n",
    "- tanh\n",
    "$$\n",
    "    \\begin{equation}\n",
    "        a = g(z) = \\frac{e^z - e^{-z}}{e^z + e^{-z}}\n",
    "    \\end{equation}\n",
    "$$\n",
    "<img src=\"https://upload.wikimedia.org/wikipedia/commons/7/76/Sinh_cosh_tanh.svg\" width=\"300px\" height=\"300px\"/>\n",
    "\n",
    "    - Derivative\n",
    "    $$\n",
    "        \\begin{equation}\n",
    "        g'(z) = \\frac{d}{dz}tanh(z) = 1 - (tanh(z))^2\\\\\n",
    "        g'(z) = 1 - a^2\n",
    "        \\end{equation}\n",
    "    $$\n",
    "    Calculations:\n",
    "    $$\n",
    "        \\begin{equation}\n",
    "            \\frac{d}{dz} tanh(z) = \\frac{(e^z+e^{-z}) - (e^z-e^{-z})}{(e^z+e^{-z})^2} = \\\\\n",
    "            1 - \\frac{(e^z-e^{-z})}{e^z+e^{-z}} = 1 - (tanh(z))^2\n",
    "        \\end{equation}\n",
    "    $$\n",
    "\n",
    "<br><br>\n",
    "- ReLU\n",
    "$$\n",
    "    a = max(0, z)\n",
    "$$\n",
    "<img src=\"https://upload.wikimedia.org/wikipedia/commons/4/42/ReLU_and_GELU.svg\" width=\"300px\" height=\"300px\"/>\n",
    "\n",
    "    - Derivative\n",
    "    $$\n",
    "    g'(z) = \n",
    "        \\begin{equation}\n",
    "            \\begin{cases}\n",
    "            0 & z < 0\\\\\n",
    "            1 & z \\ge 0\n",
    "            \\end{cases}\n",
    "        \\end{equation}\n",
    "    $$\n",
    "    \n",
    "<br><br>\n",
    "- leaky ReLU\n",
    "$$\n",
    "    a = max(0.01z, z)\n",
    "$$\n",
    "\n",
    "    - Derivative\n",
    "    \n",
    "    $$\n",
    "    g'(z) = \n",
    "        \\begin{equation}\n",
    "            \\begin{cases}\n",
    "            0.01 & z < 0\\\\\n",
    "            1 & z \\ge 0\n",
    "            \\end{cases}\n",
    "        \\end{equation}\n",
    "    $$\n",
    "    "
   ]
  },
  {
   "cell_type": "code",
   "execution_count": 1,
   "id": "d445d7d5",
   "metadata": {},
   "outputs": [],
   "source": [
    "import numpy as np\n",
    "import matplotlib.pyplot as plt\n",
    "from sklearn.datasets import make_classification, make_blobs\n",
    "from sklearn.model_selection import train_test_split\n",
    "from sklearn.preprocessing import Normalizer"
   ]
  },
  {
   "cell_type": "markdown",
   "id": "6141d79f",
   "metadata": {},
   "source": [
    "## Implement L-Layered Neural Network functions"
   ]
  },
  {
   "cell_type": "markdown",
   "id": "a0736d04",
   "metadata": {},
   "source": [
    "### Initialization"
   ]
  },
  {
   "cell_type": "code",
   "execution_count": 2,
   "id": "e042caf3",
   "metadata": {},
   "outputs": [],
   "source": [
    "def initialize_parameters_deep(layer_dims):\n",
    "    \"\"\"\n",
    "    arguments:\n",
    "        layer_dims: A list that contains the size of each layer\n",
    "        \n",
    "    returns:\n",
    "        dict: parameters for each layer\n",
    "    \"\"\"\n",
    "    \n",
    "    params = {}\n",
    "    L = len(layer_dims)\n",
    "    for l in range(1, L):\n",
    "        # This uses He initialization\n",
    "        params['W' + str(l)] = np.random.randn(layer_dims[l], layer_dims[l - 1]) * np.sqrt(2 / layer_dims[l - 1])\n",
    "        params['b' + str(l)] = np.zeros((layer_dims[l], 1))\n",
    "    return params"
   ]
  },
  {
   "cell_type": "code",
   "execution_count": 3,
   "id": "639e330f",
   "metadata": {},
   "outputs": [
    {
     "name": "stdout",
     "output_type": "stream",
     "text": [
      "W1 :\n",
      "[[-0.98263987  0.72774805  0.83493179]\n",
      " [ 0.26651651  1.04459156  0.57997003]\n",
      " [-0.73451198 -0.08188126  1.41603296]\n",
      " [ 0.4011171  -0.34920903  0.32478588]\n",
      " [-0.7664659  -0.5986488   0.12497228]]\n",
      "b1 :\n",
      "[[0.]\n",
      " [0.]\n",
      " [0.]\n",
      " [0.]\n",
      " [0.]]\n",
      "W2 :\n",
      "[[-1.15891666 -0.66992439 -1.50454087  0.36236865 -0.29712109]\n",
      " [-0.70564514 -0.13247334  0.60895994 -0.48358173 -0.16690657]\n",
      " [ 1.62665812  0.45651775  1.3689429   0.03540363 -0.61636251]\n",
      " [-0.07907712  0.2044537   0.19994623 -0.38775381  0.18923459]]\n",
      "b2 :\n",
      "[[0.]\n",
      " [0.]\n",
      " [0.]\n",
      " [0.]]\n",
      "W3 :\n",
      "[[ 0.02730122 -0.91555901 -0.1003744  -0.06599362]]\n",
      "b3 :\n",
      "[[0.]]\n"
     ]
    }
   ],
   "source": [
    "# Test function\n",
    "params = initialize_parameters_deep([3, 5, 4, 1])\n",
    "for k, v in params.items():\n",
    "    print(k, \":\")\n",
    "    print(v)"
   ]
  },
  {
   "cell_type": "markdown",
   "id": "d428b907",
   "metadata": {},
   "source": [
    "### Forward Propagation"
   ]
  },
  {
   "cell_type": "markdown",
   "id": "31941956",
   "metadata": {},
   "source": [
    "#### Linear forward\n",
    "Here we need to calculate $Z^{[l]} = W^{[l]}.A^{[l-1]} + b^{[l]}$"
   ]
  },
  {
   "cell_type": "code",
   "execution_count": 4,
   "id": "4871a952",
   "metadata": {},
   "outputs": [],
   "source": [
    "def linear_forward(A, W, b):\n",
    "    \"\"\"\n",
    "    arguments:\n",
    "        A: activations from previous layer or inputs, shape=(size of l-1, m)\n",
    "        W: weights from layer l, shape=(size of layer l, size of layer l-1)\n",
    "        b: intercepts from layer l, shape(size of layer l, 1)\n",
    "        \n",
    "    returns:\n",
    "        Z: forward calculation\n",
    "        cache: The same arguments useful for backward propagation\n",
    "    \"\"\"\n",
    "    Z = np.dot(W, A) + b\n",
    "    cache = (A, W, b)\n",
    "    \n",
    "    return Z, cache"
   ]
  },
  {
   "cell_type": "code",
   "execution_count": 5,
   "id": "7834cbef",
   "metadata": {},
   "outputs": [
    {
     "name": "stdout",
     "output_type": "stream",
     "text": [
      "[[-0.23973368  0.42829084 -0.70069822  0.9598298 ]\n",
      " [ 0.85355615  1.63546872  0.26316196 -1.79054665]\n",
      " [-1.62862948 -0.06121645 -1.00369511  0.19979845]\n",
      " [-0.54934352  0.04426776  0.02432498 -1.07983663]\n",
      " [-1.13029416 -1.2141836  -0.70062606  1.93720284]]\n",
      "[[ 0.39038895  0.76295739  0.62030884 -2.28591962]\n",
      " [ 1.20496981  1.13870982  0.29895791 -0.53375353]\n",
      " [-0.87795956  0.41836871 -0.3697596  -1.07549849]]\n",
      "[[-0.98263987  0.72774805  0.83493179]\n",
      " [ 0.26651651  1.04459156  0.57997003]\n",
      " [-0.73451198 -0.08188126  1.41603296]\n",
      " [ 0.4011171  -0.34920903  0.32478588]\n",
      " [-0.7664659  -0.5986488   0.12497228]]\n",
      "[[0.]\n",
      " [0.]\n",
      " [0.]\n",
      " [0.]\n",
      " [0.]]\n"
     ]
    }
   ],
   "source": [
    "X = np.random.randn(3, 4)\n",
    "Y = np.array([[1, 0, 1, 0]])\n",
    "Z, cache = linear_forward(X, params['W1'], params['b1'])\n",
    "print(Z)\n",
    "print(cache[0])\n",
    "print(cache[1])\n",
    "print(cache[2])"
   ]
  },
  {
   "cell_type": "code",
   "execution_count": 6,
   "id": "83e9c78f",
   "metadata": {},
   "outputs": [],
   "source": [
    "def sigmoid(Z):\n",
    "    \"\"\"\n",
    "    arguments:\n",
    "        Z: a matrix calculated in \"linear_forward\" step\n",
    "        \n",
    "    returns:\n",
    "        A: activation function of sigmoid(Z)\n",
    "        cache: The same arguments useful for backward propagation\n",
    "    \"\"\"\n",
    "    cache = Z\n",
    "    A = 1 / (1 + np.exp(-Z))\n",
    "    \n",
    "    return A, cache"
   ]
  },
  {
   "cell_type": "code",
   "execution_count": 7,
   "id": "7763be2d",
   "metadata": {},
   "outputs": [],
   "source": [
    "def relu(Z):\n",
    "    \"\"\"\n",
    "    arguments:\n",
    "        Z: a matrix calculated in \"linear_forward\" step\n",
    "        \n",
    "    returns:\n",
    "        A: activation function of relu(Z)\n",
    "        cache: The same arguments useful for backward propagation\n",
    "    \"\"\"\n",
    "    cache = Z\n",
    "    A = np.maximum(0, Z)\n",
    "    \n",
    "    return A, cache"
   ]
  },
  {
   "cell_type": "code",
   "execution_count": 8,
   "id": "d49a3e1c",
   "metadata": {},
   "outputs": [],
   "source": [
    "def linear_activation_forward(A_prev, W, b, activation):\n",
    "    \"\"\"\n",
    "    arguments:\n",
    "        A: activations from previous layer or inputs, shape=(size of l-1, m)\n",
    "        W: weights from layer l, shape=(size of layer l, size of layer l-1)\n",
    "        b: intercepts from layer l, shape(size of layer l, 1)\n",
    "        activation: A string that specifies what type of activiation function to use (sigmoid or ReLU)\n",
    "    \n",
    "    returns:\n",
    "        A: activation calculated\n",
    "        cache: to be used for backward propagation\n",
    "    \"\"\"\n",
    "    Z, linear_cache = linear_forward(A_prev, W, b)\n",
    "    \n",
    "    if activation == 'relu':\n",
    "        A, activation_cache = relu(Z)\n",
    "    elif activation == 'sigmoid':\n",
    "        A, activation_cache = sigmoid(Z)\n",
    "    else:\n",
    "        A, activation_cache = Z, Z\n",
    "    \n",
    "    cache = (linear_cache, activation_cache)\n",
    "    \n",
    "    return A, cache"
   ]
  },
  {
   "cell_type": "code",
   "execution_count": 9,
   "id": "ed1272e8",
   "metadata": {},
   "outputs": [
    {
     "name": "stdout",
     "output_type": "stream",
     "text": [
      "[[0.         0.42829084 0.         0.9598298 ]\n",
      " [0.85355615 1.63546872 0.26316196 0.        ]\n",
      " [0.         0.         0.         0.19979845]\n",
      " [0.         0.04426776 0.02432498 0.        ]\n",
      " [0.         0.         0.         1.93720284]]\n",
      "(array([[ 0.39038895,  0.76295739,  0.62030884, -2.28591962],\n",
      "       [ 1.20496981,  1.13870982,  0.29895791, -0.53375353],\n",
      "       [-0.87795956,  0.41836871, -0.3697596 , -1.07549849]]), array([[-0.98263987,  0.72774805,  0.83493179],\n",
      "       [ 0.26651651,  1.04459156,  0.57997003],\n",
      "       [-0.73451198, -0.08188126,  1.41603296],\n",
      "       [ 0.4011171 , -0.34920903,  0.32478588],\n",
      "       [-0.7664659 , -0.5986488 ,  0.12497228]]), array([[0.],\n",
      "       [0.],\n",
      "       [0.],\n",
      "       [0.],\n",
      "       [0.]]))\n",
      "[[-0.23973368  0.42829084 -0.70069822  0.9598298 ]\n",
      " [ 0.85355615  1.63546872  0.26316196 -1.79054665]\n",
      " [-1.62862948 -0.06121645 -1.00369511  0.19979845]\n",
      " [-0.54934352  0.04426776  0.02432498 -1.07983663]\n",
      " [-1.13029416 -1.2141836  -0.70062606  1.93720284]]\n"
     ]
    }
   ],
   "source": [
    "A, cache = linear_activation_forward(X, params[\"W1\"], params[\"b1\"], activation='relu')\n",
    "print(A)\n",
    "print(cache[0])\n",
    "print(cache[1])"
   ]
  },
  {
   "cell_type": "code",
   "execution_count": 10,
   "id": "fa7a161a",
   "metadata": {},
   "outputs": [],
   "source": [
    "def L_model_forward(X, parameters=None, keep_prob=1.):\n",
    "    \"\"\"\n",
    "    arguments:\n",
    "        X: numpy array, shape=(input size, input examples i.e m)\n",
    "        parameters: output of initialize_parameters_deep\n",
    "        keep_prob: the probability of which each perceptron is kept\n",
    "        \n",
    "    returns:\n",
    "        AL: activation value from the output layer\n",
    "        caches: Caches from calling Linear activation forward, the size is L since there are L layers\n",
    "    \"\"\"\n",
    "    caches = []\n",
    "    L = len(parameters) // 2\n",
    "    A_prev = X\n",
    "    \n",
    "    for l in range(1, L):\n",
    "        Wl = parameters['W' + str(l)]\n",
    "        bl = parameters['b' + str(l)]\n",
    "        A, cache = linear_activation_forward(A_prev, Wl, bl, 'relu')\n",
    "        caches.append(cache)\n",
    "        \n",
    "        # Regularization : Drop out\n",
    "        D = np.random.rand(A.shape[0], A.shape[1])\n",
    "        D = (D <= keep_prob).astype(int)\n",
    "        A = A * D\n",
    "        A /= keep_prob\n",
    "        \n",
    "        A_prev = A\n",
    "        \n",
    "    WL = parameters['W' + str(L)]\n",
    "    bL = parameters['b' + str(L)]\n",
    "    AL, cache = linear_activation_forward(A_prev, WL, bL, 'sigmoid')\n",
    "    caches.append(cache)\n",
    "    \n",
    "    return AL, caches"
   ]
  },
  {
   "cell_type": "code",
   "execution_count": 11,
   "id": "b9f8aa1a",
   "metadata": {},
   "outputs": [
    {
     "name": "stdout",
     "output_type": "stream",
     "text": [
      "[[0.48734546 0.45915946 0.49623169 0.47847818]]\n",
      "\n",
      "\n",
      "[((array([[ 0.39038895,  0.76295739,  0.62030884, -2.28591962],\n",
      "       [ 1.20496981,  1.13870982,  0.29895791, -0.53375353],\n",
      "       [-0.87795956,  0.41836871, -0.3697596 , -1.07549849]]), array([[-0.98263987,  0.72774805,  0.83493179],\n",
      "       [ 0.26651651,  1.04459156,  0.57997003],\n",
      "       [-0.73451198, -0.08188126,  1.41603296],\n",
      "       [ 0.4011171 , -0.34920903,  0.32478588],\n",
      "       [-0.7664659 , -0.5986488 ,  0.12497228]]), array([[0.],\n",
      "       [0.],\n",
      "       [0.],\n",
      "       [0.],\n",
      "       [0.]])), array([[-0.23973368,  0.42829084, -0.70069822,  0.9598298 ],\n",
      "       [ 0.85355615,  1.63546872,  0.26316196, -1.79054665],\n",
      "       [-1.62862948, -0.06121645, -1.00369511,  0.19979845],\n",
      "       [-0.54934352,  0.04426776,  0.02432498, -1.07983663],\n",
      "       [-1.13029416, -1.2141836 , -0.70062606,  1.93720284]])), ((array([[0.        , 0.42829084, 0.        , 0.9598298 ],\n",
      "       [0.85355615, 1.63546872, 0.26316196, 0.        ],\n",
      "       [0.        , 0.        , 0.        , 0.19979845],\n",
      "       [0.        , 0.04426776, 0.02432498, 0.        ],\n",
      "       [0.        , 0.        , 0.        , 1.93720284]]), array([[-1.15891666, -0.66992439, -1.50454087,  0.36236865, -0.29712109],\n",
      "       [-0.70564514, -0.13247334,  0.60895994, -0.48358173, -0.16690657],\n",
      "       [ 1.62665812,  0.45651775,  1.3689429 ,  0.03540363, -0.61636251],\n",
      "       [-0.07907712,  0.2044537 ,  0.19994623, -0.38775381,  0.18923459]]), array([[0.],\n",
      "       [0.],\n",
      "       [0.],\n",
      "       [0.]])), array([[-0.57181808, -1.57595253, -0.16748401, -1.98855151],\n",
      "       [-0.11307344, -0.54028443, -0.04662506, -0.87896187],\n",
      "       [ 0.38966353,  1.44487051,  0.1209993 ,  0.6408084 ],\n",
      "       [ 0.17451272,  0.28334464,  0.04437233,  0.33063415]])), ((array([[0.        , 0.        , 0.        , 0.        ],\n",
      "       [0.        , 0.        , 0.        , 0.        ],\n",
      "       [0.38966353, 1.44487051, 0.1209993 , 0.6408084 ],\n",
      "       [0.17451272, 0.28334464, 0.04437233, 0.33063415]]), array([[ 0.02730122, -0.91555901, -0.1003744 , -0.06599362]]), array([[0.]])), array([[-0.05062897, -0.16372695, -0.01507352, -0.0861405 ]]))]\n"
     ]
    }
   ],
   "source": [
    "AL, caches = L_model_forward(X, params)\n",
    "print(AL)\n",
    "print('\\n')\n",
    "print(caches)"
   ]
  },
  {
   "cell_type": "markdown",
   "id": "342c05f2",
   "metadata": {},
   "source": [
    "#### Compute Cost\n",
    "Cost for sigmoid function is defined as\n",
    "$$-\\frac{1}{m} \\sum\\limits_{i = 1}^{m} (y^{(i)}\\log\\left(a^{[L] (i)}\\right) + (1-y^{(i)})\\log\\left(1- a^{[L](i)}\\right))$$\n",
    "$$J_{regularized} = \\small \\underbrace{-\\frac{1}{m} \\sum\\limits_{i = 1}^{m} \\large{(}\\small y^{(i)}\\log\\left(a^{[L](i)}\\right) + (1-y^{(i)})\\log\\left(1- a^{[L](i)}\\right) \\large{)} }_\\text{cross-entropy cost} + \\underbrace{\\frac{1}{m} \\frac{\\lambda}{2} \\sum\\limits_l\\sum\\limits_k\\sum\\limits_j W_{k,j}^{[l]2} }_\\text{L2 regularization cost}$$"
   ]
  },
  {
   "cell_type": "code",
   "execution_count": 12,
   "id": "7a4b0545",
   "metadata": {},
   "outputs": [],
   "source": [
    "def compute_frobenius_norm(parameters):\n",
    "    L = len(parameters) // 2\n",
    "    summation = 0\n",
    "    for l in range(1, L + 1):\n",
    "        W_kj = parameters['W' + str(l)]\n",
    "        summation += np.sum(np.square(W_kj))\n",
    "    return np.sqrt(summation)"
   ]
  },
  {
   "cell_type": "code",
   "execution_count": 13,
   "id": "bf815bce",
   "metadata": {},
   "outputs": [],
   "source": [
    "def compute_derivative_frobenius_norm(parameter, parameters):\n",
    "    l2norm = compute_frobenius_norm(parameters)\n",
    "    return parameter / l2norm"
   ]
  },
  {
   "cell_type": "code",
   "execution_count": 14,
   "id": "53656f56",
   "metadata": {},
   "outputs": [],
   "source": [
    "def compute_cost(AL, Y, parameters=None, lambda_=0., epsilon=1e-15):\n",
    "    \"\"\"\n",
    "    arguments:\n",
    "        AL: nparray; the output of the neural network\n",
    "        Y: array of labels\n",
    "        parameters: dictionary of the parameters containing Ws and bs to calculate ||W||F\n",
    "        lambda_: is a scalar as regularization parameter\n",
    "    returns:\n",
    "        decimal number specifing the cost\n",
    "    \"\"\"\n",
    "    Y = Y.reshape(AL.shape)\n",
    "    m = Y.shape[1]\n",
    "    AL = np.clip(AL, epsilon, 1 - epsilon)\n",
    "    cost = np.multiply(-Y, np.log(AL)) - np.multiply(1 - Y, np.log(1 - AL))\n",
    "    cost = np.sum(cost, axis=1) / (m)\n",
    "    \n",
    "    if parameters is not None:\n",
    "        reg_cost = (lambda_ * compute_frobenius_norm(parameters) ** 2) / (2 * m)\n",
    "        cost += reg_cost\n",
    "        \n",
    "    return np.squeeze(cost)"
   ]
  },
  {
   "cell_type": "markdown",
   "id": "aaa9a5e4",
   "metadata": {},
   "source": [
    "In computing cost, we used a boundary of epsilon and 1 - epsilon for AL so it won't be zero or 1; The issue of AL being zero can arise when computing the natural logarithm log(AL). This is because the logarithm is undefined for values less than or equal to zero. To address this issue, a small positive value, called the \"epsilon\", is added to AL to ensure that the logarithm is well-defined. The value of epsilon is usually a small constant such as 1e-8 or 1e-16."
   ]
  },
  {
   "cell_type": "code",
   "execution_count": 15,
   "id": "78b6a932",
   "metadata": {},
   "outputs": [
    {
     "data": {
      "text/plain": [
       "array(0.67128233)"
      ]
     },
     "execution_count": 15,
     "metadata": {},
     "output_type": "execute_result"
    }
   ],
   "source": [
    "# Test function\n",
    "compute_cost(AL, Y)"
   ]
  },
  {
   "cell_type": "markdown",
   "id": "1f9670b8",
   "metadata": {},
   "source": [
    "### Backward Propagation"
   ]
  },
  {
   "cell_type": "code",
   "execution_count": 16,
   "id": "a7aec0fb",
   "metadata": {},
   "outputs": [],
   "source": [
    "def sigmoid_backward(dA, cache):\n",
    "    \"\"\"\n",
    "    arguments:\n",
    "        dA: post-activation gradient, of any shape\n",
    "        cache: it is \"Z\" that we stored to use later in back prop\n",
    "    \n",
    "    returns:\n",
    "        derivative of loss function with respect to Z\n",
    "    \"\"\"\n",
    "    Z = cache\n",
    "    s = 1 / (1 + np.exp(-Z))\n",
    "    dZ = dA * s * (1 - s)\n",
    "    \n",
    "    return dZ"
   ]
  },
  {
   "cell_type": "code",
   "execution_count": 17,
   "id": "854f7913",
   "metadata": {},
   "outputs": [],
   "source": [
    "def relu_backward(dA, cache):\n",
    "    \"\"\"\n",
    "    arguments:\n",
    "        dA: post-activation gradient, of any shape\n",
    "        cache: it is \"Z\" that we stored to use later in back prop\n",
    "    \n",
    "    returns:\n",
    "        derivative of loss function with respect to Z\n",
    "    \"\"\"\n",
    "    Z = cache\n",
    "    dZ = np.array(dA, copy=True)\n",
    "    dZ[Z <= 0] = 0\n",
    "    \n",
    "    return dZ"
   ]
  },
  {
   "cell_type": "markdown",
   "id": "bd3a77b6",
   "metadata": {},
   "source": [
    "Let's say we have dZ, now we are to find:\n",
    "$$ dW^{[l]} = \\frac{\\partial \\mathcal{J} }{\\partial W^{[l]}} = \\frac{1}{m} dZ^{[l]} A^{[l-1] T}$$\n",
    "$$ db^{[l]} = \\frac{\\partial \\mathcal{J} }{\\partial b^{[l]}} = \\frac{1}{m} \\sum_{i = 1}^{m} dZ^{[l](i)}$$\n",
    "$$ dA^{[l-1]} = \\frac{\\partial \\mathcal{L} }{\\partial A^{[l-1]}} = W^{[l] T} dZ^{[l]}$$\n",
    "And for regularization update we have\n",
    "$$\\frac{d}{dW} ( \\frac{1}{2}\\frac{\\lambda}{m}  W^2) = \\frac{\\lambda}{m} W$$"
   ]
  },
  {
   "cell_type": "code",
   "execution_count": 18,
   "id": "4a5b1c3f",
   "metadata": {},
   "outputs": [],
   "source": [
    "def linear_backward(dZ, cache):\n",
    "    \"\"\"\n",
    "    arguments:\n",
    "        dZ: gradient of the cost with respect to the linear output i.e Z\n",
    "        cache: the tupe (A_prev, W, b)\n",
    "    \n",
    "    returns:\n",
    "        dW: gradient of the cost with respect to the weights i.e W\n",
    "        db: gradient of the cost with respect to the intercepts i.e b\n",
    "        dA_prev: gradient of the cost with respect to the activation function in the previous layer\n",
    "    \"\"\"\n",
    "    A_prev, W, b = cache\n",
    "    m = A_prev.shape[1]\n",
    "    dW = np.matmul(dZ, A_prev.T) / m\n",
    "    db = np.sum(dZ, axis=1, keepdims=True) / m\n",
    "    dA_prev = np.matmul(W.T, dZ)\n",
    "    \n",
    "    return dA_prev, dW, db"
   ]
  },
  {
   "cell_type": "code",
   "execution_count": 19,
   "id": "8cdf1f51",
   "metadata": {},
   "outputs": [],
   "source": [
    "def linear_activation_backward(dA, cache, activation):\n",
    "    \"\"\"\n",
    "    arguments:\n",
    "        dA: post-activation gradient for current layer l\n",
    "        cache: tuple contaning (linear_cache, activation_cache)\n",
    "        activation: activation function go to be used in this layer\n",
    "        \n",
    "    returns:\n",
    "        dW: gradient of the cost with respect to the weights i.e W\n",
    "        db: gradient of the cost with respect to the intercepts i.e b\n",
    "        dA_prev: gradient of the cost with respect to the activation function in the previous layer\n",
    "    \"\"\"\n",
    "    \n",
    "    (linear_cache, activation_cache) = cache\n",
    "    if activation == 'relu':\n",
    "        dZ = relu_backward(dA, activation_cache)\n",
    "    elif activation == 'sigmoid':\n",
    "        dZ = sigmoid_backward(dA, activation_cache)\n",
    "    \n",
    "    dA_prev, dW, db = linear_backward(dZ, linear_cache)\n",
    "    return dA_prev, dW, db"
   ]
  },
  {
   "cell_type": "code",
   "execution_count": 20,
   "id": "55c96dcf",
   "metadata": {},
   "outputs": [],
   "source": [
    "def L_model_backward(AL, Y, caches, parameters, lambda_=0, keep_prob=1., epsilon=1e-15):\n",
    "    \"\"\"\n",
    "    arguments:\n",
    "        AL: predicted outputs from the neural network\n",
    "        Y: correct values\n",
    "        caches: cached values in each step of linear forward and linear activation forward\n",
    "        parameters: dictionary of the parameters containing Ws and bs to calculate ||W||F\n",
    "        lambda_: is a scalar as regularization parameter\n",
    "    returns:\n",
    "        gradients that are --> dA_prev, dW, db for each layer\n",
    "    \"\"\"\n",
    "    grads = {}\n",
    "    Y = Y.reshape(AL.shape)\n",
    "    L = len(caches)\n",
    "    m = Y.shape[1]\n",
    "    \n",
    "    current_cache = caches[L - 1]\n",
    "    AL = np.clip(AL, epsilon, 1 - epsilon)\n",
    "    dAL = -(np.divide(Y, AL) - np.divide(1 - Y, 1 - AL))\n",
    "    dA_prev, dW, db = linear_activation_backward(dAL, current_cache, 'sigmoid')\n",
    "    grads['dW' + str(L)] = dW\n",
    "    grads['db' + str(L)] = db\n",
    "    grads['dA' + str(L - 1)] = dA_prev\n",
    "    \n",
    "    for l in reversed(range(L - 1)):\n",
    "        current_cache = caches[l] # caches[l] means, caches from layer l+1\n",
    "        dA_prev, dW, db = linear_activation_backward(grads[\"dA\" + str(l + 1)], current_cache, 'relu')\n",
    "        grads['dW' + str(l + 1)] = dW\n",
    "        grads['db' + str(l + 1)] = db\n",
    "        grads['dA' + str(l)] = dA_prev\n",
    "        \n",
    "    \n",
    "    # This does not calculate d||W||F/dW it calculates d||W||F^2/dW\n",
    "    for l in range(1, L + 1):\n",
    "        grads['dW' + str(l)] += lambda_/m * parameters['W' + str(l)]\n",
    "        \n",
    "        \n",
    "    # Regularization : Dropout\n",
    "    for l in range(1, L):\n",
    "        grad_A = grads['dA' + str(l)]\n",
    "        D = np.random.rand(grad_A.shape[0], grad_A.shape[1])\n",
    "        D = (D <= keep_prob).astype(int)\n",
    "        grad_A = grad_A * D\n",
    "        grads['dA' + str(l)] = grad_A\n",
    "        \n",
    "    return grads"
   ]
  },
  {
   "cell_type": "code",
   "execution_count": 21,
   "id": "80dde1bc",
   "metadata": {},
   "outputs": [
    {
     "data": {
      "text/plain": [
       "{'dW3': array([[ 6.82530518e-06, -2.28889754e-04,  1.77305006e-01,\n",
       "          4.41043727e-02]]),\n",
       " 'db3': array([[-0.0196963]]),\n",
       " 'dA2': array([[-0.01399609,  0.01253561, -0.01375349,  0.01306304],\n",
       "        [ 0.46936548, -0.42038758,  0.46122962, -0.43807501],\n",
       "        [ 0.05145739, -0.04608785,  0.05056544, -0.04802696],\n",
       "        [ 0.03383193, -0.0303016 ,  0.0332455 , -0.03157651]]),\n",
       " 'dW2': array([[-2.89729166e-04, -1.67481098e-04, -3.76135217e-04,\n",
       "          9.05921637e-05, -7.42802737e-05],\n",
       "        [-1.76411286e-04, -3.31183353e-05,  1.52239985e-04,\n",
       "         -1.20895433e-04, -4.17266434e-05],\n",
       "        [-1.60525135e-02, -4.42251320e-03, -2.05669231e-03,\n",
       "         -1.93699658e-04, -2.34135812e-02],\n",
       "        [-1.08412616e-02, -2.93161410e-03, -1.52724781e-03,\n",
       "         -2.30110315e-04, -1.52452167e-02]]),\n",
       " 'db2': array([[0.        ],\n",
       "        [0.        ],\n",
       "        [0.001977  ],\n",
       "        [0.00129983]]),\n",
       " 'dA1': array([[ 0.08102825, -0.07257302,  0.07962373, -0.07562646],\n",
       "        [ 0.03040828, -0.0272352 ,  0.02988119, -0.02838109],\n",
       "        [ 0.0772068 , -0.06915033,  0.07586851, -0.07205977],\n",
       "        [-0.01129668,  0.01011788, -0.01110087,  0.01054358],\n",
       "        [-0.02531424,  0.02267272, -0.02487544,  0.02362665]]),\n",
       " 'dW1': array([[ 0.02913081, -0.01038649,  0.0129522 ],\n",
       "        [ 0.00247346,  0.00390147, -0.01214012],\n",
       "        [ 0.04099708,  0.00959507,  0.01972905],\n",
       "        [ 0.00030867,  0.00196336,  0.00216561],\n",
       "        [-0.01369377, -0.00330236, -0.00632136]]),\n",
       " 'db1': array([[-0.03704987],\n",
       "        [ 0.00826357],\n",
       "        [-0.01801494],\n",
       "        [-0.00024575],\n",
       "        [ 0.00590666]]),\n",
       " 'dA0': array([[ 0.00810431,  0.06811297,  0.00351108,  0.10913332],\n",
       "        [ 0.03176423, -0.08479779,  0.03509016, -0.06328073],\n",
       "        [ 0.01763589, -0.07310297,  0.01372479, -0.16222927]])}"
      ]
     },
     "execution_count": 21,
     "metadata": {},
     "output_type": "execute_result"
    }
   ],
   "source": [
    "# Test function\n",
    "grads = L_model_backward(AL, Y, caches, params, 0.001)\n",
    "grads"
   ]
  },
  {
   "cell_type": "markdown",
   "id": "834f7a8a",
   "metadata": {},
   "source": [
    "### Update Parameters\n",
    "$$ W^{[l]} = W^{[l]} - \\alpha \\text{ } dW^{[l]}$$\n",
    "$$ b^{[l]} = b^{[l]} - \\alpha \\text{ } db^{[l]}$$"
   ]
  },
  {
   "cell_type": "code",
   "execution_count": 22,
   "id": "93327cf8",
   "metadata": {},
   "outputs": [],
   "source": [
    "def update_parameters(params, grads, learning_rate):\n",
    "    \"\"\"\n",
    "    arguments\n",
    "        params: is the parameters that we initialized\n",
    "        grads: gradients that are calculated in \"L_model_backward\"\n",
    "        learning_rate: a decimal illustrating how much of the gradient should effect params\n",
    "    \n",
    "    return:\n",
    "        updated parameters\n",
    "    \"\"\"\n",
    "    L = len(params) // 2\n",
    "    parameters = params.copy()\n",
    "    \n",
    "    for l in range(1, L + 1):\n",
    "        parameters['W' + str(l)] = params['W' + str(l)] - learning_rate * grads['dW' + str(l)]\n",
    "        parameters['b' + str(l)] = params['b' + str(l)] - learning_rate * grads['db' + str(l)]\n",
    "    \n",
    "    return parameters"
   ]
  },
  {
   "cell_type": "code",
   "execution_count": 23,
   "id": "a54e8247",
   "metadata": {},
   "outputs": [
    {
     "data": {
      "text/plain": [
       "{'W1': array([[-0.98293118,  0.72785191,  0.83480227],\n",
       "        [ 0.26649178,  1.04455254,  0.58009143],\n",
       "        [-0.73492195, -0.08197721,  1.41583567],\n",
       "        [ 0.40111402, -0.34922866,  0.32476423],\n",
       "        [-0.76632896, -0.59861578,  0.1250355 ]]),\n",
       " 'b1': array([[ 3.70498707e-04],\n",
       "        [-8.26356620e-05],\n",
       "        [ 1.80149422e-04],\n",
       "        [ 2.45746385e-06],\n",
       "        [-5.90666245e-05]]),\n",
       " 'W2': array([[-1.15891376, -0.66992272, -1.50453711,  0.36236775, -0.29712035],\n",
       "        [-0.70564338, -0.13247301,  0.60895842, -0.48358052, -0.16690616],\n",
       "        [ 1.62681864,  0.45656198,  1.36896347,  0.03540557, -0.61612837],\n",
       "        [-0.07896871,  0.20448302,  0.1999615 , -0.38775151,  0.18938704]]),\n",
       " 'b2': array([[ 0.00000000e+00],\n",
       "        [ 0.00000000e+00],\n",
       "        [-1.97700457e-05],\n",
       "        [-1.29983039e-05]]),\n",
       " 'W3': array([[ 0.02730115, -0.91555673, -0.10214745, -0.06643467]]),\n",
       " 'b3': array([[0.00019696]])}"
      ]
     },
     "execution_count": 23,
     "metadata": {},
     "output_type": "execute_result"
    }
   ],
   "source": [
    "# Test function\n",
    "update_parameters(params, grads, 0.01)"
   ]
  },
  {
   "cell_type": "markdown",
   "id": "c2712bae",
   "metadata": {},
   "source": [
    "## Gradient Test"
   ]
  },
  {
   "cell_type": "code",
   "execution_count": 24,
   "id": "9102e32d",
   "metadata": {},
   "outputs": [],
   "source": [
    "def vector_to_dictionary(vector, parameters):\n",
    "    \"\"\"\n",
    "    Convert a vector into a dictionary of parameters\n",
    "    Arguments:\n",
    "    vector -- The vector to convert\n",
    "    parameters -- A dictionary of parameters, containing the shapes of the parameters\n",
    "    \n",
    "    Returns:\n",
    "    dictionary -- A dictionary of parameters from the vector\n",
    "    \"\"\"\n",
    "    L = len(parameters) // 2\n",
    "    index = 0\n",
    "    for l in range(1, L + 1):\n",
    "        shape = parameters['W' + str(l)].shape\n",
    "        size = np.prod(shape)\n",
    "        parameters['W' + str(l)] = np.reshape(vector[index:index + size], shape)\n",
    "        index += size\n",
    "        \n",
    "        shape = parameters['b' + str(l)].shape\n",
    "        size = np.prod(shape)\n",
    "        parameters['b' + str(l)] = np.reshape(vector[index:index + size], shape)\n",
    "        index += size\n",
    "    return parameters"
   ]
  },
  {
   "cell_type": "code",
   "execution_count": 25,
   "id": "1a4ea889",
   "metadata": {},
   "outputs": [],
   "source": [
    "def dict_to_vector(params):\n",
    "    \"\"\"Flatten dictionary to vector.\"\"\"\n",
    "    L = len(params) // 2\n",
    "    vec = np.array([])\n",
    "    for l in range(1, L + 1):\n",
    "        vec = np.concatenate((vec, params['W' + str(l)].flatten()))\n",
    "        vec = np.concatenate((vec, params['b' + str(l)].flatten()))\n",
    "    return vec"
   ]
  },
  {
   "cell_type": "code",
   "execution_count": 26,
   "id": "862ce78d",
   "metadata": {},
   "outputs": [],
   "source": [
    "def grads_to_vec(grads, L):\n",
    "    \"\"\"Flatten gradients to vector.\"\"\"\n",
    "    vec = np.array([])\n",
    "    for l in range(1, L + 1):\n",
    "        vec = np.concatenate((vec, grads['dW' + str(l)].flatten()))\n",
    "        vec = np.concatenate((vec, grads['db' + str(l)].flatten()))\n",
    "    return vec"
   ]
  },
  {
   "cell_type": "code",
   "execution_count": 27,
   "id": "c74df7ff",
   "metadata": {},
   "outputs": [],
   "source": [
    "def gradient_check(X, Y, parameters, grads, epsilon=1e-7):\n",
    "    \"\"\"\n",
    "    Implement gradient check\n",
    "    \n",
    "    Arguments:\n",
    "    X -- Input data, shape (input size, number of examples)\n",
    "    Y -- True labels, shape (output size, number of examples)\n",
    "    parameters -- Output of initialize_parameters_deep\n",
    "    grads -- Output of backward_propagation\n",
    "    epsilon -- Small epsilon value for numeric approximation of gradient\n",
    "    \n",
    "    Returns:\n",
    "    difference -- Difference between numeric gradient and backprop gradient\n",
    "    \"\"\"\n",
    "    parameters_values = dict_to_vector(parameters)\n",
    "    num_parameters = parameters_values.shape[0]\n",
    "    grad = grads_to_vec(grads, len(parameters) // 2).reshape(-1, 1)\n",
    "    J_plus = np.zeros((num_parameters, 1))\n",
    "    J_minus = np.zeros((num_parameters, 1))\n",
    "    gradapprox = np.zeros((num_parameters, 1))\n",
    "    \n",
    "    for i in range(num_parameters):\n",
    "        thetaplus = np.copy(parameters_values)                                      \n",
    "        thetaplus[i] = thetaplus[i] + epsilon   \n",
    "        AL, _ = L_model_forward(X, vector_to_dictionary(thetaplus, parameters))                 \n",
    "        J_plus[i] = compute_cost(AL, Y, parameters)     \n",
    "        \n",
    "        thetaminus = np.copy(parameters_values)                                     \n",
    "        thetaminus[i] = thetaminus[i] - epsilon                               \n",
    "        AL, _ = L_model_forward(X, vector_to_dictionary(thetaminus, parameters))                \n",
    "        J_minus[i] = compute_cost(AL, Y, parameters)                                            \n",
    "        \n",
    "        gradapprox[i] = (J_plus[i] - J_minus[i]) / (2 * epsilon)                    \n",
    "    \n",
    "    numerator = np.linalg.norm(grad - gradapprox)                                   \n",
    "    denominator = np.linalg.norm(grad) + np.linalg.norm(gradapprox)                \n",
    "    difference = numerator / denominator   \n",
    "    \n",
    "    if difference > 2 * epsilon:\n",
    "        print(\"There is a mistake in the backward propagation! difference = \" + str(difference))\n",
    "    else:\n",
    "        print(\"Your backward propagation works perfectly fine! difference = \" + str(difference))\n",
    "    \n",
    "    return difference, gradapprox, grad"
   ]
  },
  {
   "cell_type": "markdown",
   "id": "ba4b3714",
   "metadata": {},
   "source": [
    "## Test"
   ]
  },
  {
   "cell_type": "code",
   "execution_count": 28,
   "id": "f942585a",
   "metadata": {},
   "outputs": [],
   "source": [
    "X, y = make_classification(n_samples=1345, n_features=2, n_informative=2, n_redundant=0, n_classes=2, class_sep=1,\n",
    "                           scale=[100, 400], n_clusters_per_class=1)"
   ]
  },
  {
   "cell_type": "code",
   "execution_count": 29,
   "id": "190ebc1e",
   "metadata": {},
   "outputs": [
    {
     "data": {
      "image/png": "[encoded data removed]",
      "text/plain": [
       "<Figure size 432x288 with 1 Axes>"
      ]
     },
     "metadata": {},
     "output_type": "display_data"
    }
   ],
   "source": [
    "fig = plt.figure()\n",
    "plt.scatter(X[y == 1, 0], X[y == 1, 1], alpha=0.5);\n",
    "plt.scatter(X[y == 0, 0], X[y == 0, 1], alpha=0.5);\n",
    "ax = plt.gca()\n",
    "ax.set_xlabel('$x_1$');\n",
    "ax.set_ylabel('$x_2$');\n",
    "ax.tick_params(left=False, bottom=False, labelleft=False, labelbottom=False)"
   ]
  },
  {
   "cell_type": "code",
   "execution_count": 30,
   "id": "c980bf98",
   "metadata": {},
   "outputs": [],
   "source": [
    "# Split\n",
    "X_train, X_cv, y_train, y_cv = train_test_split(X, y, test_size=0.4)\n",
    "X_cv, X_test, y_cv, y_test = train_test_split(X_cv, y_cv, test_size=0.5)\n",
    "# Normalization\n",
    "norm = Normalizer().fit(X_train)\n",
    "Xn_train = norm.transform(X_train)"
   ]
  },
  {
   "cell_type": "code",
   "execution_count": 31,
   "id": "e28ae414",
   "metadata": {},
   "outputs": [
    {
     "data": {
      "image/png": "[encoded data removed]",
      "text/plain": [
       "<Figure size 432x288 with 1 Axes>"
      ]
     },
     "metadata": {
      "needs_background": "light"
     },
     "output_type": "display_data"
    }
   ],
   "source": [
    "fig = plt.figure()\n",
    "plt.scatter(Xn_train[y_train == 1, 0], Xn_train[y_train == 1, 1], alpha=0.5);\n",
    "plt.scatter(Xn_train[y_train == 0, 0], Xn_train[y_train == 0, 1], alpha=0.5);\n",
    "ax = plt.gca()\n",
    "ax.set_xlabel('$x_1$');\n",
    "ax.set_ylabel('$x_2$');"
   ]
  },
  {
   "cell_type": "code",
   "execution_count": 32,
   "id": "161d20b0",
   "metadata": {},
   "outputs": [],
   "source": [
    "def model(X, y, iterations=100, learning_rate=0.01, lambda_=0, keep_prob=1., verbos=True, debug_mode=False):\n",
    "    hist = []\n",
    "    parameters = initialize_parameters_deep([2, 50, 50, 50, 1])\n",
    "    \n",
    "    for i in range(1, iterations + 1):\n",
    "        AL, caches = L_model_forward(X, parameters, keep_prob)\n",
    "        grads = L_model_backward(AL, y, caches, parameters, lambda_)\n",
    "                \n",
    "        if debug_mode and i % 100 == 0:\n",
    "            gradient_check(X, y, parameters, grads) # Do gradient check\n",
    "            \n",
    "        parameters = update_parameters(parameters, grads, learning_rate)\n",
    "        cost = compute_cost(AL, y, parameters, lambda_)\n",
    "        hist.append(cost)\n",
    "        if verbos and i % 100 == 0:\n",
    "            print(f'Iteration {i} : cost is {cost}')\n",
    "        \n",
    "    return parameters, grads, hist"
   ]
  },
  {
   "cell_type": "code",
   "execution_count": 33,
   "id": "705b10f5",
   "metadata": {
    "scrolled": false
   },
   "outputs": [
    {
     "name": "stdout",
     "output_type": "stream",
     "text": [
      "Iteration 100 : cost is 0.30026341012558366\n",
      "Iteration 200 : cost is 0.2924172060421717\n",
      "Iteration 300 : cost is 0.2893377215458549\n",
      "Iteration 400 : cost is 0.2875020212466511\n",
      "Iteration 500 : cost is 0.28600919772035477\n",
      "Iteration 600 : cost is 0.28484085753450905\n",
      "Iteration 700 : cost is 0.2841479635466299\n",
      "Iteration 800 : cost is 0.28360303811275517\n",
      "Iteration 900 : cost is 0.2831412692338172\n",
      "Iteration 1000 : cost is 0.28276604266762884\n",
      "Iteration 1100 : cost is 0.28243177345066006\n",
      "Iteration 1200 : cost is 0.28211763327005956\n",
      "Iteration 1300 : cost is 0.28183204448483723\n",
      "Iteration 1400 : cost is 0.2815639480665374\n",
      "Iteration 1500 : cost is 0.28131088908357255\n",
      "Iteration 1600 : cost is 0.2810664761517917\n",
      "Iteration 1700 : cost is 0.2808317886947379\n",
      "Iteration 1800 : cost is 0.2806061529469004\n",
      "Iteration 1900 : cost is 0.28039752284056385\n",
      "Iteration 2000 : cost is 0.2802054653753887\n",
      "Iteration 2100 : cost is 0.28002655052004477\n",
      "Iteration 2200 : cost is 0.2796936385395691\n",
      "Iteration 2300 : cost is 0.2795006919240029\n",
      "Iteration 2400 : cost is 0.2794124192883992\n",
      "Iteration 2500 : cost is 0.2792376236010502\n",
      "Iteration 2600 : cost is 0.27925745282815506\n",
      "Iteration 2700 : cost is 0.27829048828677466\n",
      "Iteration 2800 : cost is 0.2786553810801436\n",
      "Iteration 2900 : cost is 0.2790454568769166\n",
      "Iteration 3000 : cost is 0.2773251539444564\n",
      "Iteration 3100 : cost is 0.27684995241308685\n",
      "Iteration 3200 : cost is 0.27886950488028817\n",
      "Iteration 3300 : cost is 0.2789843582746463\n",
      "Iteration 3400 : cost is 0.27749640881479687\n",
      "Iteration 3500 : cost is 0.2771456154761558\n",
      "Iteration 3600 : cost is 0.27616040459415925\n",
      "Iteration 3700 : cost is 0.2762333101754864\n",
      "Iteration 3800 : cost is 0.27612742111334165\n",
      "Iteration 3900 : cost is 0.27618118814042086\n",
      "Iteration 4000 : cost is 0.2764329789990393\n",
      "Iteration 4100 : cost is 0.27668515045502495\n",
      "Iteration 4200 : cost is 0.27665004524928055\n",
      "Iteration 4300 : cost is 0.27650160457798323\n",
      "Iteration 4400 : cost is 0.276178805659249\n",
      "Iteration 4500 : cost is 0.27566041911763617\n",
      "Iteration 4600 : cost is 0.2755872041297761\n",
      "Iteration 4700 : cost is 0.27654992757957764\n",
      "Iteration 4800 : cost is 0.27625634155581363\n",
      "Iteration 4900 : cost is 0.27532626636693697\n",
      "Iteration 5000 : cost is 0.27534879435209203\n",
      "Iteration 5100 : cost is 0.27573470514716253\n",
      "Iteration 5200 : cost is 0.27514960814489164\n",
      "Iteration 5300 : cost is 0.27531160213865413\n",
      "Iteration 5400 : cost is 0.2750522879451569\n",
      "Iteration 5500 : cost is 0.2751641938250741\n",
      "Iteration 5600 : cost is 0.27591399792000987\n",
      "Iteration 5700 : cost is 0.275246718220283\n",
      "Iteration 5800 : cost is 0.2743549221726649\n",
      "Iteration 5900 : cost is 0.2751447280607482\n",
      "Iteration 6000 : cost is 0.27493994190026605\n",
      "Iteration 6100 : cost is 0.2748943922913943\n",
      "Iteration 6200 : cost is 0.2753121458851905\n",
      "Iteration 6300 : cost is 0.27416043088011377\n",
      "Iteration 6400 : cost is 0.2748557588946037\n",
      "Iteration 6500 : cost is 0.2747108057679574\n",
      "Iteration 6600 : cost is 0.27466928550868797\n",
      "Iteration 6700 : cost is 0.2747596365378347\n",
      "Iteration 6800 : cost is 0.2744811170829971\n",
      "Iteration 6900 : cost is 0.27444562419702173\n",
      "Iteration 7000 : cost is 0.27446841603661637\n",
      "Iteration 7100 : cost is 0.2744119337848442\n",
      "Iteration 7200 : cost is 0.27434999383825553\n",
      "Iteration 7300 : cost is 0.27431948377185605\n",
      "Iteration 7400 : cost is 0.2742477456157591\n",
      "Iteration 7500 : cost is 0.27416534821768634\n",
      "Iteration 7600 : cost is 0.27413527440073965\n",
      "Iteration 7700 : cost is 0.2741830719288223\n",
      "Iteration 7800 : cost is 0.2741103735449055\n",
      "Iteration 7900 : cost is 0.2740058158541015\n",
      "Iteration 8000 : cost is 0.27402801118050163\n",
      "Iteration 8100 : cost is 0.27393292301750033\n",
      "Iteration 8200 : cost is 0.2739049089729716\n",
      "Iteration 8300 : cost is 0.2735805099845655\n",
      "Iteration 8400 : cost is 0.273879459589644\n",
      "Iteration 8500 : cost is 0.27367956572303076\n",
      "Iteration 8600 : cost is 0.27371699551277556\n",
      "Iteration 8700 : cost is 0.27331009708399717\n",
      "Iteration 8800 : cost is 0.27352331447827133\n",
      "Iteration 8900 : cost is 0.2735891325595307\n",
      "Iteration 9000 : cost is 0.27352387554420643\n",
      "Iteration 9100 : cost is 0.2730401760620012\n",
      "Iteration 9200 : cost is 0.2750454406233939\n",
      "Iteration 9300 : cost is 0.27267844533032143\n",
      "Iteration 9400 : cost is 0.27476400955035607\n",
      "Iteration 9500 : cost is 0.2751056134492826\n",
      "Iteration 9600 : cost is 0.27255566186758523\n",
      "Iteration 9700 : cost is 0.2722277283094771\n",
      "Iteration 9800 : cost is 0.2738011525843557\n",
      "Iteration 9900 : cost is 0.2749786124684465\n",
      "Iteration 10000 : cost is 0.2726366587724755\n"
     ]
    }
   ],
   "source": [
    "params, grads, hist = model(Xn_train.T, y_train, iterations=10000, learning_rate=.1, debug_mode=False)"
   ]
  },
  {
   "cell_type": "code",
   "execution_count": 34,
   "id": "17468a63",
   "metadata": {},
   "outputs": [],
   "source": [
    "def predict(X, parameters):\n",
    "    y_hat, _ = L_model_forward(X, parameters)\n",
    "    y_hat[y_hat > 0.5] = 1\n",
    "    y_hat[y_hat <= 0.5] = 0\n",
    "    return y_hat"
   ]
  },
  {
   "cell_type": "code",
   "execution_count": 35,
   "id": "5b790880",
   "metadata": {},
   "outputs": [],
   "source": [
    "y_hat = predict(Xn_train.T, params)"
   ]
  },
  {
   "cell_type": "code",
   "execution_count": 36,
   "id": "c9a8fa8e",
   "metadata": {},
   "outputs": [
    {
     "data": {
      "text/plain": [
       "0.8822800495662949"
      ]
     },
     "execution_count": 36,
     "metadata": {},
     "output_type": "execute_result"
    }
   ],
   "source": [
    "(y_train.reshape(y_hat.shape) == y_hat).sum() / y_hat.shape[1]"
   ]
  },
  {
   "cell_type": "code",
   "execution_count": 37,
   "id": "6b228ad4",
   "metadata": {},
   "outputs": [],
   "source": [
    "y_hat = predict(norm.transform(X_cv).T, params)"
   ]
  },
  {
   "cell_type": "code",
   "execution_count": 38,
   "id": "39f76600",
   "metadata": {},
   "outputs": [
    {
     "data": {
      "text/plain": [
       "0.9070631970260223"
      ]
     },
     "execution_count": 38,
     "metadata": {},
     "output_type": "execute_result"
    }
   ],
   "source": [
    "(y_cv == y_hat).sum() / y_hat.shape[1]"
   ]
  },
  {
   "cell_type": "code",
   "execution_count": 39,
   "id": "aa528ddc",
   "metadata": {
    "scrolled": true
   },
   "outputs": [],
   "source": [
    "y_hat = predict(norm.transform(X_test).T, params)"
   ]
  },
  {
   "cell_type": "code",
   "execution_count": 40,
   "id": "9d0ee04e",
   "metadata": {},
   "outputs": [
    {
     "data": {
      "text/plain": [
       "0.8736059479553904"
      ]
     },
     "execution_count": 40,
     "metadata": {},
     "output_type": "execute_result"
    }
   ],
   "source": [
    "(y_test == y_hat).sum() / y_hat.shape[1]"
   ]
  },
  {
   "cell_type": "code",
   "execution_count": 41,
   "id": "e1e74c8d",
   "metadata": {},
   "outputs": [],
   "source": [
    "def plot(X_in, y_in, params, r=0):\n",
    "    plt.figure()\n",
    "    x_min, x_max = X_in[0, :].min(), X_in[0, :].max()\n",
    "    y_min, y_max = X_in[1, :].min(), X_in[1, :].max()\n",
    "    x_min, x_max, y_min, y_max = x_min - r, x_max + r, y_min - r, y_max + r\n",
    "    \n",
    "    x = np.linspace(x_min, x_max, 1000)\n",
    "    y = np.linspace(y_min, y_max, 1000)\n",
    "    X, Y = np.meshgrid(x, y)\n",
    "    xx, yy = X.flatten().reshape(1, -1), Y.flatten().reshape(1, -1)\n",
    "    data = np.vstack((xx, yy))\n",
    "    Z, _ = L_model_forward(data, params)\n",
    "    plt.contourf(X, Y, Z.reshape(X.shape), cmap='OrRd')\n",
    "    plt.colorbar()\n",
    "    \n",
    "    plt.scatter(X_in[y_in == 1, 0], X_in[y_in == 1, 1], alpha=0.75, label='Y = 1', c='yellow');\n",
    "    plt.scatter(X_in[y_in == 0, 0], X_in[y_in == 0, 1], alpha=0.75, label='Y = 0', c='red');\n",
    "    \n",
    "    ax = plt.gca()\n",
    "    ax.set_xlim([x_min, x_max])\n",
    "    ax.set_ylim([y_min, y_max])\n",
    "    plt.legend()"
   ]
  },
  {
   "cell_type": "code",
   "execution_count": 42,
   "id": "48af91fe",
   "metadata": {},
   "outputs": [
    {
     "data": {
      "image/png": "[encoded data removed]",
      "text/plain": [
       "<Figure size 432x288 with 2 Axes>"
      ]
     },
     "metadata": {
      "needs_background": "light"
     },
     "output_type": "display_data"
    }
   ],
   "source": [
    "plot(Xn_train, y_train, params, 2)"
   ]
  }
 ],
 "metadata": {
  "kernelspec": {
   "display_name": "Python 3 (ipykernel)",
   "language": "python",
   "name": "python3"
  },
  "language_info": {
   "codemirror_mode": {
    "name": "ipython",
    "version": 3
   },
   "file_extension": ".py",
   "mimetype": "text/x-python",
   "name": "python",
   "nbconvert_exporter": "python",
   "pygments_lexer": "ipython3",
   "version": "3.10.4"
  }
 },
 "nbformat": 4,
 "nbformat_minor": 5
}
