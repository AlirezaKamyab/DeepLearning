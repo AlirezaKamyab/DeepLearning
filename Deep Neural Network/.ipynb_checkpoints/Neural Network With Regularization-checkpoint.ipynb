{
 "cells": [
  {
   "cell_type": "markdown",
   "id": "a5ef4287",
   "metadata": {},
   "source": [
    "# Deep Neural Network"
   ]
  },
  {
   "cell_type": "markdown",
   "id": "d48caba8",
   "metadata": {},
   "source": [
    "## Notations and demonstrations\n",
    "- $m$ is denoted as the number of training examples\n",
    "- $n$ is denoted as the number of the features\n",
    "- $X$ is a matrix that each column is a training example and each row is a feature <br>\n",
    "$\n",
    "X = \n",
    "\\begin{bmatrix}\n",
    "    \\displaystyle\n",
    "    x^{(1)}_{1} & x^{(2)}_{1} & \\dots & x^{(m)}_{1} \\\\\n",
    "    x^{(1)}_{2} & x^{(2)}_{2} & \\dots & x^{(m)}_{2} \\\\\n",
    "    & \\vdots & \\vdots & \\\\\n",
    "    x^{(1)}_{n} & x^{(2)}_{n} & \\dots & x^{(m)}_{n} \\\\\n",
    "\\end{bmatrix}_{n_x \\times m}\n",
    "$\n",
    "- $y$ is a vector denoted as the labels <br>\n",
    "$\n",
    "y = \n",
    "\\begin{bmatrix}\n",
    "    y_1 & y_2 & \\dots & y_m\n",
    "\\end{bmatrix}\n",
    "$\n",
    "- $w$ is a vector of weights <br>\n",
    "$\n",
    "w = \n",
    "\\begin{bmatrix}\n",
    "\\displaystyle\n",
    "    w_1\\\\\n",
    "    w_2\\\\\n",
    "    \\vdots\\\\\n",
    "    w_n\n",
    "\\end{bmatrix}\n",
    "$\n",
    "<br> <br>\n",
    "Neural networks might have multiple layers; each layers contains multiple perceptron and each themselves could be logistic function or ...; so for each we need different vector of weights that could be obtained via stacking each function's weights in a matrix;\n",
    "<br>\n",
    "- $W^{[1]}$ is a matrix for the first layer of the neural network; for example, if the first layer contains 4 logistic functions we have<br>\n",
    "$\n",
    "W^{[1]} =\n",
    "\\displaystyle\n",
    "\\begin{bmatrix}\n",
    "    \\dots & w_1^{[1]T} & \\dots\\\\\n",
    "    \\dots & w_2^{[1]T} & \\dots\\\\\n",
    "    \\dots & w_3^{[1]T} & \\dots\\\\\n",
    "    \\dots & w_4^{[1]T} & \\dots\\\\\n",
    "\\end{bmatrix}_{4, n}\n",
    "$\n",
    "<br><br>\n",
    "Since we have multiple functions in each layer, we need multiple intercepts.\n",
    "- $b$ is vector of intercepts; If we have 4 logistic function in the first layer, it would be like below <br>\n",
    "$\n",
    "b^{[1]} = \n",
    "\\displaystyle\n",
    "\\begin{bmatrix}\n",
    "    b_1^{[1]}\\\\\n",
    "    b_2^{[1]}\\\\\n",
    "    b_3^{[1]}\\\\\n",
    "    b_4^{[1]}\\\\\n",
    "\\end{bmatrix}\n",
    "$\n",
    "<br><br>\n",
    "For calculating $Z$ we have\n",
    "$$\n",
    "Z^{[1]} = \n",
    "\\begin{bmatrix}\n",
    "    \\dots & w_1^{[1]T} & \\dots\\\\\n",
    "    \\dots & w_2^{[1]T} & \\dots\\\\\n",
    "    \\dots & w_3^{[1]T} & \\dots\\\\\n",
    "    \\dots & w_4^{[1]T} & \\dots\\\\\n",
    "\\end{bmatrix}_{4, n}\n",
    "\\begin{bmatrix}\n",
    "    \\displaystyle\n",
    "    x^{(1)} & x^{(2)} & \\dots & x^{(m)}\n",
    "\\end{bmatrix}_{n_x \\times m} + \n",
    "\\begin{bmatrix}\n",
    "    b_1^{[1]}\\\\\n",
    "    b_2^{[1]}\\\\\n",
    "    b_3^{[1]}\\\\\n",
    "    b_4^{[1]}\\\\\n",
    "\\end{bmatrix}\n",
    "$$\n",
    "The result will be\n",
    "$$\n",
    "Z^{[1]} = \n",
    "\\begin{bmatrix}\n",
    "    \\displaystyle\n",
    "    W_1^{[1]T}.x^{(1)} + b_1^{[1]}\\\\\n",
    "    W_2^{[1]T}.x^{(2)} + b_2^{[1]}\\\\\n",
    "    W_3^{[1]T}.x^{(3)} + b_3^{[1]}\\\\\n",
    "    W_4^{[1]T}.x^{(4)} + b_4^{[1]}\\\\\n",
    "\\end{bmatrix}\n",
    "=\n",
    "\\begin{bmatrix}\n",
    "    \\displaystyle\n",
    "    Z_1^{[1]}\\\\\n",
    "    Z_2^{[1]}\\\\\n",
    "    Z_3^{[1]}\\\\\n",
    "    Z_4^{[1]}\\\\\n",
    "\\end{bmatrix}_{4, m}\n",
    "$$\n",
    "\n",
    "Applying the activation function for the first layer containing 4 perceptrons we have\n",
    "$$\n",
    "a^{[1]} = \n",
    "\\begin{bmatrix}\n",
    "    \\displaystyle\n",
    "    a_1^{[1]}\\\\\n",
    "    a_2^{[1]}\\\\\n",
    "    a_3^{[1]}\\\\\n",
    "    a_4^{[1]}\\\\\n",
    "\\end{bmatrix}\n",
    "= G(Z^{[1]})\n",
    "$$"
   ]
  },
  {
   "cell_type": "markdown",
   "id": "1d553824",
   "metadata": {},
   "source": [
    "## Activation functions\n",
    "- Sigmoid\n",
    "$$\n",
    "    \\begin{equation}\n",
    "        a = g(z) = \\displaystyle\\frac{1}{1 + e^{-z}} \\\\\n",
    "    \\end{equation}\n",
    "$$\n",
    "<img src=\"https://upload.wikimedia.org/wikipedia/commons/8/88/Logistic-curve.svg\" width=\"300px\" height=\"300px\"/>\n",
    "\n",
    "    - Derivative\n",
    "    $$\n",
    "        \\begin{equation}\n",
    "            g'(z) = \\frac{dg(z)}{dz} = \\frac{1}{1 + e^{-z}}(1 - \\frac{1}{1 + e^{-z}}) \\\\ \n",
    "            g'(z) = g(z)(1 - g(z)) = a(1 - a)\n",
    "        \\end{equation}\n",
    "    $$\n",
    "    Calculations :\n",
    "    $$\n",
    "        \\begin{equation}\n",
    "            \\frac{d}{dz}g(z) = \\frac{0 - (-e^{-z})}{(1 + e^{-z})^2} = \\frac{e^{-z}}{(1 + e^{-z})^2} = \\\\\n",
    "                \\frac{e^{-z} + 1 - 1}{1 + e^{-z}} \\times \\frac{1}{1 + e^{-z}} = \\\\\n",
    "                (1 - \\frac{1}{1 + e^{-z}})\\frac{1}{1+e^{-z}}\n",
    "        \\end{equation}\n",
    "    $$\n",
    "    <br><br>\n",
    "\n",
    "- tanh\n",
    "$$\n",
    "    \\begin{equation}\n",
    "        a = g(z) = \\frac{e^z - e^{-z}}{e^z + e^{-z}}\n",
    "    \\end{equation}\n",
    "$$\n",
    "<img src=\"https://upload.wikimedia.org/wikipedia/commons/7/76/Sinh_cosh_tanh.svg\" width=\"300px\" height=\"300px\"/>\n",
    "\n",
    "    - Derivative\n",
    "    $$\n",
    "        \\begin{equation}\n",
    "        g'(z) = \\frac{d}{dz}tanh(z) = 1 - (tanh(z))^2\\\\\n",
    "        g'(z) = 1 - a^2\n",
    "        \\end{equation}\n",
    "    $$\n",
    "    Calculations:\n",
    "    $$\n",
    "        \\begin{equation}\n",
    "            \\frac{d}{dz} tanh(z) = \\frac{(e^z+e^{-z}) - (e^z-e^{-z})}{(e^z+e^{-z})^2} = \\\\\n",
    "            1 - \\frac{(e^z-e^{-z})}{e^z+e^{-z}} = 1 - (tanh(z))^2\n",
    "        \\end{equation}\n",
    "    $$\n",
    "\n",
    "<br><br>\n",
    "- ReLU\n",
    "$$\n",
    "    a = max(0, z)\n",
    "$$\n",
    "<img src=\"https://upload.wikimedia.org/wikipedia/commons/4/42/ReLU_and_GELU.svg\" width=\"300px\" height=\"300px\"/>\n",
    "\n",
    "    - Derivative\n",
    "    $$\n",
    "    g'(z) = \n",
    "        \\begin{equation}\n",
    "            \\begin{cases}\n",
    "            0 & z < 0\\\\\n",
    "            1 & z \\ge 0\n",
    "            \\end{cases}\n",
    "        \\end{equation}\n",
    "    $$\n",
    "    \n",
    "<br><br>\n",
    "- leaky ReLU\n",
    "$$\n",
    "    a = max(0.01z, z)\n",
    "$$\n",
    "\n",
    "    - Derivative\n",
    "    \n",
    "    $$\n",
    "    g'(z) = \n",
    "        \\begin{equation}\n",
    "            \\begin{cases}\n",
    "            0.01 & z < 0\\\\\n",
    "            1 & z \\ge 0\n",
    "            \\end{cases}\n",
    "        \\end{equation}\n",
    "    $$\n",
    "    "
   ]
  },
  {
   "cell_type": "code",
   "execution_count": 1,
   "id": "d445d7d5",
   "metadata": {},
   "outputs": [],
   "source": [
    "import numpy as np\n",
    "import matplotlib.pyplot as plt\n",
    "from sklearn.datasets import make_classification, make_blobs\n",
    "from sklearn.model_selection import train_test_split\n",
    "from sklearn.preprocessing import Normalizer"
   ]
  },
  {
   "cell_type": "markdown",
   "id": "6141d79f",
   "metadata": {},
   "source": [
    "## Implement L-Layered Neural Network functions"
   ]
  },
  {
   "cell_type": "markdown",
   "id": "a0736d04",
   "metadata": {},
   "source": [
    "### Initialization"
   ]
  },
  {
   "cell_type": "code",
   "execution_count": 2,
   "id": "e042caf3",
   "metadata": {},
   "outputs": [],
   "source": [
    "def initialize_parameters_deep(layer_dims):\n",
    "    \"\"\"\n",
    "    arguments:\n",
    "        layer_dims: A list that contains the size of each layer\n",
    "        \n",
    "    returns:\n",
    "        dict: parameters for each layer\n",
    "    \"\"\"\n",
    "    \n",
    "    params = {}\n",
    "    L = len(layer_dims)\n",
    "    for l in range(1, L):\n",
    "        # This uses He initialization\n",
    "        params['W' + str(l)] = np.random.randn(layer_dims[l], layer_dims[l - 1]) * np.sqrt(2 / layer_dims[l - 1])\n",
    "        params['b' + str(l)] = np.zeros((layer_dims[l], 1))\n",
    "    return params"
   ]
  },
  {
   "cell_type": "code",
   "execution_count": 3,
   "id": "639e330f",
   "metadata": {},
   "outputs": [
    {
     "name": "stdout",
     "output_type": "stream",
     "text": [
      "W1 :\n",
      "[[ 0.9094503   0.10536354 -0.30234584]\n",
      " [-0.7084504  -0.45743258  1.35079971]\n",
      " [-0.49421605 -0.88088609 -0.17735906]\n",
      " [-0.2733119  -0.53538055 -0.8001474 ]\n",
      " [ 0.51919423  0.84704092 -0.14032594]]\n",
      "b1 :\n",
      "[[0.]\n",
      " [0.]\n",
      " [0.]\n",
      " [0.]\n",
      " [0.]]\n",
      "W2 :\n",
      "[[ 0.14584137 -0.3155734  -0.24199792  0.38345672  0.42641999]\n",
      " [ 1.45925775 -0.5178009  -0.21130413  0.06121076  0.55865999]\n",
      " [ 0.00640508  0.75751941 -0.23502169  0.86280028 -0.02658873]\n",
      " [ 0.3689824  -0.10465924 -0.49905966 -0.09746469 -0.05343094]]\n",
      "b2 :\n",
      "[[0.]\n",
      " [0.]\n",
      " [0.]\n",
      " [0.]]\n",
      "W3 :\n",
      "[[-0.50292507  0.05203839  1.05296482  0.56963414]]\n",
      "b3 :\n",
      "[[0.]]\n"
     ]
    }
   ],
   "source": [
    "# Test function\n",
    "params = initialize_parameters_deep([3, 5, 4, 1])\n",
    "for k, v in params.items():\n",
    "    print(k, \":\")\n",
    "    print(v)"
   ]
  },
  {
   "cell_type": "markdown",
   "id": "d428b907",
   "metadata": {},
   "source": [
    "### Forward Propagation"
   ]
  },
  {
   "cell_type": "markdown",
   "id": "31941956",
   "metadata": {},
   "source": [
    "#### Linear forward\n",
    "Here we need to calculate $Z^{[l]} = W^{[l]}.A^{[l-1]} + b^{[l]}$"
   ]
  },
  {
   "cell_type": "code",
   "execution_count": 4,
   "id": "4871a952",
   "metadata": {},
   "outputs": [],
   "source": [
    "def linear_forward(A, W, b):\n",
    "    \"\"\"\n",
    "    arguments:\n",
    "        A: activations from previous layer or inputs, shape=(size of l-1, m)\n",
    "        W: weights from layer l, shape=(size of layer l, size of layer l-1)\n",
    "        b: intercepts from layer l, shape(size of layer l, 1)\n",
    "        \n",
    "    returns:\n",
    "        Z: forward calculation\n",
    "        cache: The same arguments useful for backward propagation\n",
    "    \"\"\"\n",
    "    Z = np.dot(W, A) + b\n",
    "    cache = (A, W, b)\n",
    "    \n",
    "    return Z, cache"
   ]
  },
  {
   "cell_type": "code",
   "execution_count": 5,
   "id": "7834cbef",
   "metadata": {},
   "outputs": [
    {
     "name": "stdout",
     "output_type": "stream",
     "text": [
      "[[-0.07095611  1.87334622 -0.67749287  0.06872506]\n",
      " [-0.46391317 -0.20803135  0.58696574  0.34644126]\n",
      " [ 0.17518866  0.22868797  0.569181   -0.9727804 ]\n",
      " [ 0.41691377 -0.16710824  0.34392902 -1.0361631 ]\n",
      " [-0.03647831 -0.27971729 -0.57132303  0.74171611]]\n",
      "[[-0.23287839  2.43974371 -0.72637285  0.19136119]\n",
      " [ 0.02388783 -1.73663053 -0.23348567  0.8660628 ]\n",
      " [-0.45748373  0.53747027 -0.02549404  0.650116  ]]\n",
      "[[ 0.9094503   0.10536354 -0.30234584]\n",
      " [-0.7084504  -0.45743258  1.35079971]\n",
      " [-0.49421605 -0.88088609 -0.17735906]\n",
      " [-0.2733119  -0.53538055 -0.8001474 ]\n",
      " [ 0.51919423  0.84704092 -0.14032594]]\n",
      "[[0.]\n",
      " [0.]\n",
      " [0.]\n",
      " [0.]\n",
      " [0.]]\n"
     ]
    }
   ],
   "source": [
    "X = np.random.randn(3, 4)\n",
    "Y = np.array([[1, 0, 1, 0]])\n",
    "Z, cache = linear_forward(X, params['W1'], params['b1'])\n",
    "print(Z)\n",
    "print(cache[0])\n",
    "print(cache[1])\n",
    "print(cache[2])"
   ]
  },
  {
   "cell_type": "code",
   "execution_count": 6,
   "id": "83e9c78f",
   "metadata": {},
   "outputs": [],
   "source": [
    "def sigmoid(Z):\n",
    "    \"\"\"\n",
    "    arguments:\n",
    "        Z: a matrix calculated in \"linear_forward\" step\n",
    "        \n",
    "    returns:\n",
    "        A: activation function of sigmoid(Z)\n",
    "        cache: The same arguments useful for backward propagation\n",
    "    \"\"\"\n",
    "    cache = Z\n",
    "    A = 1 / (1 + np.exp(-Z))\n",
    "    \n",
    "    return A, cache"
   ]
  },
  {
   "cell_type": "code",
   "execution_count": 7,
   "id": "7763be2d",
   "metadata": {},
   "outputs": [],
   "source": [
    "def relu(Z):\n",
    "    \"\"\"\n",
    "    arguments:\n",
    "        Z: a matrix calculated in \"linear_forward\" step\n",
    "        \n",
    "    returns:\n",
    "        A: activation function of relu(Z)\n",
    "        cache: The same arguments useful for backward propagation\n",
    "    \"\"\"\n",
    "    cache = Z\n",
    "    A = np.maximum(0, Z)\n",
    "    \n",
    "    return A, cache"
   ]
  },
  {
   "cell_type": "code",
   "execution_count": 8,
   "id": "d49a3e1c",
   "metadata": {},
   "outputs": [],
   "source": [
    "def linear_activation_forward(A_prev, W, b, activation):\n",
    "    \"\"\"\n",
    "    arguments:\n",
    "        A: activations from previous layer or inputs, shape=(size of l-1, m)\n",
    "        W: weights from layer l, shape=(size of layer l, size of layer l-1)\n",
    "        b: intercepts from layer l, shape(size of layer l, 1)\n",
    "        activation: A string that specifies what type of activiation function to use (sigmoid or ReLU)\n",
    "    \n",
    "    returns:\n",
    "        A: activation calculated\n",
    "        cache: to be used for backward propagation\n",
    "    \"\"\"\n",
    "    Z, linear_cache = linear_forward(A_prev, W, b)\n",
    "    \n",
    "    if activation == 'relu':\n",
    "        A, activation_cache = relu(Z)\n",
    "    elif activation == 'sigmoid':\n",
    "        A, activation_cache = sigmoid(Z)\n",
    "    else:\n",
    "        A, activation_cache = Z, Z\n",
    "    \n",
    "    cache = (linear_cache, activation_cache)\n",
    "    \n",
    "    return A, cache"
   ]
  },
  {
   "cell_type": "code",
   "execution_count": 9,
   "id": "ed1272e8",
   "metadata": {},
   "outputs": [
    {
     "name": "stdout",
     "output_type": "stream",
     "text": [
      "[[0.         1.87334622 0.         0.06872506]\n",
      " [0.         0.         0.58696574 0.34644126]\n",
      " [0.17518866 0.22868797 0.569181   0.        ]\n",
      " [0.41691377 0.         0.34392902 0.        ]\n",
      " [0.         0.         0.         0.74171611]]\n",
      "(array([[-0.23287839,  2.43974371, -0.72637285,  0.19136119],\n",
      "       [ 0.02388783, -1.73663053, -0.23348567,  0.8660628 ],\n",
      "       [-0.45748373,  0.53747027, -0.02549404,  0.650116  ]]), array([[ 0.9094503 ,  0.10536354, -0.30234584],\n",
      "       [-0.7084504 , -0.45743258,  1.35079971],\n",
      "       [-0.49421605, -0.88088609, -0.17735906],\n",
      "       [-0.2733119 , -0.53538055, -0.8001474 ],\n",
      "       [ 0.51919423,  0.84704092, -0.14032594]]), array([[0.],\n",
      "       [0.],\n",
      "       [0.],\n",
      "       [0.],\n",
      "       [0.]]))\n",
      "[[-0.07095611  1.87334622 -0.67749287  0.06872506]\n",
      " [-0.46391317 -0.20803135  0.58696574  0.34644126]\n",
      " [ 0.17518866  0.22868797  0.569181   -0.9727804 ]\n",
      " [ 0.41691377 -0.16710824  0.34392902 -1.0361631 ]\n",
      " [-0.03647831 -0.27971729 -0.57132303  0.74171611]]\n"
     ]
    }
   ],
   "source": [
    "A, cache = linear_activation_forward(X, params[\"W1\"], params[\"b1\"], activation='relu')\n",
    "print(A)\n",
    "print(cache[0])\n",
    "print(cache[1])"
   ]
  },
  {
   "cell_type": "code",
   "execution_count": 10,
   "id": "fa7a161a",
   "metadata": {},
   "outputs": [],
   "source": [
    "def L_model_forward(X, parameters=None, keep_prob=1.):\n",
    "    \"\"\"\n",
    "    arguments:\n",
    "        X: numpy array, shape=(input size, input examples i.e m)\n",
    "        parameters: output of initialize_parameters_deep\n",
    "        keep_prob: the probability of which each perceptron is kept\n",
    "        \n",
    "    returns:\n",
    "        AL: activation value from the output layer\n",
    "        caches: Caches from calling Linear activation forward, the size is L since there are L layers\n",
    "    \"\"\"\n",
    "    caches = []\n",
    "    L = len(parameters) // 2\n",
    "    A_prev = X\n",
    "    \n",
    "    for l in range(1, L):\n",
    "        Wl = parameters['W' + str(l)]\n",
    "        bl = parameters['b' + str(l)]\n",
    "        A, cache = linear_activation_forward(A_prev, Wl, bl, 'relu')\n",
    "        caches.append(cache)\n",
    "        \n",
    "        # Regularization : Drop out\n",
    "        D = np.random.rand(A.shape[0], A.shape[1])\n",
    "        D = (D <= keep_prob).astype(int)\n",
    "        A = A * D\n",
    "        A /= keep_prob\n",
    "        \n",
    "        A_prev = A\n",
    "        \n",
    "    WL = parameters['W' + str(L)]\n",
    "    bL = parameters['b' + str(L)]\n",
    "    AL, cache = linear_activation_forward(A_prev, WL, bL, 'sigmoid')\n",
    "    caches.append(cache)\n",
    "    \n",
    "    return AL, caches"
   ]
  },
  {
   "cell_type": "code",
   "execution_count": 11,
   "id": "b9f8aa1a",
   "metadata": {},
   "outputs": [
    {
     "name": "stdout",
     "output_type": "stream",
     "text": [
      "[[0.5686466  0.58877606 0.65470646 0.54099692]]\n",
      "\n",
      "\n",
      "[((array([[-0.23287839,  2.43974371, -0.72637285,  0.19136119],\n",
      "       [ 0.02388783, -1.73663053, -0.23348567,  0.8660628 ],\n",
      "       [-0.45748373,  0.53747027, -0.02549404,  0.650116  ]]), array([[ 0.9094503 ,  0.10536354, -0.30234584],\n",
      "       [-0.7084504 , -0.45743258,  1.35079971],\n",
      "       [-0.49421605, -0.88088609, -0.17735906],\n",
      "       [-0.2733119 , -0.53538055, -0.8001474 ],\n",
      "       [ 0.51919423,  0.84704092, -0.14032594]]), array([[0.],\n",
      "       [0.],\n",
      "       [0.],\n",
      "       [0.],\n",
      "       [0.]])), array([[-0.07095611,  1.87334622, -0.67749287,  0.06872506],\n",
      "       [-0.46391317, -0.20803135,  0.58696574,  0.34644126],\n",
      "       [ 0.17518866,  0.22868797,  0.569181  , -0.9727804 ],\n",
      "       [ 0.41691377, -0.16710824,  0.34392902, -1.0361631 ],\n",
      "       [-0.03647831, -0.27971729, -0.57132303,  0.74171611]])), ((array([[0.        , 1.87334622, 0.        , 0.06872506],\n",
      "       [0.        , 0.        , 0.58696574, 0.34644126],\n",
      "       [0.17518866, 0.22868797, 0.569181  , 0.        ],\n",
      "       [0.41691377, 0.        , 0.34392902, 0.        ],\n",
      "       [0.        , 0.        , 0.        , 0.74171611]]), array([[ 0.14584137, -0.3155734 , -0.24199792,  0.38345672,  0.42641999],\n",
      "       [ 1.45925775, -0.5178009 , -0.21130413,  0.06121076,  0.55865999],\n",
      "       [ 0.00640508,  0.75751941, -0.23502169,  0.86280028, -0.02658873],\n",
      "       [ 0.3689824 , -0.10465924, -0.49905966, -0.09746469, -0.05343094]]), array([[0.],\n",
      "       [0.],\n",
      "       [0.],\n",
      "       [0.]])), array([[ 0.1174731 ,  0.21786937, -0.1910895 ,  0.21697789],\n",
      "       [-0.01149848,  2.68537228, -0.40314953,  0.33526709],\n",
      "       [ 0.31854019, -0.04174771,  0.60761013,  0.24315488],\n",
      "       [-0.12806396,  0.57710285, -0.37900759, -0.05053053]])), ((array([[0.1174731 , 0.21786937, 0.        , 0.21697789],\n",
      "       [0.        , 2.68537228, 0.        , 0.33526709],\n",
      "       [0.31854019, 0.        , 0.60761013, 0.24315488],\n",
      "       [0.        , 0.57710285, 0.        , 0.        ]]), array([[-0.50292507,  0.05203839,  1.05296482,  0.56963414]]), array([[0.]])), array([[0.27633144, 0.35890796, 0.63979209, 0.16435667]]))]\n"
     ]
    }
   ],
   "source": [
    "AL, caches = L_model_forward(X, params)\n",
    "print(AL)\n",
    "print('\\n')\n",
    "print(caches)"
   ]
  },
  {
   "cell_type": "markdown",
   "id": "342c05f2",
   "metadata": {},
   "source": [
    "#### Compute Cost\n",
    "Cost for sigmoid function is defined as\n",
    "$$-\\frac{1}{m} \\sum\\limits_{i = 1}^{m} (y^{(i)}\\log\\left(a^{[L] (i)}\\right) + (1-y^{(i)})\\log\\left(1- a^{[L](i)}\\right))$$\n",
    "$$J_{regularized} = \\small \\underbrace{-\\frac{1}{m} \\sum\\limits_{i = 1}^{m} \\large{(}\\small y^{(i)}\\log\\left(a^{[L](i)}\\right) + (1-y^{(i)})\\log\\left(1- a^{[L](i)}\\right) \\large{)} }_\\text{cross-entropy cost} + \\underbrace{\\frac{1}{m} \\frac{\\lambda}{2} \\sum\\limits_l\\sum\\limits_k\\sum\\limits_j W_{k,j}^{[l]2} }_\\text{L2 regularization cost}$$"
   ]
  },
  {
   "cell_type": "code",
   "execution_count": 12,
   "id": "7a4b0545",
   "metadata": {},
   "outputs": [],
   "source": [
    "def compute_frobenius_norm(parameters):\n",
    "    L = len(parameters) // 2\n",
    "    summation = 0\n",
    "    for l in range(1, L + 1):\n",
    "        W_kj = parameters['W' + str(l)]\n",
    "        summation += np.sum(np.square(W_kj))\n",
    "    return np.sqrt(summation)"
   ]
  },
  {
   "cell_type": "code",
   "execution_count": 13,
   "id": "bf815bce",
   "metadata": {},
   "outputs": [],
   "source": [
    "def compute_derivative_frobenius_norm(parameter, parameters):\n",
    "    l2norm = compute_frobenius_norm(parameters)\n",
    "    return parameter / l2norm"
   ]
  },
  {
   "cell_type": "code",
   "execution_count": 14,
   "id": "53656f56",
   "metadata": {},
   "outputs": [],
   "source": [
    "def compute_cost(AL, Y, parameters=None, lambda_=0.):\n",
    "    \"\"\"\n",
    "    arguments:\n",
    "        AL: nparray; the output of the neural network\n",
    "        Y: array of labels\n",
    "        parameters: dictionary of the parameters containing Ws and bs to calculate ||W||F\n",
    "        lambda_: is a scalar as regularization parameter\n",
    "    returns:\n",
    "        decimal number specifing the cost\n",
    "    \"\"\"\n",
    "    Y = Y.reshape(AL.shape)\n",
    "    m = Y.shape[1]\n",
    "    cost = np.multiply(-Y, np.log(AL)) - np.multiply(1 - Y, np.log(1 - AL))\n",
    "    cost = np.sum(cost, axis=1) / (m)\n",
    "    \n",
    "    reg_cost = (lambda_ * compute_frobenius_norm(parameters) ** 2) / (2 * m)\n",
    "    cost += reg_cost\n",
    "        \n",
    "    return np.squeeze(cost)"
   ]
  },
  {
   "cell_type": "code",
   "execution_count": 15,
   "id": "78b6a932",
   "metadata": {},
   "outputs": [
    {
     "data": {
      "text/plain": [
       "array(0.66550295)"
      ]
     },
     "execution_count": 15,
     "metadata": {},
     "output_type": "execute_result"
    }
   ],
   "source": [
    "# Test function\n",
    "compute_cost(AL, Y, params, 0.001)"
   ]
  },
  {
   "cell_type": "markdown",
   "id": "1f9670b8",
   "metadata": {},
   "source": [
    "### Backward Propagation"
   ]
  },
  {
   "cell_type": "code",
   "execution_count": 16,
   "id": "a7aec0fb",
   "metadata": {},
   "outputs": [],
   "source": [
    "def sigmoid_backward(dA, cache):\n",
    "    \"\"\"\n",
    "    arguments:\n",
    "        dA: post-activation gradient, of any shape\n",
    "        cache: it is \"Z\" that we stored to use later in back prop\n",
    "    \n",
    "    returns:\n",
    "        derivative of loss function with respect to Z\n",
    "    \"\"\"\n",
    "    Z = cache\n",
    "    s = 1 / (1 + np.exp(-Z))\n",
    "    dZ = dA * s * (1 - s)\n",
    "    \n",
    "    return dZ"
   ]
  },
  {
   "cell_type": "code",
   "execution_count": 17,
   "id": "854f7913",
   "metadata": {},
   "outputs": [],
   "source": [
    "def relu_backward(dA, cache):\n",
    "    \"\"\"\n",
    "    arguments:\n",
    "        dA: post-activation gradient, of any shape\n",
    "        cache: it is \"Z\" that we stored to use later in back prop\n",
    "    \n",
    "    returns:\n",
    "        derivative of loss function with respect to Z\n",
    "    \"\"\"\n",
    "    Z = cache\n",
    "    dZ = np.array(dA, copy=True)\n",
    "    dZ[Z <= 0] = 0\n",
    "    \n",
    "    return dZ"
   ]
  },
  {
   "cell_type": "markdown",
   "id": "bd3a77b6",
   "metadata": {},
   "source": [
    "Let's say we have dZ, now we are to find:\n",
    "$$ dW^{[l]} = \\frac{\\partial \\mathcal{J} }{\\partial W^{[l]}} = \\frac{1}{m} dZ^{[l]} A^{[l-1] T}$$\n",
    "$$ db^{[l]} = \\frac{\\partial \\mathcal{J} }{\\partial b^{[l]}} = \\frac{1}{m} \\sum_{i = 1}^{m} dZ^{[l](i)}$$\n",
    "$$ dA^{[l-1]} = \\frac{\\partial \\mathcal{L} }{\\partial A^{[l-1]}} = W^{[l] T} dZ^{[l]}$$\n",
    "And for regularization update we have\n",
    "$$\\frac{d}{dW} ( \\frac{1}{2}\\frac{\\lambda}{m}  W^2) = \\frac{\\lambda}{m} W$$"
   ]
  },
  {
   "cell_type": "code",
   "execution_count": 18,
   "id": "4a5b1c3f",
   "metadata": {},
   "outputs": [],
   "source": [
    "def linear_backward(dZ, cache):\n",
    "    \"\"\"\n",
    "    arguments:\n",
    "        dZ: gradient of the cost with respect to the linear output i.e Z\n",
    "        cache: the tupe (A_prev, W, b)\n",
    "    \n",
    "    returns:\n",
    "        dW: gradient of the cost with respect to the weights i.e W\n",
    "        db: gradient of the cost with respect to the intercepts i.e b\n",
    "        dA_prev: gradient of the cost with respect to the activation function in the previous layer\n",
    "    \"\"\"\n",
    "    A_prev, W, b = cache\n",
    "    m = A_prev.shape[1]\n",
    "    dW = np.matmul(dZ, A_prev.T) / m\n",
    "    db = np.sum(dZ, axis=1, keepdims=True) / m\n",
    "    dA_prev = np.matmul(W.T, dZ)\n",
    "    \n",
    "    return dA_prev, dW, db"
   ]
  },
  {
   "cell_type": "code",
   "execution_count": 19,
   "id": "8cdf1f51",
   "metadata": {},
   "outputs": [],
   "source": [
    "def linear_activation_backward(dA, cache, activation):\n",
    "    \"\"\"\n",
    "    arguments:\n",
    "        dA: post-activation gradient for current layer l\n",
    "        cache: tuple contaning (linear_cache, activation_cache)\n",
    "        activation: activation function go to be used in this layer\n",
    "        \n",
    "    returns:\n",
    "        dW: gradient of the cost with respect to the weights i.e W\n",
    "        db: gradient of the cost with respect to the intercepts i.e b\n",
    "        dA_prev: gradient of the cost with respect to the activation function in the previous layer\n",
    "    \"\"\"\n",
    "    \n",
    "    (linear_cache, activation_cache) = cache\n",
    "    if activation == 'relu':\n",
    "        dZ = relu_backward(dA, activation_cache)\n",
    "    elif activation == 'sigmoid':\n",
    "        dZ = sigmoid_backward(dA, activation_cache)\n",
    "    \n",
    "    dA_prev, dW, db = linear_backward(dZ, linear_cache)\n",
    "    return dA_prev, dW, db"
   ]
  },
  {
   "cell_type": "code",
   "execution_count": 20,
   "id": "55c96dcf",
   "metadata": {},
   "outputs": [],
   "source": [
    "def L_model_backward(AL, Y, caches, parameters, lambda_=0, keep_prob=1.):\n",
    "    \"\"\"\n",
    "    arguments:\n",
    "        AL: predicted outputs from the neural network\n",
    "        Y: correct values\n",
    "        caches: cached values in each step of linear forward and linear activation forward\n",
    "        parameters: dictionary of the parameters containing Ws and bs to calculate ||W||F\n",
    "        lambda_: is a scalar as regularization parameter\n",
    "    returns:\n",
    "        gradients that are --> dA_prev, dW, db for each layer\n",
    "    \"\"\"\n",
    "    grads = {}\n",
    "    Y = Y.reshape(AL.shape)\n",
    "    L = len(caches)\n",
    "    m = Y.shape[1]\n",
    "    \n",
    "    current_cache = caches[L - 1]\n",
    "    dAL = -(np.divide(Y, AL) - np.divide(1 - Y, 1 - AL))\n",
    "    dA_prev, dW, db = linear_activation_backward(dAL, current_cache, 'sigmoid')\n",
    "    grads['dW' + str(L)] = dW\n",
    "    grads['db' + str(L)] = db\n",
    "    grads['dA' + str(L - 1)] = dA_prev\n",
    "    \n",
    "    for l in reversed(range(L - 1)):\n",
    "        current_cache = caches[l] # caches[l] means, caches from layer l+1\n",
    "        dA_prev, dW, db = linear_activation_backward(grads[\"dA\" + str(l + 1)], current_cache, 'relu')\n",
    "        grads['dW' + str(l + 1)] = dW\n",
    "        grads['db' + str(l + 1)] = db\n",
    "        grads['dA' + str(l)] = dA_prev\n",
    "        \n",
    "    \n",
    "    # This does not calculate d||W||F/dW it calculates d||W||F^2/dW\n",
    "    for l in range(1, L + 1):\n",
    "        grads['dW' + str(l)] += lambda_/m * parameters['W' + str(l)]\n",
    "        \n",
    "        \n",
    "    # Regularization : Dropout\n",
    "    for l in range(1, L):\n",
    "        grad_A = grads['dA' + str(l)]\n",
    "        D = np.random.rand(grad_A.shape[0], grad_A.shape[1])\n",
    "        D = (D <= keep_prob).astype(int)\n",
    "        grad_A = grad_A * D\n",
    "        grads['dA' + str(l)] = grad_A\n",
    "        \n",
    "    return grads"
   ]
  },
  {
   "cell_type": "code",
   "execution_count": 21,
   "id": "80dde1bc",
   "metadata": {},
   "outputs": [
    {
     "data": {
      "text/plain": [
       "{'dW3': array([[ 0.04862132,  0.44062835, -0.05365206,  0.08508849]]),\n",
       " 'db3': array([[0.08828151]]),\n",
       " 'dA2': array([[ 0.21693844, -0.29611024,  0.17365678, -0.27208092],\n",
       "        [-0.02244694,  0.03063896, -0.01796852,  0.02815261],\n",
       "        [-0.45419996,  0.61996048, -0.36358195,  0.56965073],\n",
       "        [-0.24571362,  0.33538695, -0.19669099,  0.30817032]]),\n",
       " 'dW2': array([[-1.43317485e-01, -2.36439070e-02, -7.48842303e-03,\n",
       "          2.27070200e-02, -5.03450948e-02],\n",
       "        [ 1.51978555e-02,  2.30885598e-03,  1.69886417e-03,\n",
       "          1.53026903e-05,  5.35997570e-03],\n",
       "        [ 9.78892143e-03, -3.82552930e-03, -7.16874102e-02,\n",
       "         -7.83864505e-02,  1.05623133e-01],\n",
       "        [ 1.57166213e-01, -2.61648092e-05,  1.90499748e-02,\n",
       "         -2.43661715e-05, -1.33577338e-05]]),\n",
       " 'db2': array([[-0.08781318],\n",
       "        [ 0.01469789],\n",
       "        [-0.06203279],\n",
       "        [ 0.08384674]]),\n",
       " 'dA1': array([[ 0.02872941,  0.12527689, -0.00232877,  0.00504991],\n",
       "        [-0.41252528,  0.04247829, -0.27542039,  0.50280554],\n",
       "        [ 0.05424819, -0.10219417,  0.08544964, -0.07398602],\n",
       "        [-0.30869735, -0.14435841, -0.31369861,  0.3888868 ],\n",
       "        [ 0.10458349, -0.1270706 ,  0.00966718, -0.11543929]]),\n",
       " 'dW1': array([[ 0.07687983, -0.05327019,  0.01757832],\n",
       "        [ 0.07389173,  0.12482761,  0.08381358],\n",
       "        [-0.08113083,  0.03948431, -0.02052495],\n",
       "        [ 0.07486945,  0.01633366,  0.03710533],\n",
       "        [-0.00539285, -0.02478266, -0.01879731]]),\n",
       " 'db1': array([[ 0.0325817 ],\n",
       "        [ 0.05684629],\n",
       "        [ 0.00937592],\n",
       "        [-0.15559899],\n",
       "        [-0.02885982]]),\n",
       " 'dA0': array([[ 0.05756033,  0.16443911,  0.23862866, -0.41155556],\n",
       "        [ 0.11748408,  0.10322104,  0.21866299, -0.32724936],\n",
       "        [ 0.23738197, -0.01975189, -0.13618792,  0.69386188]])}"
      ]
     },
     "execution_count": 21,
     "metadata": {},
     "output_type": "execute_result"
    }
   ],
   "source": [
    "# Test function\n",
    "grads = L_model_backward(AL, Y, caches, params, 0.001)\n",
    "grads"
   ]
  },
  {
   "cell_type": "markdown",
   "id": "834f7a8a",
   "metadata": {},
   "source": [
    "### Update Parameters\n",
    "$$ W^{[l]} = W^{[l]} - \\alpha \\text{ } dW^{[l]}$$\n",
    "$$ b^{[l]} = b^{[l]} - \\alpha \\text{ } db^{[l]}$$"
   ]
  },
  {
   "cell_type": "code",
   "execution_count": 22,
   "id": "93327cf8",
   "metadata": {},
   "outputs": [],
   "source": [
    "def update_parameters(params, grads, learning_rate):\n",
    "    \"\"\"\n",
    "    arguments\n",
    "        params: is the parameters that we initialized\n",
    "        grads: gradients that are calculated in \"L_model_backward\"\n",
    "        learning_rate: a decimal illustrating how much of the gradient should effect params\n",
    "    \n",
    "    return:\n",
    "        updated parameters\n",
    "    \"\"\"\n",
    "    L = len(params) // 2\n",
    "    parameters = params.copy()\n",
    "    \n",
    "    for l in range(1, L + 1):\n",
    "        parameters['W' + str(l)] = params['W' + str(l)] - learning_rate * grads['dW' + str(l)]\n",
    "        parameters['b' + str(l)] = params['b' + str(l)] - learning_rate * grads['db' + str(l)]\n",
    "    \n",
    "    return parameters"
   ]
  },
  {
   "cell_type": "code",
   "execution_count": 23,
   "id": "a54e8247",
   "metadata": {},
   "outputs": [
    {
     "data": {
      "text/plain": [
       "{'W1': array([[ 0.90868151,  0.10589624, -0.30252163],\n",
       "        [-0.70918932, -0.45868085,  1.34996157],\n",
       "        [-0.49340474, -0.88128093, -0.17715381],\n",
       "        [-0.2740606 , -0.53554388, -0.80051846],\n",
       "        [ 0.51924815,  0.84728874, -0.14013797]]),\n",
       " 'b1': array([[-3.25817014e-04],\n",
       "        [-5.68462882e-04],\n",
       "        [-9.37591603e-05],\n",
       "        [ 1.55598989e-03],\n",
       "        [ 2.88598232e-04]]),\n",
       " 'W2': array([[ 0.14727455, -0.31533696, -0.24192304,  0.38322965,  0.42692344],\n",
       "        [ 1.45910577, -0.51782399, -0.21132112,  0.06121061,  0.55860639],\n",
       "        [ 0.00630719,  0.75755767, -0.23430481,  0.86358415, -0.02764496],\n",
       "        [ 0.36741074, -0.10465898, -0.49925016, -0.09746444, -0.0534308 ]]),\n",
       " 'b2': array([[ 0.00087813],\n",
       "        [-0.00014698],\n",
       "        [ 0.00062033],\n",
       "        [-0.00083847]]),\n",
       " 'W3': array([[-0.50341129,  0.0476321 ,  1.05350134,  0.56878326]]),\n",
       " 'b3': array([[-0.00088282]])}"
      ]
     },
     "execution_count": 23,
     "metadata": {},
     "output_type": "execute_result"
    }
   ],
   "source": [
    "# Test function\n",
    "update_parameters(params, grads, 0.01)"
   ]
  },
  {
   "cell_type": "markdown",
   "id": "c2712bae",
   "metadata": {},
   "source": [
    "## Gradient Test"
   ]
  },
  {
   "cell_type": "code",
   "execution_count": 24,
   "id": "9102e32d",
   "metadata": {},
   "outputs": [],
   "source": [
    "def vector_to_dictionary(vector, parameters):\n",
    "    \"\"\"\n",
    "    Convert a vector into a dictionary of parameters\n",
    "    Arguments:\n",
    "    vector -- The vector to convert\n",
    "    parameters -- A dictionary of parameters, containing the shapes of the parameters\n",
    "    \n",
    "    Returns:\n",
    "    dictionary -- A dictionary of parameters from the vector\n",
    "    \"\"\"\n",
    "    L = len(parameters) // 2\n",
    "    index = 0\n",
    "    for l in range(1, L + 1):\n",
    "        shape = parameters['W' + str(l)].shape\n",
    "        size = np.prod(shape)\n",
    "        parameters['W' + str(l)] = np.reshape(vector[index:index + size], shape)\n",
    "        index += size\n",
    "        \n",
    "        shape = parameters['b' + str(l)].shape\n",
    "        size = np.prod(shape)\n",
    "        parameters['b' + str(l)] = np.reshape(vector[index:index + size], shape)\n",
    "        index += size\n",
    "    return parameters"
   ]
  },
  {
   "cell_type": "code",
   "execution_count": 25,
   "id": "1a4ea889",
   "metadata": {},
   "outputs": [],
   "source": [
    "def dict_to_vector(params):\n",
    "    \"\"\"Flatten dictionary to vector.\"\"\"\n",
    "    L = len(params) // 2\n",
    "    vec = np.array([])\n",
    "    for l in range(1, L + 1):\n",
    "        vec = np.concatenate((vec, params['W' + str(l)].flatten()))\n",
    "        vec = np.concatenate((vec, params['b' + str(l)].flatten()))\n",
    "    return vec"
   ]
  },
  {
   "cell_type": "code",
   "execution_count": 26,
   "id": "862ce78d",
   "metadata": {},
   "outputs": [],
   "source": [
    "def grads_to_vec(grads, L):\n",
    "    \"\"\"Flatten gradients to vector.\"\"\"\n",
    "    vec = np.array([])\n",
    "    for l in range(1, L + 1):\n",
    "        vec = np.concatenate((vec, grads['dW' + str(l)].flatten()))\n",
    "        vec = np.concatenate((vec, grads['db' + str(l)].flatten()))\n",
    "    return vec"
   ]
  },
  {
   "cell_type": "code",
   "execution_count": 27,
   "id": "c74df7ff",
   "metadata": {},
   "outputs": [],
   "source": [
    "def gradient_check(X, Y, parameters, grads, epsilon=1e-7):\n",
    "    \"\"\"\n",
    "    Implement gradient check\n",
    "    \n",
    "    Arguments:\n",
    "    X -- Input data, shape (input size, number of examples)\n",
    "    Y -- True labels, shape (output size, number of examples)\n",
    "    parameters -- Output of initialize_parameters_deep\n",
    "    grads -- Output of backward_propagation\n",
    "    epsilon -- Small epsilon value for numeric approximation of gradient\n",
    "    \n",
    "    Returns:\n",
    "    difference -- Difference between numeric gradient and backprop gradient\n",
    "    \"\"\"\n",
    "    parameters_values = dict_to_vector(parameters)\n",
    "    num_parameters = parameters_values.shape[0]\n",
    "    grad = grads_to_vec(grads, len(parameters) // 2).reshape(-1, 1)\n",
    "    J_plus = np.zeros((num_parameters, 1))\n",
    "    J_minus = np.zeros((num_parameters, 1))\n",
    "    gradapprox = np.zeros((num_parameters, 1))\n",
    "    \n",
    "    for i in range(num_parameters):\n",
    "        thetaplus = np.copy(parameters_values)                                      \n",
    "        thetaplus[i] = thetaplus[i] + epsilon   \n",
    "        AL, _ = L_model_forward(X, vector_to_dictionary(thetaplus, parameters))                 \n",
    "        J_plus[i] = compute_cost(AL, Y, parameters)     \n",
    "        \n",
    "        thetaminus = np.copy(parameters_values)                                     \n",
    "        thetaminus[i] = thetaminus[i] - epsilon                               \n",
    "        AL, _ = L_model_forward(X, vector_to_dictionary(thetaminus, parameters))                \n",
    "        J_minus[i] = compute_cost(AL, Y, parameters)                                            \n",
    "        \n",
    "        gradapprox[i] = (J_plus[i] - J_minus[i]) / (2 * epsilon)                    \n",
    "    \n",
    "    numerator = np.linalg.norm(grad - gradapprox)                                   \n",
    "    denominator = np.linalg.norm(grad) + np.linalg.norm(gradapprox)                \n",
    "    difference = numerator / denominator   \n",
    "    \n",
    "    if difference > 2 * epsilon:\n",
    "        print(\"There is a mistake in the backward propagation! difference = \" + str(difference))\n",
    "    else:\n",
    "        print(\"Your backward propagation works perfectly fine! difference = \" + str(difference))\n",
    "    \n",
    "    return difference, gradapprox, grad"
   ]
  },
  {
   "cell_type": "markdown",
   "id": "ba4b3714",
   "metadata": {},
   "source": [
    "## Test"
   ]
  },
  {
   "cell_type": "code",
   "execution_count": 28,
   "id": "f942585a",
   "metadata": {},
   "outputs": [],
   "source": [
    "X, y = make_classification(n_samples=1345, n_features=2, n_informative=2, n_redundant=0, n_classes=2, class_sep=1,\n",
    "                           scale=[100, 400], n_clusters_per_class=1)"
   ]
  },
  {
   "cell_type": "code",
   "execution_count": 29,
   "id": "190ebc1e",
   "metadata": {},
   "outputs": [
    {
     "data": {
      "image/png": "[encoded data removed]",
      "text/plain": [
       "<Figure size 432x288 with 1 Axes>"
      ]
     },
     "metadata": {},
     "output_type": "display_data"
    }
   ],
   "source": [
    "fig = plt.figure()\n",
    "plt.scatter(X[y == 1, 0], X[y == 1, 1], alpha=0.5);\n",
    "plt.scatter(X[y == 0, 0], X[y == 0, 1], alpha=0.5);\n",
    "ax = plt.gca()\n",
    "ax.set_xlabel('$x_1$');\n",
    "ax.set_ylabel('$x_2$');\n",
    "ax.tick_params(left=False, bottom=False, labelleft=False, labelbottom=False)"
   ]
  },
  {
   "cell_type": "code",
   "execution_count": 30,
   "id": "c980bf98",
   "metadata": {},
   "outputs": [],
   "source": [
    "# Split\n",
    "X_train, X_cv, y_train, y_cv = train_test_split(X, y, test_size=0.4)\n",
    "X_cv, X_test, y_cv, y_test = train_test_split(X_cv, y_cv, test_size=0.5)\n",
    "# Normalization\n",
    "norm = Normalizer().fit(X_train)\n",
    "Xn_train = norm.transform(X_train)"
   ]
  },
  {
   "cell_type": "code",
   "execution_count": 31,
   "id": "e28ae414",
   "metadata": {},
   "outputs": [
    {
     "data": {
      "image/png": "[encoded data removed]",
      "text/plain": [
       "<Figure size 432x288 with 1 Axes>"
      ]
     },
     "metadata": {
      "needs_background": "light"
     },
     "output_type": "display_data"
    }
   ],
   "source": [
    "fig = plt.figure()\n",
    "plt.scatter(Xn_train[y_train == 1, 0], Xn_train[y_train == 1, 1], alpha=0.5);\n",
    "plt.scatter(Xn_train[y_train == 0, 0], Xn_train[y_train == 0, 1], alpha=0.5);\n",
    "ax = plt.gca()\n",
    "ax.set_xlabel('$x_1$');\n",
    "ax.set_ylabel('$x_2$');"
   ]
  },
  {
   "cell_type": "code",
   "execution_count": 32,
   "id": "161d20b0",
   "metadata": {},
   "outputs": [],
   "source": [
    "def model(X, y, iterations=100, learning_rate=0.01, lambda_=0, keep_prob=1., verbos=True, debug_mode=False):\n",
    "    hist = []\n",
    "    parameters = initialize_parameters_deep([2, 50, 50, 50, 1])\n",
    "    \n",
    "    for i in range(1, iterations + 1):\n",
    "        AL, caches = L_model_forward(X, parameters, keep_prob)\n",
    "        grads = L_model_backward(AL, y, caches, parameters, lambda_)\n",
    "                \n",
    "        if debug_mode and i % 100 == 0:\n",
    "            gradient_check(X, y, parameters, grads) # Do gradient check\n",
    "            \n",
    "        parameters = update_parameters(parameters, grads, learning_rate)\n",
    "        cost = compute_cost(AL, y, parameters, lambda_)\n",
    "        hist.append(cost)\n",
    "        if verbos and i % 100 == 0:\n",
    "            print(f'Iteration {i} : cost is {cost}')\n",
    "        \n",
    "    return parameters, grads, hist"
   ]
  },
  {
   "cell_type": "code",
   "execution_count": 33,
   "id": "705b10f5",
   "metadata": {
    "scrolled": false
   },
   "outputs": [
    {
     "name": "stdout",
     "output_type": "stream",
     "text": [
      "Iteration 100 : cost is 0.45570631910126497\n",
      "Iteration 200 : cost is 0.41332909233236614\n",
      "Iteration 300 : cost is 0.3995823746734418\n",
      "Iteration 400 : cost is 0.39390951425603393\n",
      "Iteration 500 : cost is 0.39110373450565045\n",
      "Iteration 600 : cost is 0.3894119138656312\n",
      "Iteration 700 : cost is 0.38830120930517625\n",
      "Iteration 800 : cost is 0.38742690123088896\n",
      "Iteration 900 : cost is 0.3867240439262936\n",
      "Iteration 1000 : cost is 0.38609689352808485\n",
      "Iteration 1100 : cost is 0.3855474212361996\n",
      "Iteration 1200 : cost is 0.3850808270755369\n",
      "Iteration 1300 : cost is 0.38465889684233795\n",
      "Iteration 1400 : cost is 0.3842787253331661\n",
      "Iteration 1500 : cost is 0.3839166531535445\n",
      "Iteration 1600 : cost is 0.38358570597858427\n",
      "Iteration 1700 : cost is 0.38326945999902096\n",
      "Iteration 1800 : cost is 0.3829598294956179\n",
      "Iteration 1900 : cost is 0.3826636280012043\n",
      "Iteration 2000 : cost is 0.3823790047873886\n",
      "Iteration 2100 : cost is 0.38210523498737853\n",
      "Iteration 2200 : cost is 0.38184899453648363\n",
      "Iteration 2300 : cost is 0.3816045001903741\n",
      "Iteration 2400 : cost is 0.3813740880744783\n",
      "Iteration 2500 : cost is 0.3811424865829621\n",
      "Iteration 2600 : cost is 0.38091862919616587\n",
      "Iteration 2700 : cost is 0.3806968598857292\n",
      "Iteration 2800 : cost is 0.38049395455796886\n",
      "Iteration 2900 : cost is 0.3803062387554936\n",
      "Iteration 3000 : cost is 0.38013347387747665\n",
      "Iteration 3100 : cost is 0.3799708174548767\n",
      "Iteration 3200 : cost is 0.37980882872189187\n",
      "Iteration 3300 : cost is 0.37966631204933476\n",
      "Iteration 3400 : cost is 0.37952284666480796\n",
      "Iteration 3500 : cost is 0.3793764040191222\n",
      "Iteration 3600 : cost is 0.37922590524691185\n",
      "Iteration 3700 : cost is 0.379076440883482\n",
      "Iteration 3800 : cost is 0.37892330060653456\n",
      "Iteration 3900 : cost is 0.378771144689361\n",
      "Iteration 4000 : cost is 0.3786266875348408\n",
      "Iteration 4100 : cost is 0.37848744786912203\n",
      "Iteration 4200 : cost is 0.3783524346479968\n",
      "Iteration 4300 : cost is 0.3782185297838214\n",
      "Iteration 4400 : cost is 0.37809084821837774\n",
      "Iteration 4500 : cost is 0.3779667299152378\n",
      "Iteration 4600 : cost is 0.3778511992017586\n",
      "Iteration 4700 : cost is 0.37773885935789153\n",
      "Iteration 4800 : cost is 0.37762758053751366\n",
      "Iteration 4900 : cost is 0.3775211840894884\n",
      "Iteration 5000 : cost is 0.3774153723630604\n",
      "Iteration 5100 : cost is 0.37730592066365076\n",
      "Iteration 5200 : cost is 0.37720051990307696\n",
      "Iteration 5300 : cost is 0.3770819691633066\n",
      "Iteration 5400 : cost is 0.3769653264531404\n",
      "Iteration 5500 : cost is 0.3768541402149779\n",
      "Iteration 5600 : cost is 0.37674283747801823\n",
      "Iteration 5700 : cost is 0.3766252390010028\n",
      "Iteration 5800 : cost is 0.37651154750121374\n",
      "Iteration 5900 : cost is 0.3763969569690214\n",
      "Iteration 6000 : cost is 0.37627796606552083\n",
      "Iteration 6100 : cost is 0.37615605214385567\n",
      "Iteration 6200 : cost is 0.376044791828586\n",
      "Iteration 6300 : cost is 0.3759455803838739\n",
      "Iteration 6400 : cost is 0.37584349374246184\n",
      "Iteration 6500 : cost is 0.37574549467201596\n",
      "Iteration 6600 : cost is 0.37564952103462024\n",
      "Iteration 6700 : cost is 0.3755574505478745\n",
      "Iteration 6800 : cost is 0.3754641459179934\n",
      "Iteration 6900 : cost is 0.37536704151355177\n",
      "Iteration 7000 : cost is 0.3752706643952014\n",
      "Iteration 7100 : cost is 0.3751673632889222\n",
      "Iteration 7200 : cost is 0.37506311807240167\n",
      "Iteration 7300 : cost is 0.3749631310490782\n",
      "Iteration 7400 : cost is 0.3748622585686977\n",
      "Iteration 7500 : cost is 0.37476695681400807\n",
      "Iteration 7600 : cost is 0.374670832086676\n",
      "Iteration 7700 : cost is 0.3745741174704105\n",
      "Iteration 7800 : cost is 0.37448178424358924\n",
      "Iteration 7900 : cost is 0.37439294545782237\n",
      "Iteration 8000 : cost is 0.374305430717798\n",
      "Iteration 8100 : cost is 0.3742214395572686\n",
      "Iteration 8200 : cost is 0.3741372222380284\n",
      "Iteration 8300 : cost is 0.3740539373671599\n",
      "Iteration 8400 : cost is 0.37397403044139327\n",
      "Iteration 8500 : cost is 0.3738966693451155\n",
      "Iteration 8600 : cost is 0.37382422969738693\n",
      "Iteration 8700 : cost is 0.37375367476122257\n",
      "Iteration 8800 : cost is 0.37368412756445124\n",
      "Iteration 8900 : cost is 0.3736150218561466\n",
      "Iteration 9000 : cost is 0.37354938426562084\n",
      "Iteration 9100 : cost is 0.3734841880841736\n",
      "Iteration 9200 : cost is 0.37342030981850005\n",
      "Iteration 9300 : cost is 0.37335728491596787\n",
      "Iteration 9400 : cost is 0.3732950129256409\n",
      "Iteration 9500 : cost is 0.3732332981471199\n",
      "Iteration 9600 : cost is 0.3731694978985925\n",
      "Iteration 9700 : cost is 0.37310724835225606\n",
      "Iteration 9800 : cost is 0.3730455498157586\n",
      "Iteration 9900 : cost is 0.3729843207240086\n",
      "Iteration 10000 : cost is 0.3729223306226193\n"
     ]
    }
   ],
   "source": [
    "params, grads, hist = model(Xn_train.T, y_train, iterations=10000, learning_rate=.001, debug_mode=False)"
   ]
  },
  {
   "cell_type": "code",
   "execution_count": 34,
   "id": "17468a63",
   "metadata": {},
   "outputs": [],
   "source": [
    "def predict(X, parameters):\n",
    "    y_hat, _ = L_model_forward(X, parameters)\n",
    "    y_hat[y_hat > 0.5] = 1\n",
    "    y_hat[y_hat <= 0.5] = 0\n",
    "    return y_hat"
   ]
  },
  {
   "cell_type": "code",
   "execution_count": 35,
   "id": "5b790880",
   "metadata": {},
   "outputs": [],
   "source": [
    "y_hat = predict(Xn_train.T, params)"
   ]
  },
  {
   "cell_type": "code",
   "execution_count": 36,
   "id": "c9a8fa8e",
   "metadata": {},
   "outputs": [
    {
     "data": {
      "text/plain": [
       "0.8537794299876085"
      ]
     },
     "execution_count": 36,
     "metadata": {},
     "output_type": "execute_result"
    }
   ],
   "source": [
    "(y_train.reshape(y_hat.shape) == y_hat).sum() / y_hat.shape[1]"
   ]
  },
  {
   "cell_type": "code",
   "execution_count": 37,
   "id": "6b228ad4",
   "metadata": {},
   "outputs": [],
   "source": [
    "y_hat = predict(norm.transform(X_cv).T, params)"
   ]
  },
  {
   "cell_type": "code",
   "execution_count": 38,
   "id": "39f76600",
   "metadata": {},
   "outputs": [
    {
     "data": {
      "text/plain": [
       "0.828996282527881"
      ]
     },
     "execution_count": 38,
     "metadata": {},
     "output_type": "execute_result"
    }
   ],
   "source": [
    "(y_cv == y_hat).sum() / y_hat.shape[1]"
   ]
  },
  {
   "cell_type": "code",
   "execution_count": 39,
   "id": "aa528ddc",
   "metadata": {
    "scrolled": true
   },
   "outputs": [],
   "source": [
    "y_hat = predict(norm.transform(X_test).T, params)"
   ]
  },
  {
   "cell_type": "code",
   "execution_count": 40,
   "id": "9d0ee04e",
   "metadata": {},
   "outputs": [
    {
     "data": {
      "text/plain": [
       "0.7360594795539034"
      ]
     },
     "execution_count": 40,
     "metadata": {},
     "output_type": "execute_result"
    }
   ],
   "source": [
    "(y_test == y_hat).sum() / y_hat.shape[1]"
   ]
  },
  {
   "cell_type": "code",
   "execution_count": 41,
   "id": "e1e74c8d",
   "metadata": {},
   "outputs": [],
   "source": [
    "def plot(X_in, y_in, params, r=0):\n",
    "    plt.figure()\n",
    "    x_min, x_max = X_in[0, :].min(), X_in[0, :].max()\n",
    "    y_min, y_max = X_in[1, :].min(), X_in[1, :].max()\n",
    "    x_min, x_max, y_min, y_max = x_min - r, x_max + r, y_min - r, y_max + r\n",
    "    \n",
    "    x = np.linspace(x_min, x_max, 1000)\n",
    "    y = np.linspace(y_min, y_max, 1000)\n",
    "    X, Y = np.meshgrid(x, y)\n",
    "    xx, yy = X.flatten().reshape(1, -1), Y.flatten().reshape(1, -1)\n",
    "    data = np.vstack((xx, yy))\n",
    "    Z, _ = L_model_forward(data, params)\n",
    "    plt.contourf(X, Y, Z.reshape(X.shape), cmap='OrRd')\n",
    "    plt.colorbar()\n",
    "    \n",
    "    plt.scatter(X_in[y_in == 1, 0], X_in[y_in == 1, 1], alpha=0.75, label='Y = 1', c='yellow');\n",
    "    plt.scatter(X_in[y_in == 0, 0], X_in[y_in == 0, 1], alpha=0.75, label='Y = 0', c='red');\n",
    "    \n",
    "    ax = plt.gca()\n",
    "    ax.set_xlim([x_min, x_max])\n",
    "    ax.set_ylim([y_min, y_max])\n",
    "    plt.legend()"
   ]
  },
  {
   "cell_type": "code",
   "execution_count": 42,
   "id": "48af91fe",
   "metadata": {},
   "outputs": [
    {
     "data": {
      "image/png": "[encoded data removed]",
      "text/plain": [
       "<Figure size 432x288 with 2 Axes>"
      ]
     },
     "metadata": {
      "needs_background": "light"
     },
     "output_type": "display_data"
    }
   ],
   "source": [
    "plot(Xn_train, y_train, params, 2)"
   ]
  },
  {
   "cell_type": "code",
   "execution_count": null,
   "id": "b17c817d",
   "metadata": {},
   "outputs": [],
   "source": []
  }
 ],
 "metadata": {
  "kernelspec": {
   "display_name": "Python 3 (ipykernel)",
   "language": "python",
   "name": "python3"
  },
  "language_info": {
   "codemirror_mode": {
    "name": "ipython",
    "version": 3
   },
   "file_extension": ".py",
   "mimetype": "text/x-python",
   "name": "python",
   "nbconvert_exporter": "python",
   "pygments_lexer": "ipython3",
   "version": "3.10.4"
  }
 },
 "nbformat": 4,
 "nbformat_minor": 5
}
