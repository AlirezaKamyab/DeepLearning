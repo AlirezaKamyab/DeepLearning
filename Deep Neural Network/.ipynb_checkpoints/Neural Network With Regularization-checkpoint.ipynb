{
 "cells": [
  {
   "cell_type": "markdown",
   "id": "a5ef4287",
   "metadata": {},
   "source": [
    "# Deep Neural Network"
   ]
  },
  {
   "cell_type": "markdown",
   "id": "d48caba8",
   "metadata": {},
   "source": [
    "## Notations and demonstrations\n",
    "- $m$ is denoted as the number of training examples\n",
    "- $n$ is denoted as the number of the features\n",
    "- $X$ is a matrix that each column is a training example and each row is a feature <br>\n",
    "$\n",
    "X = \n",
    "\\begin{bmatrix}\n",
    "    \\displaystyle\n",
    "    x^{(1)}_{1} & x^{(2)}_{1} & \\dots & x^{(m)}_{1} \\\\\n",
    "    x^{(1)}_{2} & x^{(2)}_{2} & \\dots & x^{(m)}_{2} \\\\\n",
    "    & \\vdots & \\vdots & \\\\\n",
    "    x^{(1)}_{n} & x^{(2)}_{n} & \\dots & x^{(m)}_{n} \\\\\n",
    "\\end{bmatrix}_{n_x \\times m}\n",
    "$\n",
    "- $y$ is a vector denoted as the labels <br>\n",
    "$\n",
    "y = \n",
    "\\begin{bmatrix}\n",
    "    y_1 & y_2 & \\dots & y_m\n",
    "\\end{bmatrix}\n",
    "$\n",
    "- $w$ is a vector of weights <br>\n",
    "$\n",
    "w = \n",
    "\\begin{bmatrix}\n",
    "\\displaystyle\n",
    "    w_1\\\\\n",
    "    w_2\\\\\n",
    "    \\vdots\\\\\n",
    "    w_n\n",
    "\\end{bmatrix}\n",
    "$\n",
    "<br> <br>\n",
    "Neural networks might have multiple layers; each layers contains multiple perceptron and each themselves could be logistic function or ...; so for each we need different vector of weights that could be obtained via stacking each function's weights in a matrix;\n",
    "<br>\n",
    "- $W^{[1]}$ is a matrix for the first layer of the neural network; for example, if the first layer contains 4 logistic functions we have<br>\n",
    "$\n",
    "W^{[1]} =\n",
    "\\displaystyle\n",
    "\\begin{bmatrix}\n",
    "    \\dots & w_1^{[1]T} & \\dots\\\\\n",
    "    \\dots & w_2^{[1]T} & \\dots\\\\\n",
    "    \\dots & w_3^{[1]T} & \\dots\\\\\n",
    "    \\dots & w_4^{[1]T} & \\dots\\\\\n",
    "\\end{bmatrix}_{4, n}\n",
    "$\n",
    "<br><br>\n",
    "Since we have multiple functions in each layer, we need multiple intercepts.\n",
    "- $b$ is vector of intercepts; If we have 4 logistic function in the first layer, it would be like below <br>\n",
    "$\n",
    "b^{[1]} = \n",
    "\\displaystyle\n",
    "\\begin{bmatrix}\n",
    "    b_1^{[1]}\\\\\n",
    "    b_2^{[1]}\\\\\n",
    "    b_3^{[1]}\\\\\n",
    "    b_4^{[1]}\\\\\n",
    "\\end{bmatrix}\n",
    "$\n",
    "<br><br>\n",
    "For calculating $Z$ we have\n",
    "$$\n",
    "Z^{[1]} = \n",
    "\\begin{bmatrix}\n",
    "    \\dots & w_1^{[1]T} & \\dots\\\\\n",
    "    \\dots & w_2^{[1]T} & \\dots\\\\\n",
    "    \\dots & w_3^{[1]T} & \\dots\\\\\n",
    "    \\dots & w_4^{[1]T} & \\dots\\\\\n",
    "\\end{bmatrix}_{4, n}\n",
    "\\begin{bmatrix}\n",
    "    \\displaystyle\n",
    "    x^{(1)} & x^{(2)} & \\dots & x^{(m)}\n",
    "\\end{bmatrix}_{n_x \\times m} + \n",
    "\\begin{bmatrix}\n",
    "    b_1^{[1]}\\\\\n",
    "    b_2^{[1]}\\\\\n",
    "    b_3^{[1]}\\\\\n",
    "    b_4^{[1]}\\\\\n",
    "\\end{bmatrix}\n",
    "$$\n",
    "The result will be\n",
    "$$\n",
    "Z^{[1]} = \n",
    "\\begin{bmatrix}\n",
    "    \\displaystyle\n",
    "    W_1^{[1]T}.x^{(1)} + b_1^{[1]}\\\\\n",
    "    W_2^{[1]T}.x^{(2)} + b_2^{[1]}\\\\\n",
    "    W_3^{[1]T}.x^{(3)} + b_3^{[1]}\\\\\n",
    "    W_4^{[1]T}.x^{(4)} + b_4^{[1]}\\\\\n",
    "\\end{bmatrix}\n",
    "=\n",
    "\\begin{bmatrix}\n",
    "    \\displaystyle\n",
    "    Z_1^{[1]}\\\\\n",
    "    Z_2^{[1]}\\\\\n",
    "    Z_3^{[1]}\\\\\n",
    "    Z_4^{[1]}\\\\\n",
    "\\end{bmatrix}_{4, m}\n",
    "$$\n",
    "\n",
    "Applying the activation function for the first layer containing 4 perceptrons we have\n",
    "$$\n",
    "a^{[1]} = \n",
    "\\begin{bmatrix}\n",
    "    \\displaystyle\n",
    "    a_1^{[1]}\\\\\n",
    "    a_2^{[1]}\\\\\n",
    "    a_3^{[1]}\\\\\n",
    "    a_4^{[1]}\\\\\n",
    "\\end{bmatrix}\n",
    "= G(Z^{[1]})\n",
    "$$"
   ]
  },
  {
   "cell_type": "markdown",
   "id": "1d553824",
   "metadata": {},
   "source": [
    "## Activation functions\n",
    "- Sigmoid\n",
    "$$\n",
    "    \\begin{equation}\n",
    "        a = g(z) = \\displaystyle\\frac{1}{1 + e^{-z}} \\\\\n",
    "    \\end{equation}\n",
    "$$\n",
    "<img src=\"https://upload.wikimedia.org/wikipedia/commons/8/88/Logistic-curve.svg\" width=\"300px\" height=\"300px\"/>\n",
    "\n",
    "    - Derivative\n",
    "    $$\n",
    "        \\begin{equation}\n",
    "            g'(z) = \\frac{dg(z)}{dz} = \\frac{1}{1 + e^{-z}}(1 - \\frac{1}{1 + e^{-z}}) \\\\ \n",
    "            g'(z) = g(z)(1 - g(z)) = a(1 - a)\n",
    "        \\end{equation}\n",
    "    $$\n",
    "    Calculations :\n",
    "    $$\n",
    "        \\begin{equation}\n",
    "            \\frac{d}{dz}g(z) = \\frac{0 - (-e^{-z})}{(1 + e^{-z})^2} = \\frac{e^{-z}}{(1 + e^{-z})^2} = \\\\\n",
    "                \\frac{e^{-z} + 1 - 1}{1 + e^{-z}} \\times \\frac{1}{1 + e^{-z}} = \\\\\n",
    "                (1 - \\frac{1}{1 + e^{-z}})\\frac{1}{1+e^{-z}}\n",
    "        \\end{equation}\n",
    "    $$\n",
    "    <br><br>\n",
    "\n",
    "- tanh\n",
    "$$\n",
    "    \\begin{equation}\n",
    "        a = g(z) = \\frac{e^z - e^{-z}}{e^z + e^{-z}}\n",
    "    \\end{equation}\n",
    "$$\n",
    "<img src=\"https://upload.wikimedia.org/wikipedia/commons/7/76/Sinh_cosh_tanh.svg\" width=\"300px\" height=\"300px\"/>\n",
    "\n",
    "    - Derivative\n",
    "    $$\n",
    "        \\begin{equation}\n",
    "        g'(z) = \\frac{d}{dz}tanh(z) = 1 - (tanh(z))^2\\\\\n",
    "        g'(z) = 1 - a^2\n",
    "        \\end{equation}\n",
    "    $$\n",
    "    Calculations:\n",
    "    $$\n",
    "        \\begin{equation}\n",
    "            \\frac{d}{dz} tanh(z) = \\frac{(e^z+e^{-z}) - (e^z-e^{-z})}{(e^z+e^{-z})^2} = \\\\\n",
    "            1 - \\frac{(e^z-e^{-z})}{e^z+e^{-z}} = 1 - (tanh(z))^2\n",
    "        \\end{equation}\n",
    "    $$\n",
    "\n",
    "<br><br>\n",
    "- ReLU\n",
    "$$\n",
    "    a = max(0, z)\n",
    "$$\n",
    "<img src=\"https://upload.wikimedia.org/wikipedia/commons/4/42/ReLU_and_GELU.svg\" width=\"300px\" height=\"300px\"/>\n",
    "\n",
    "    - Derivative\n",
    "    $$\n",
    "    g'(z) = \n",
    "        \\begin{equation}\n",
    "            \\begin{cases}\n",
    "            0 & z < 0\\\\\n",
    "            1 & z \\ge 0\n",
    "            \\end{cases}\n",
    "        \\end{equation}\n",
    "    $$\n",
    "    \n",
    "<br><br>\n",
    "- leaky ReLU\n",
    "$$\n",
    "    a = max(0.01z, z)\n",
    "$$\n",
    "\n",
    "    - Derivative\n",
    "    \n",
    "    $$\n",
    "    g'(z) = \n",
    "        \\begin{equation}\n",
    "            \\begin{cases}\n",
    "            0.01 & z < 0\\\\\n",
    "            1 & z \\ge 0\n",
    "            \\end{cases}\n",
    "        \\end{equation}\n",
    "    $$\n",
    "    "
   ]
  },
  {
   "cell_type": "code",
   "execution_count": 44,
   "id": "d445d7d5",
   "metadata": {},
   "outputs": [],
   "source": [
    "import numpy as np\n",
    "import matplotlib.pyplot as plt\n",
    "from sklearn.datasets import make_classification\n",
    "from sklearn.model_selection import train_test_split\n",
    "from sklearn.preprocessing import Normalizer"
   ]
  },
  {
   "cell_type": "markdown",
   "id": "6141d79f",
   "metadata": {},
   "source": [
    "## Implement L-Layered Neural Network functions"
   ]
  },
  {
   "cell_type": "markdown",
   "id": "a0736d04",
   "metadata": {},
   "source": [
    "### Initialization"
   ]
  },
  {
   "cell_type": "code",
   "execution_count": 2,
   "id": "e042caf3",
   "metadata": {},
   "outputs": [],
   "source": [
    "def initialize_parameters_deep(layer_dims):\n",
    "    \"\"\"\n",
    "    arguments:\n",
    "        layer_dims: A list that contains the size of each layer\n",
    "        \n",
    "    returns:\n",
    "        dict: parameters for each layer\n",
    "    \"\"\"\n",
    "    \n",
    "    params = {}\n",
    "    L = len(layer_dims)\n",
    "    for l in range(1, L):\n",
    "        # This uses He initialization\n",
    "        params['W' + str(l)] = np.random.randn(layer_dims[l], layer_dims[l - 1]) * np.sqrt(2 / layer_dims[l - 1])\n",
    "        params['b' + str(l)] = np.zeros((layer_dims[l], 1))\n",
    "    return params"
   ]
  },
  {
   "cell_type": "code",
   "execution_count": 3,
   "id": "639e330f",
   "metadata": {},
   "outputs": [
    {
     "name": "stdout",
     "output_type": "stream",
     "text": [
      "W1 :\n",
      "[[ 0.95437524 -1.03689608 -0.52241613]\n",
      " [ 0.76718099 -0.23603649  0.57884634]\n",
      " [ 0.08784132 -0.3429286   0.86768187]\n",
      " [ 0.38194731 -0.23133162  0.11412594]\n",
      " [ 1.10340849  0.22005801 -1.41533328]]\n",
      "b1 :\n",
      "[[0.]\n",
      " [0.]\n",
      " [0.]\n",
      " [0.]\n",
      " [0.]]\n",
      "W2 :\n",
      "[[-0.89776919  0.42377933 -0.65455811  0.16800102 -0.30302338]\n",
      " [-0.09777912  0.08127158 -1.42242477 -0.86892138 -0.61769557]\n",
      " [ 0.03500486  0.54639927  0.44264007 -0.7665579   0.29461592]\n",
      " [ 1.05038235  0.57500929 -0.3761933  -0.35245863 -0.73542231]]\n",
      "b2 :\n",
      "[[0.]\n",
      " [0.]\n",
      " [0.]\n",
      " [0.]]\n",
      "W3 :\n",
      "[[-2.00593744  0.47078282 -0.32507904 -0.56571994]]\n",
      "b3 :\n",
      "[[0.]]\n"
     ]
    }
   ],
   "source": [
    "# Test function\n",
    "params = initialize_parameters_deep([3, 5, 4, 1])\n",
    "for k, v in params.items():\n",
    "    print(k, \":\")\n",
    "    print(v)"
   ]
  },
  {
   "cell_type": "markdown",
   "id": "d428b907",
   "metadata": {},
   "source": [
    "### Forward Propagation"
   ]
  },
  {
   "cell_type": "markdown",
   "id": "31941956",
   "metadata": {},
   "source": [
    "#### Linear forward\n",
    "Here we need to calculate $Z^{[l]} = W^{[l]}.A^{[l-1]} + b^{[l]}$"
   ]
  },
  {
   "cell_type": "code",
   "execution_count": 4,
   "id": "4871a952",
   "metadata": {},
   "outputs": [],
   "source": [
    "def linear_forward(A, W, b):\n",
    "    \"\"\"\n",
    "    arguments:\n",
    "        A: activations from previous layer or inputs, shape=(size of l-1, m)\n",
    "        W: weights from layer l, shape=(size of layer l, size of layer l-1)\n",
    "        b: intercepts from layer l, shape(size of layer l, 1)\n",
    "        \n",
    "    returns:\n",
    "        Z: forward calculation\n",
    "        cache: The same arguments useful for backward propagation\n",
    "    \"\"\"\n",
    "    Z = np.dot(W, A) + b\n",
    "    cache = (A, W, b)\n",
    "    \n",
    "    return Z, cache"
   ]
  },
  {
   "cell_type": "code",
   "execution_count": 5,
   "id": "7834cbef",
   "metadata": {},
   "outputs": [
    {
     "name": "stdout",
     "output_type": "stream",
     "text": [
      "[[-0.49354284  1.53142993  1.32485351  0.73463548]\n",
      " [-1.12434412  0.40720022  0.22403211  0.08417937]\n",
      " [-1.05949991 -0.44696833  0.31527115  0.20656968]\n",
      " [-0.43719629  0.34834004  0.26984766  0.13750739]\n",
      " [ 0.85115179  2.03889131 -0.09418118 -0.18362966]]\n",
      "[[-0.58478069  0.99332666  0.00691863 -0.08345636]\n",
      " [ 0.43625185 -0.21053868 -1.21259724 -0.75848054]\n",
      " [-0.98945109 -0.69890037 -0.11659903 -0.05325001]]\n",
      "[[ 0.95437524 -1.03689608 -0.52241613]\n",
      " [ 0.76718099 -0.23603649  0.57884634]\n",
      " [ 0.08784132 -0.3429286   0.86768187]\n",
      " [ 0.38194731 -0.23133162  0.11412594]\n",
      " [ 1.10340849  0.22005801 -1.41533328]]\n",
      "[[0.]\n",
      " [0.]\n",
      " [0.]\n",
      " [0.]\n",
      " [0.]]\n"
     ]
    }
   ],
   "source": [
    "X = np.random.randn(3, 4)\n",
    "Y = np.array([[1, 0, 1, 0]])\n",
    "Z, cache = linear_forward(X, params['W1'], params['b1'])\n",
    "print(Z)\n",
    "print(cache[0])\n",
    "print(cache[1])\n",
    "print(cache[2])"
   ]
  },
  {
   "cell_type": "code",
   "execution_count": 6,
   "id": "83e9c78f",
   "metadata": {},
   "outputs": [],
   "source": [
    "def sigmoid(Z):\n",
    "    \"\"\"\n",
    "    arguments:\n",
    "        Z: a matrix calculated in \"linear_forward\" step\n",
    "        \n",
    "    returns:\n",
    "        A: activation function of sigmoid(Z)\n",
    "        cache: The same arguments useful for backward propagation\n",
    "    \"\"\"\n",
    "    cache = Z\n",
    "    A = 1 / (1 + np.exp(-Z))\n",
    "    \n",
    "    return A, cache"
   ]
  },
  {
   "cell_type": "code",
   "execution_count": 7,
   "id": "7763be2d",
   "metadata": {},
   "outputs": [],
   "source": [
    "def relu(Z):\n",
    "    \"\"\"\n",
    "    arguments:\n",
    "        Z: a matrix calculated in \"linear_forward\" step\n",
    "        \n",
    "    returns:\n",
    "        A: activation function of relu(Z)\n",
    "        cache: The same arguments useful for backward propagation\n",
    "    \"\"\"\n",
    "    cache = Z\n",
    "    A = np.maximum(0, Z)\n",
    "    \n",
    "    return A, cache"
   ]
  },
  {
   "cell_type": "code",
   "execution_count": 8,
   "id": "d49a3e1c",
   "metadata": {},
   "outputs": [],
   "source": [
    "def linear_activation_forward(A_prev, W, b, activation):\n",
    "    \"\"\"\n",
    "    arguments:\n",
    "        A: activations from previous layer or inputs, shape=(size of l-1, m)\n",
    "        W: weights from layer l, shape=(size of layer l, size of layer l-1)\n",
    "        b: intercepts from layer l, shape(size of layer l, 1)\n",
    "        activation: A string that specifies what type of activiation function to use (sigmoid or ReLU)\n",
    "    \n",
    "    returns:\n",
    "        A: activation calculated\n",
    "        cache: to be used for backward propagation\n",
    "    \"\"\"\n",
    "    Z, linear_cache = linear_forward(A_prev, W, b)\n",
    "    \n",
    "    if activation == 'relu':\n",
    "        A, activation_cache = relu(Z)\n",
    "    elif activation == 'sigmoid':\n",
    "        A, activation_cache = sigmoid(Z)\n",
    "    else:\n",
    "        A, activation_cache = Z, Z\n",
    "    \n",
    "    cache = (linear_cache, activation_cache)\n",
    "    \n",
    "    return A, cache"
   ]
  },
  {
   "cell_type": "code",
   "execution_count": 9,
   "id": "ed1272e8",
   "metadata": {},
   "outputs": [
    {
     "name": "stdout",
     "output_type": "stream",
     "text": [
      "[[0.         1.53142993 1.32485351 0.73463548]\n",
      " [0.         0.40720022 0.22403211 0.08417937]\n",
      " [0.         0.         0.31527115 0.20656968]\n",
      " [0.         0.34834004 0.26984766 0.13750739]\n",
      " [0.85115179 2.03889131 0.         0.        ]]\n",
      "(array([[-0.58478069,  0.99332666,  0.00691863, -0.08345636],\n",
      "       [ 0.43625185, -0.21053868, -1.21259724, -0.75848054],\n",
      "       [-0.98945109, -0.69890037, -0.11659903, -0.05325001]]), array([[ 0.95437524, -1.03689608, -0.52241613],\n",
      "       [ 0.76718099, -0.23603649,  0.57884634],\n",
      "       [ 0.08784132, -0.3429286 ,  0.86768187],\n",
      "       [ 0.38194731, -0.23133162,  0.11412594],\n",
      "       [ 1.10340849,  0.22005801, -1.41533328]]), array([[0.],\n",
      "       [0.],\n",
      "       [0.],\n",
      "       [0.],\n",
      "       [0.]]))\n",
      "[[-0.49354284  1.53142993  1.32485351  0.73463548]\n",
      " [-1.12434412  0.40720022  0.22403211  0.08417937]\n",
      " [-1.05949991 -0.44696833  0.31527115  0.20656968]\n",
      " [-0.43719629  0.34834004  0.26984766  0.13750739]\n",
      " [ 0.85115179  2.03889131 -0.09418118 -0.18362966]]\n"
     ]
    }
   ],
   "source": [
    "A, cache = linear_activation_forward(X, params[\"W1\"], params[\"b1\"], activation='relu')\n",
    "print(A)\n",
    "print(cache[0])\n",
    "print(cache[1])"
   ]
  },
  {
   "cell_type": "code",
   "execution_count": 10,
   "id": "fa7a161a",
   "metadata": {},
   "outputs": [],
   "source": [
    "def L_model_forward(X, parameters=None, keep_prob=1.):\n",
    "    \"\"\"\n",
    "    arguments:\n",
    "        X: numpy array, shape=(input size, input examples i.e m)\n",
    "        parameters: output of initialize_parameters_deep\n",
    "        keep_prob: the probability of which each perceptron is kept\n",
    "        \n",
    "    returns:\n",
    "        AL: activation value from the output layer\n",
    "        caches: Caches from calling Linear activation forward, the size is L since there are L layers\n",
    "    \"\"\"\n",
    "    caches = []\n",
    "    L = len(parameters) // 2\n",
    "    A_prev = X\n",
    "    \n",
    "    for l in range(1, L):\n",
    "        Wl = parameters['W' + str(l)]\n",
    "        bl = parameters['b' + str(l)]\n",
    "        A, cache = linear_activation_forward(A_prev, Wl, bl, 'relu')\n",
    "        caches.append(cache)\n",
    "        \n",
    "        # Regularization : Drop out\n",
    "        D = np.random.rand(A.shape[0], A.shape[1])\n",
    "        D = (D <= keep_prob).astype(int)\n",
    "        A = A * D\n",
    "        A /= keep_prob\n",
    "        \n",
    "        A_prev = A\n",
    "        \n",
    "    WL = parameters['W' + str(L)]\n",
    "    bL = parameters['b' + str(L)]\n",
    "    AL, cache = linear_activation_forward(A_prev, WL, bL, 'sigmoid')\n",
    "    caches.append(cache)\n",
    "    \n",
    "    return AL, caches"
   ]
  },
  {
   "cell_type": "code",
   "execution_count": 11,
   "id": "b9f8aa1a",
   "metadata": {},
   "outputs": [
    {
     "name": "stdout",
     "output_type": "stream",
     "text": [
      "[[0.47963184 0.41995225 0.31599848 0.39859812]]\n",
      "\n",
      "\n",
      "[((array([[-0.58478069,  0.99332666,  0.00691863, -0.08345636],\n",
      "       [ 0.43625185, -0.21053868, -1.21259724, -0.75848054],\n",
      "       [-0.98945109, -0.69890037, -0.11659903, -0.05325001]]), array([[ 0.95437524, -1.03689608, -0.52241613],\n",
      "       [ 0.76718099, -0.23603649,  0.57884634],\n",
      "       [ 0.08784132, -0.3429286 ,  0.86768187],\n",
      "       [ 0.38194731, -0.23133162,  0.11412594],\n",
      "       [ 1.10340849,  0.22005801, -1.41533328]]), array([[0.],\n",
      "       [0.],\n",
      "       [0.],\n",
      "       [0.],\n",
      "       [0.]])), array([[-0.49354284,  1.53142993,  1.32485351,  0.73463548],\n",
      "       [-1.12434412,  0.40720022,  0.22403211,  0.08417937],\n",
      "       [-1.05949991, -0.44696833,  0.31527115,  0.20656968],\n",
      "       [-0.43719629,  0.34834004,  0.26984766,  0.13750739],\n",
      "       [ 0.85115179,  2.03889131, -0.09418118, -0.18362966]])), ((array([[0.        , 1.53142993, 1.32485351, 0.73463548],\n",
      "       [0.        , 0.40720022, 0.22403211, 0.08417937],\n",
      "       [0.        , 0.        , 0.31527115, 0.20656968],\n",
      "       [0.        , 0.34834004, 0.26984766, 0.13750739],\n",
      "       [0.85115179, 2.03889131, 0.        , 0.        ]]), array([[-0.89776919,  0.42377933, -0.65455811,  0.16800102, -0.30302338],\n",
      "       [-0.09777912,  0.08127158, -1.42242477, -0.86892138, -0.61769557],\n",
      "       [ 0.03500486,  0.54639927,  0.44264007, -0.7665579 ,  0.29461592],\n",
      "       [ 1.05038235,  0.57500929, -0.3761933 , -0.35245863, -0.73542231]]), array([[0.],\n",
      "       [0.],\n",
      "       [0.],\n",
      "       [0.]])), array([[-0.25791889, -1.76161782, -1.25550108, -0.7359701 ],\n",
      "       [-0.52575268, -1.6787423 , -0.79426146, -0.47830356],\n",
      "       [ 0.25076286,  0.60976841,  0.10148508,  0.05774   ],\n",
      "       [-0.62595601,  0.22050927,  1.30671025,  0.69387626]])), ((array([[0.        , 0.        , 0.        , 0.        ],\n",
      "       [0.        , 0.        , 0.        , 0.        ],\n",
      "       [0.25076286, 0.60976841, 0.10148508, 0.05774   ],\n",
      "       [0.        , 0.22050927, 1.30671025, 0.69387626]]), array([[-2.00593744,  0.47078282, -0.32507904, -0.56571994]]), array([[0.]])), array([[-0.08151775, -0.32296942, -0.77222271, -0.4113097 ]]))]\n"
     ]
    }
   ],
   "source": [
    "AL, caches = L_model_forward(X, params)\n",
    "print(AL)\n",
    "print('\\n')\n",
    "print(caches)"
   ]
  },
  {
   "cell_type": "markdown",
   "id": "342c05f2",
   "metadata": {},
   "source": [
    "#### Compute Cost\n",
    "Cost for sigmoid function is defined as\n",
    "$$-\\frac{1}{m} \\sum\\limits_{i = 1}^{m} (y^{(i)}\\log\\left(a^{[L] (i)}\\right) + (1-y^{(i)})\\log\\left(1- a^{[L](i)}\\right))$$\n",
    "$$J_{regularized} = \\small \\underbrace{-\\frac{1}{m} \\sum\\limits_{i = 1}^{m} \\large{(}\\small y^{(i)}\\log\\left(a^{[L](i)}\\right) + (1-y^{(i)})\\log\\left(1- a^{[L](i)}\\right) \\large{)} }_\\text{cross-entropy cost} + \\underbrace{\\frac{1}{m} \\frac{\\lambda}{2} \\sum\\limits_l\\sum\\limits_k\\sum\\limits_j W_{k,j}^{[l]2} }_\\text{L2 regularization cost}$$"
   ]
  },
  {
   "cell_type": "code",
   "execution_count": 12,
   "id": "7a4b0545",
   "metadata": {},
   "outputs": [],
   "source": [
    "def compute_frobenius_norm(parameters):\n",
    "    L = len(parameters) // 2\n",
    "    summation = 0\n",
    "    for l in range(1, L + 1):\n",
    "        W_kj = parameters['W' + str(l)]\n",
    "        summation += np.sum(np.square(W_kj))\n",
    "    return np.sqrt(summation)"
   ]
  },
  {
   "cell_type": "code",
   "execution_count": 13,
   "id": "bf815bce",
   "metadata": {},
   "outputs": [],
   "source": [
    "def compute_derivative_frobenius_norm(parameter, parameters):\n",
    "    l2norm = compute_frobenius_norm(parameters)\n",
    "    return parameter / l2norm"
   ]
  },
  {
   "cell_type": "code",
   "execution_count": 14,
   "id": "53656f56",
   "metadata": {},
   "outputs": [],
   "source": [
    "def compute_cost(AL, Y, parameters=None, lambda_=0.):\n",
    "    \"\"\"\n",
    "    arguments:\n",
    "        AL: nparray; the output of the neural network\n",
    "        Y: array of labels\n",
    "        parameters: dictionary of the parameters containing Ws and bs to calculate ||W||F\n",
    "        lambda_: is a scalar as regularization parameter\n",
    "    returns:\n",
    "        decimal number specifing the cost\n",
    "    \"\"\"\n",
    "    Y = Y.reshape(AL.shape)\n",
    "    m = Y.shape[1]\n",
    "    cost = np.multiply(-Y, np.log(AL)) - np.multiply(1 - Y, np.log(1 - AL))\n",
    "    cost = np.sum(cost, axis=1) / (m)\n",
    "    \n",
    "    reg_cost = (lambda_ * compute_frobenius_norm(parameters) ** 2) / (2 * m)\n",
    "    cost += reg_cost\n",
    "        \n",
    "    return np.squeeze(cost)"
   ]
  },
  {
   "cell_type": "code",
   "execution_count": 15,
   "id": "78b6a932",
   "metadata": {},
   "outputs": [
    {
     "data": {
      "text/plain": [
       "array(0.7375215)"
      ]
     },
     "execution_count": 15,
     "metadata": {},
     "output_type": "execute_result"
    }
   ],
   "source": [
    "# Test function\n",
    "compute_cost(AL, Y, params, 0.001)"
   ]
  },
  {
   "cell_type": "markdown",
   "id": "1f9670b8",
   "metadata": {},
   "source": [
    "### Backward Propagation"
   ]
  },
  {
   "cell_type": "code",
   "execution_count": 16,
   "id": "a7aec0fb",
   "metadata": {},
   "outputs": [],
   "source": [
    "def sigmoid_backward(dA, cache):\n",
    "    \"\"\"\n",
    "    arguments:\n",
    "        dA: post-activation gradient, of any shape\n",
    "        cache: it is \"Z\" that we stored to use later in back prop\n",
    "    \n",
    "    returns:\n",
    "        derivative of loss function with respect to Z\n",
    "    \"\"\"\n",
    "    Z = cache\n",
    "    s = 1 / (1 + np.exp(-Z))\n",
    "    dZ = dA * s * (1 - s)\n",
    "    \n",
    "    return dZ"
   ]
  },
  {
   "cell_type": "code",
   "execution_count": 17,
   "id": "854f7913",
   "metadata": {},
   "outputs": [],
   "source": [
    "def relu_backward(dA, cache):\n",
    "    \"\"\"\n",
    "    arguments:\n",
    "        dA: post-activation gradient, of any shape\n",
    "        cache: it is \"Z\" that we stored to use later in back prop\n",
    "    \n",
    "    returns:\n",
    "        derivative of loss function with respect to Z\n",
    "    \"\"\"\n",
    "    Z = cache\n",
    "    dZ = np.array(dA, copy=True)\n",
    "    dZ[Z <= 0] = 0\n",
    "    \n",
    "    return dZ"
   ]
  },
  {
   "cell_type": "markdown",
   "id": "bd3a77b6",
   "metadata": {},
   "source": [
    "Let's say we have dZ, now we are to find:\n",
    "$$ dW^{[l]} = \\frac{\\partial \\mathcal{J} }{\\partial W^{[l]}} = \\frac{1}{m} dZ^{[l]} A^{[l-1] T}$$\n",
    "$$ db^{[l]} = \\frac{\\partial \\mathcal{J} }{\\partial b^{[l]}} = \\frac{1}{m} \\sum_{i = 1}^{m} dZ^{[l](i)}$$\n",
    "$$ dA^{[l-1]} = \\frac{\\partial \\mathcal{L} }{\\partial A^{[l-1]}} = W^{[l] T} dZ^{[l]}$$\n",
    "And for regularization update we have\n",
    "$$\\frac{d}{dW} ( \\frac{1}{2}\\frac{\\lambda}{m}  W^2) = \\frac{\\lambda}{m} W$$"
   ]
  },
  {
   "cell_type": "code",
   "execution_count": 18,
   "id": "4a5b1c3f",
   "metadata": {},
   "outputs": [],
   "source": [
    "def linear_backward(dZ, cache):\n",
    "    \"\"\"\n",
    "    arguments:\n",
    "        dZ: gradient of the cost with respect to the linear output i.e Z\n",
    "        cache: the tupe (A_prev, W, b)\n",
    "    \n",
    "    returns:\n",
    "        dW: gradient of the cost with respect to the weights i.e W\n",
    "        db: gradient of the cost with respect to the intercepts i.e b\n",
    "        dA_prev: gradient of the cost with respect to the activation function in the previous layer\n",
    "    \"\"\"\n",
    "    A_prev, W, b = cache\n",
    "    m = A_prev.shape[1]\n",
    "    dW = np.matmul(dZ, A_prev.T) / m\n",
    "    db = np.sum(dZ, axis=1, keepdims=True) / m\n",
    "    dA_prev = np.matmul(W.T, dZ)\n",
    "    \n",
    "    return dA_prev, dW, db"
   ]
  },
  {
   "cell_type": "code",
   "execution_count": 19,
   "id": "8cdf1f51",
   "metadata": {},
   "outputs": [],
   "source": [
    "def linear_activation_backward(dA, cache, activation):\n",
    "    \"\"\"\n",
    "    arguments:\n",
    "        dA: post-activation gradient for current layer l\n",
    "        cache: tuple contaning (linear_cache, activation_cache)\n",
    "        activation: activation function go to be used in this layer\n",
    "        \n",
    "    returns:\n",
    "        dW: gradient of the cost with respect to the weights i.e W\n",
    "        db: gradient of the cost with respect to the intercepts i.e b\n",
    "        dA_prev: gradient of the cost with respect to the activation function in the previous layer\n",
    "    \"\"\"\n",
    "    \n",
    "    (linear_cache, activation_cache) = cache\n",
    "    if activation == 'relu':\n",
    "        dZ = relu_backward(dA, activation_cache)\n",
    "    elif activation == 'sigmoid':\n",
    "        dZ = sigmoid_backward(dA, activation_cache)\n",
    "    \n",
    "    dA_prev, dW, db = linear_backward(dZ, linear_cache)\n",
    "    return dA_prev, dW, db"
   ]
  },
  {
   "cell_type": "code",
   "execution_count": 20,
   "id": "55c96dcf",
   "metadata": {},
   "outputs": [],
   "source": [
    "def L_model_backward(AL, Y, caches, parameters, lambda_=0, keep_prob=1.):\n",
    "    \"\"\"\n",
    "    arguments:\n",
    "        AL: predicted outputs from the neural network\n",
    "        Y: correct values\n",
    "        caches: cached values in each step of linear forward and linear activation forward\n",
    "        parameters: dictionary of the parameters containing Ws and bs to calculate ||W||F\n",
    "        lambda_: is a scalar as regularization parameter\n",
    "    returns:\n",
    "        gradients that are --> dA_prev, dW, db for each layer\n",
    "    \"\"\"\n",
    "    grads = {}\n",
    "    Y = Y.reshape(AL.shape)\n",
    "    L = len(caches)\n",
    "    m = Y.shape[1]\n",
    "    \n",
    "    current_cache = caches[L - 1]\n",
    "    dAL = -(np.divide(Y, AL) - np.divide(1 - Y, 1 - AL))\n",
    "    dA_prev, dW, db = linear_activation_backward(dAL, current_cache, 'sigmoid')\n",
    "    grads['dW' + str(L)] = dW\n",
    "    grads['db' + str(L)] = db\n",
    "    grads['dA' + str(L - 1)] = dA_prev\n",
    "    \n",
    "    for l in reversed(range(L - 1)):\n",
    "        current_cache = caches[l] # caches[l] means, caches from layer l+1\n",
    "        dA_prev, dW, db = linear_activation_backward(grads[\"dA\" + str(l + 1)], current_cache, 'relu')\n",
    "        grads['dW' + str(l + 1)] = dW\n",
    "        grads['db' + str(l + 1)] = db\n",
    "        grads['dA' + str(l)] = dA_prev\n",
    "        \n",
    "    \n",
    "    # This does not calculate d||W||F/dW it calculates d||W||F^2/dW\n",
    "    for l in range(1, L + 1):\n",
    "        grads['dW' + str(l)] += lambda_/m * parameters['W' + str(l)]\n",
    "        \n",
    "        \n",
    "    # Regularization : Dropout\n",
    "    for l in range(1, L):\n",
    "        grad_A = grads['dA' + str(l)]\n",
    "        D = np.random.rand(grad_A.shape[0], grad_A.shape[1])\n",
    "        D = (D <= keep_prob).astype(int)\n",
    "        grad_A = grad_A * D\n",
    "        grads['dA' + str(l)] = grad_A\n",
    "        \n",
    "    return grads"
   ]
  },
  {
   "cell_type": "code",
   "execution_count": 21,
   "id": "80dde1bc",
   "metadata": {},
   "outputs": [
    {
     "data": {
      "text/plain": [
       "{'dW3': array([[-5.01484361e-04,  1.17695705e-04,  1.97146590e-02,\n",
       "         -1.31294093e-01]]),\n",
       " 'db3': array([[-0.09645483]]),\n",
       " 'dA2': array([[ 1.04382598, -0.84239794,  1.37206425, -0.7995629 ],\n",
       "        [-0.24498039,  0.1977063 , -0.32201616,  0.18765315],\n",
       "        [ 0.16916078, -0.13651768,  0.22235456, -0.1295759 ],\n",
       "        [ 0.29438264, -0.23757536,  0.3869533 , -0.2254949 ]]),\n",
       " 'dW2': array([[-2.24442296e-04,  1.05944832e-04, -1.63639527e-04,\n",
       "          4.20002542e-05, -7.57558439e-05],\n",
       "        [-2.44447804e-05,  2.03178947e-05, -3.55606192e-04,\n",
       "         -2.17230345e-04, -1.54423891e-04],\n",
       "        [-2.40902081e-03, -4.03417106e-03,  1.09445413e-02,\n",
       "         -1.53422887e-03, -3.35171457e-02],\n",
       "        [-3.94494060e-03, -7.11444621e-03,  1.87596513e-02,\n",
       "         -2.42456053e-03, -1.21281440e-01]]),\n",
       " 'db2': array([[ 0.        ],\n",
       "        [ 0.        ],\n",
       "        [ 0.03135544],\n",
       "        [-0.01902924]]),\n",
       " 'dA1': array([[ 0.00592145, -0.25432375,  0.4142324 , -0.24139165],\n",
       "        [ 0.09242933, -0.2112012 ,  0.34399611, -0.20046184],\n",
       "        [ 0.07487734,  0.02894607, -0.0471462 ,  0.02747419],\n",
       "        [-0.12967154,  0.18838419, -0.30683267,  0.17880505],\n",
       "        [ 0.04983746,  0.13449794, -0.21906489,  0.12765886]]),\n",
       " 'dW1': array([[-0.05716515, -0.06667453,  0.03544489],\n",
       "        [-0.0474787 , -0.05521308,  0.02968811],\n",
       "        [-0.00063281,  0.00899695,  0.00122547],\n",
       "        [ 0.04261593,  0.0491377 , -0.02632316],\n",
       "        [ 0.02638995, -0.00158882, -0.03618193]]),\n",
       " 'db1': array([[-0.02037075],\n",
       "        [-0.01691673],\n",
       "        [-0.004918  ],\n",
       "        [ 0.01508914],\n",
       "        [ 0.04608385]]),\n",
       " 'dA0': array([[ 0.05499108, -0.18439083,  0.53790512, -0.31346125],\n",
       "        [ 0.01096713,  0.29957661, -0.42356371,  0.24682942],\n",
       "        [-0.07053661, -0.1582501 , -0.09320627,  0.05431544]])}"
      ]
     },
     "execution_count": 21,
     "metadata": {},
     "output_type": "execute_result"
    }
   ],
   "source": [
    "# Test function\n",
    "grads = L_model_backward(AL, Y, caches, params, 0.001)\n",
    "grads"
   ]
  },
  {
   "cell_type": "markdown",
   "id": "834f7a8a",
   "metadata": {},
   "source": [
    "### Update Parameters\n",
    "$$ W^{[l]} = W^{[l]} - \\alpha \\text{ } dW^{[l]}$$\n",
    "$$ b^{[l]} = b^{[l]} - \\alpha \\text{ } db^{[l]}$$"
   ]
  },
  {
   "cell_type": "code",
   "execution_count": 22,
   "id": "93327cf8",
   "metadata": {},
   "outputs": [],
   "source": [
    "def update_parameters(params, grads, learning_rate):\n",
    "    \"\"\"\n",
    "    arguments\n",
    "        params: is the parameters that we initialized\n",
    "        grads: gradients that are calculated in \"L_model_backward\"\n",
    "        learning_rate: a decimal illustrating how much of the gradient should effect params\n",
    "    \n",
    "    return:\n",
    "        updated parameters\n",
    "    \"\"\"\n",
    "    L = len(params) // 2\n",
    "    parameters = params.copy()\n",
    "    \n",
    "    for l in range(1, L + 1):\n",
    "        parameters['W' + str(l)] = params['W' + str(l)] - learning_rate * grads['dW' + str(l)]\n",
    "        parameters['b' + str(l)] = params['b' + str(l)] - learning_rate * grads['db' + str(l)]\n",
    "    \n",
    "    return parameters"
   ]
  },
  {
   "cell_type": "code",
   "execution_count": 23,
   "id": "a54e8247",
   "metadata": {},
   "outputs": [
    {
     "data": {
      "text/plain": [
       "{'W1': array([[ 0.95494689, -1.03622934, -0.52277058],\n",
       "        [ 0.76765577, -0.23548435,  0.57854946],\n",
       "        [ 0.08784765, -0.34301856,  0.86766962],\n",
       "        [ 0.38152115, -0.231823  ,  0.11438917],\n",
       "        [ 1.10314459,  0.2200739 , -1.41497146]]),\n",
       " 'b1': array([[ 2.03707497e-04],\n",
       "        [ 1.69167322e-04],\n",
       "        [ 4.91800284e-05],\n",
       "        [-1.50891422e-04],\n",
       "        [-4.60838497e-04]]),\n",
       " 'W2': array([[-0.89776694,  0.42377827, -0.65455647,  0.1680006 , -0.30302262],\n",
       "        [-0.09777888,  0.08127138, -1.42242121, -0.86891921, -0.61769402],\n",
       "        [ 0.03502895,  0.54643961,  0.44253063, -0.76654256,  0.29495109],\n",
       "        [ 1.0504218 ,  0.57508043, -0.3763809 , -0.35243439, -0.73420949]]),\n",
       " 'b2': array([[ 0.        ],\n",
       "        [ 0.        ],\n",
       "        [-0.00031355],\n",
       "        [ 0.00019029]]),\n",
       " 'W3': array([[-2.00593243,  0.47078164, -0.32527619, -0.564407  ]]),\n",
       " 'b3': array([[0.00096455]])}"
      ]
     },
     "execution_count": 23,
     "metadata": {},
     "output_type": "execute_result"
    }
   ],
   "source": [
    "# Test function\n",
    "update_parameters(params, grads, 0.01)"
   ]
  },
  {
   "cell_type": "markdown",
   "id": "c2712bae",
   "metadata": {},
   "source": [
    "## Gradient Test"
   ]
  },
  {
   "cell_type": "code",
   "execution_count": 93,
   "id": "9102e32d",
   "metadata": {},
   "outputs": [],
   "source": [
    "def vector_to_dictionary(vector, parameters):\n",
    "    \"\"\"\n",
    "    Convert a vector into a dictionary of parameters\n",
    "    Arguments:\n",
    "    vector -- The vector to convert\n",
    "    parameters -- A dictionary of parameters, containing the shapes of the parameters\n",
    "    \n",
    "    Returns:\n",
    "    dictionary -- A dictionary of parameters from the vector\n",
    "    \"\"\"\n",
    "    L = len(parameters) // 2\n",
    "    index = 0\n",
    "    for l in range(1, L + 1):\n",
    "        shape = parameters['W' + str(l)].shape\n",
    "        size = np.prod(shape)\n",
    "        parameters['W' + str(l)] = np.reshape(vector[index:index + size], shape)\n",
    "        index += size\n",
    "        \n",
    "        shape = parameters['b' + str(l)].shape\n",
    "        size = np.prod(shape)\n",
    "        parameters['b' + str(l)] = np.reshape(vector[index:index + size], shape)\n",
    "        index += size\n",
    "    return parameters"
   ]
  },
  {
   "cell_type": "code",
   "execution_count": null,
   "id": "1a4ea889",
   "metadata": {},
   "outputs": [],
   "source": [
    "def dict_to_vector(params):\n",
    "    \"\"\"Flatten dictionary to vector.\"\"\"\n",
    "    L = len(params) // 2\n",
    "    vec = np.array([])\n",
    "    for l in range(1, L + 1):\n",
    "        vec = np.concatenate((vec, params['W' + str(l)].flatten()))\n",
    "        vec = np.concatenate((vec, params['b' + str(l)].flatten()))\n",
    "    return vec"
   ]
  },
  {
   "cell_type": "code",
   "execution_count": null,
   "id": "862ce78d",
   "metadata": {},
   "outputs": [],
   "source": [
    "def grads_to_vec(grads, L):\n",
    "    \"\"\"Flatten gradients to vector.\"\"\"\n",
    "    vec = np.array([])\n",
    "    for l in range(1, L + 1):\n",
    "        vec = np.concatenate((vec, grads['dW' + str(l)].flatten()))\n",
    "        vec = np.concatenate((vec, grads['db' + str(l)].flatten()))\n",
    "    return vec"
   ]
  },
  {
   "cell_type": "code",
   "execution_count": null,
   "id": "c74df7ff",
   "metadata": {},
   "outputs": [],
   "source": [
    "def gradient_check(X, Y, parameters, grads, epsilon=1e-7):\n",
    "    \"\"\"\n",
    "    Implement gradient check\n",
    "    \n",
    "    Arguments:\n",
    "    X -- Input data, shape (input size, number of examples)\n",
    "    Y -- True labels, shape (output size, number of examples)\n",
    "    parameters -- Output of initialize_parameters_deep\n",
    "    grads -- Output of backward_propagation\n",
    "    epsilon -- Small epsilon value for numeric approximation of gradient\n",
    "    \n",
    "    Returns:\n",
    "    difference -- Difference between numeric gradient and backprop gradient\n",
    "    \"\"\"\n",
    "    parameters_values = dict_to_vector(parameters)\n",
    "    num_parameters = parameters_values.shape[0]\n",
    "    grad = grads_to_vec(grads, len(parameters) // 2).reshape(-1, 1)\n",
    "    J_plus = np.zeros((num_parameters, 1))\n",
    "    J_minus = np.zeros((num_parameters, 1))\n",
    "    gradapprox = np.zeros((num_parameters, 1))\n",
    "    \n",
    "    for i in range(num_parameters):\n",
    "        thetaplus = np.copy(parameters_values)                                      \n",
    "        thetaplus[i] = thetaplus[i] + epsilon   \n",
    "        AL, _ = L_model_forward(X, vector_to_dictionary(thetaplus, parameters))                 \n",
    "        J_plus[i] = compute_cost(AL, Y, parameters)     \n",
    "        \n",
    "        thetaminus = np.copy(parameters_values)                                     \n",
    "        thetaminus[i] = thetaminus[i] - epsilon                               \n",
    "        AL, _ = L_model_forward(X, vector_to_dictionary(thetaminus, parameters))                \n",
    "        J_minus[i] = compute_cost(AL, Y, parameters)                                            \n",
    "        \n",
    "        gradapprox[i] = (J_plus[i] - J_minus[i]) / (2 * epsilon)                    \n",
    "    \n",
    "    numerator = np.linalg.norm(grad - gradapprox)                                   \n",
    "    denominator = np.linalg.norm(grad) + np.linalg.norm(gradapprox)                \n",
    "    difference = numerator / denominator   \n",
    "    \n",
    "    if difference > 2 * epsilon:\n",
    "        print(\"There is a mistake in the backward propagation! difference = \" + str(difference))\n",
    "    else:\n",
    "        print(\"Your backward propagation works perfectly fine! difference = \" + str(difference))\n",
    "    \n",
    "    return difference, gradapprox, grad"
   ]
  },
  {
   "cell_type": "markdown",
   "id": "ba4b3714",
   "metadata": {},
   "source": [
    "## Test"
   ]
  },
  {
   "cell_type": "code",
   "execution_count": 214,
   "id": "f942585a",
   "metadata": {},
   "outputs": [],
   "source": [
    "X, y = make_classification(n_samples=400, n_features=2, n_informative=2, n_redundant=0, n_classes=2, class_sep=0.7,\n",
    "                           scale=[5, 5], n_clusters_per_class=1)"
   ]
  },
  {
   "cell_type": "code",
   "execution_count": 215,
   "id": "190ebc1e",
   "metadata": {},
   "outputs": [
    {
     "data": {
      "image/png": "[encoded data removed]",
      "text/plain": [
       "<Figure size 432x288 with 1 Axes>"
      ]
     },
     "metadata": {
      "needs_background": "light"
     },
     "output_type": "display_data"
    }
   ],
   "source": [
    "fig = plt.figure()\n",
    "plt.scatter(X[y == 1, 0], X[y == 1, 1], alpha=0.5);\n",
    "plt.scatter(X[y == 0, 0], X[y == 0, 1], alpha=0.5);\n",
    "ax = plt.gca()\n",
    "ax.set_xlabel('$x_1$');\n",
    "ax.set_ylabel('$x_2$');\n",
    "#ax.tick_params(left=False, bottom=False, labelleft=False, labelbottom=False)"
   ]
  },
  {
   "cell_type": "code",
   "execution_count": 216,
   "id": "c980bf98",
   "metadata": {},
   "outputs": [],
   "source": [
    "# Split\n",
    "X_train, X_cv, y_train, y_cv = train_test_split(X, y, test_size=0.4)\n",
    "X_cv, X_test, y_cv, y_test = train_test_split(X_cv, y_cv, test_size=0.5)\n",
    "# Normalization\n",
    "norm = Normalizer().fit(X_train)\n",
    "Xn_train = norm.transform(X_train)"
   ]
  },
  {
   "cell_type": "code",
   "execution_count": 217,
   "id": "e28ae414",
   "metadata": {},
   "outputs": [
    {
     "data": {
      "image/png": "[encoded data removed]",
      "text/plain": [
       "<Figure size 432x288 with 1 Axes>"
      ]
     },
     "metadata": {
      "needs_background": "light"
     },
     "output_type": "display_data"
    }
   ],
   "source": [
    "fig = plt.figure()\n",
    "plt.scatter(Xn_train[y_train == 1, 0], Xn_train[y_train == 1, 1], alpha=0.5);\n",
    "plt.scatter(Xn_train[y_train == 0, 0], Xn_train[y_train == 0, 1], alpha=0.5);\n",
    "ax = plt.gca()\n",
    "ax.set_xlabel('$x_1$');\n",
    "ax.set_ylabel('$x_2$');"
   ]
  },
  {
   "cell_type": "code",
   "execution_count": 220,
   "id": "161d20b0",
   "metadata": {},
   "outputs": [],
   "source": [
    "def model(X, y, iterations=100, learning_rate=0.01, lambda_=0, keep_prob=1, verbos=True, debug_mode=False):\n",
    "    hist = []\n",
    "    parameters = initialize_parameters_deep([2, 4, 1])\n",
    "    \n",
    "    for i in range(1, iterations + 1):\n",
    "        AL, caches = L_model_forward(X, parameters, keep_prob)\n",
    "        grads = L_model_backward(AL, y, caches, parameters, lambda_)\n",
    "        \n",
    "        if debug_mode:\n",
    "            gradient_check(X, y, parameters, grads) # Do gradient check\n",
    "            \n",
    "        parameters = update_parameters(parameters, grads, learning_rate)\n",
    "        cost = compute_cost(AL, y, parameters, lambda_)\n",
    "        hist.append(cost)\n",
    "        if verbos and i % 100 == 0:\n",
    "            print(f'Iteration {i} : cost is {cost}')\n",
    "        \n",
    "    return parameters, grads, hist"
   ]
  },
  {
   "cell_type": "code",
   "execution_count": 221,
   "id": "705b10f5",
   "metadata": {
    "scrolled": false
   },
   "outputs": [
    {
     "name": "stdout",
     "output_type": "stream",
     "text": [
      "Iteration 100 : cost is 0.7566008750095276\n",
      "Iteration 200 : cost is 0.6361147612100877\n",
      "Iteration 300 : cost is 0.5561987747627917\n",
      "Iteration 400 : cost is 0.4897932674115071\n",
      "Iteration 500 : cost is 0.43206772217368794\n",
      "Iteration 600 : cost is 0.3826546004938067\n",
      "Iteration 700 : cost is 0.34062520493086307\n",
      "Iteration 800 : cost is 0.30566695792661175\n",
      "Iteration 900 : cost is 0.2772453301188208\n",
      "Iteration 1000 : cost is 0.254544378339997\n",
      "Iteration 1100 : cost is 0.2365017783012573\n",
      "Iteration 1200 : cost is 0.2220578475489177\n",
      "Iteration 1300 : cost is 0.2100306293435139\n",
      "Iteration 1400 : cost is 0.2004131117876339\n",
      "Iteration 1500 : cost is 0.19307666220529268\n",
      "Iteration 1600 : cost is 0.18701460001221376\n",
      "Iteration 1700 : cost is 0.18257044871138634\n",
      "Iteration 1800 : cost is 0.1793455479101622\n",
      "Iteration 1900 : cost is 0.17692007226143366\n",
      "Iteration 2000 : cost is 0.17506858913467924\n",
      "Iteration 2100 : cost is 0.17369444804924\n",
      "Iteration 2200 : cost is 0.17262376994497158\n",
      "Iteration 2300 : cost is 0.17178541734529365\n",
      "Iteration 2400 : cost is 0.17111940638242415\n",
      "Iteration 2500 : cost is 0.1705686664359172\n",
      "Iteration 2600 : cost is 0.17010573882120336\n",
      "Iteration 2700 : cost is 0.16971081166127036\n",
      "Iteration 2800 : cost is 0.16937467910124504\n",
      "Iteration 2900 : cost is 0.16910960099384773\n",
      "Iteration 3000 : cost is 0.16888443698388833\n",
      "Iteration 3100 : cost is 0.16869420300956364\n",
      "Iteration 3200 : cost is 0.16852835718856884\n",
      "Iteration 3300 : cost is 0.16838244559142704\n",
      "Iteration 3400 : cost is 0.16824987529836283\n",
      "Iteration 3500 : cost is 0.1681345734068423\n",
      "Iteration 3600 : cost is 0.16802878687470205\n",
      "Iteration 3700 : cost is 0.1679295551598662\n",
      "Iteration 3800 : cost is 0.1678357256816783\n",
      "Iteration 3900 : cost is 0.16774638060992775\n",
      "Iteration 4000 : cost is 0.16766078588754535\n",
      "Iteration 4100 : cost is 0.16757835191334805\n",
      "Iteration 4200 : cost is 0.1674986030780445\n",
      "Iteration 4300 : cost is 0.1674234124852293\n",
      "Iteration 4400 : cost is 0.16735350778548655\n",
      "Iteration 4500 : cost is 0.16728550432348183\n",
      "Iteration 4600 : cost is 0.1672191150402787\n",
      "Iteration 4700 : cost is 0.1671543883302893\n",
      "Iteration 4800 : cost is 0.16709101480566713\n",
      "Iteration 4900 : cost is 0.16702899274476793\n",
      "Iteration 5000 : cost is 0.16696807221307872\n",
      "Iteration 5100 : cost is 0.16690809661912082\n",
      "Iteration 5200 : cost is 0.16684891473540528\n",
      "Iteration 5300 : cost is 0.16679081382472116\n",
      "Iteration 5400 : cost is 0.1667334098010541\n",
      "Iteration 5500 : cost is 0.16667650830096614\n",
      "Iteration 5600 : cost is 0.16662006627952977\n",
      "Iteration 5700 : cost is 0.1665640475176175\n",
      "Iteration 5800 : cost is 0.16650842133809987\n",
      "Iteration 5900 : cost is 0.16645316158057172\n",
      "Iteration 6000 : cost is 0.16639824577888204\n",
      "Iteration 6100 : cost is 0.16634365449883468\n",
      "Iteration 6200 : cost is 0.16628937080311845\n",
      "Iteration 6300 : cost is 0.16623577468469108\n",
      "Iteration 6400 : cost is 0.16618323002268778\n",
      "Iteration 6500 : cost is 0.16613101387244902\n",
      "Iteration 6600 : cost is 0.16607910406180168\n",
      "Iteration 6700 : cost is 0.16602747813712024\n",
      "Iteration 6800 : cost is 0.16597610322504688\n",
      "Iteration 6900 : cost is 0.1659249679118343\n",
      "Iteration 7000 : cost is 0.1658740606139105\n",
      "Iteration 7100 : cost is 0.1658233603143944\n",
      "Iteration 7200 : cost is 0.16577285721135276\n",
      "Iteration 7300 : cost is 0.16572257519408257\n",
      "Iteration 7400 : cost is 0.16567262415981615\n",
      "Iteration 7500 : cost is 0.16562285146939135\n",
      "Iteration 7600 : cost is 0.16557344625038656\n",
      "Iteration 7700 : cost is 0.1655242593856139\n",
      "Iteration 7800 : cost is 0.1654754115376396\n",
      "Iteration 7900 : cost is 0.16542677118763577\n",
      "Iteration 8000 : cost is 0.16537868280488244\n",
      "Iteration 8100 : cost is 0.16533090603464462\n",
      "Iteration 8200 : cost is 0.16528321756566272\n",
      "Iteration 8300 : cost is 0.165235612221391\n",
      "Iteration 8400 : cost is 0.16518808533702364\n",
      "Iteration 8500 : cost is 0.16514063265917603\n",
      "Iteration 8600 : cost is 0.1650932513004658\n",
      "Iteration 8700 : cost is 0.16504608296853843\n",
      "Iteration 8800 : cost is 0.16499908429555019\n",
      "Iteration 8900 : cost is 0.16495209866719057\n",
      "Iteration 9000 : cost is 0.1649050353661932\n",
      "Iteration 9100 : cost is 0.16485801484243373\n",
      "Iteration 9200 : cost is 0.16481103433130456\n",
      "Iteration 9300 : cost is 0.16476409127820982\n",
      "Iteration 9400 : cost is 0.1647175187214981\n",
      "Iteration 9500 : cost is 0.16467185490932587\n",
      "Iteration 9600 : cost is 0.16462629104385298\n",
      "Iteration 9700 : cost is 0.16458146348152933\n",
      "Iteration 9800 : cost is 0.16453667700684882\n",
      "Iteration 9900 : cost is 0.16449192256925776\n",
      "Iteration 10000 : cost is 0.16444719356482013\n"
     ]
    }
   ],
   "source": [
    "params, grads, hist = model(Xn_train.T, y_train, iterations=10000, learning_rate=.01)"
   ]
  },
  {
   "cell_type": "code",
   "execution_count": 222,
   "id": "17468a63",
   "metadata": {},
   "outputs": [],
   "source": [
    "def predict(X, y, parameters):\n",
    "    y_hat, _ = L_model_forward(X, parameters)\n",
    "    y_hat[y_hat > 0.5] = 1\n",
    "    y_hat[y_hat <= 0.5] = 0\n",
    "    return (y == y_hat).sum() / y_hat.shape[1]"
   ]
  },
  {
   "cell_type": "code",
   "execution_count": 223,
   "id": "5b790880",
   "metadata": {},
   "outputs": [
    {
     "data": {
      "text/plain": [
       "0.9541666666666667"
      ]
     },
     "execution_count": 223,
     "metadata": {},
     "output_type": "execute_result"
    }
   ],
   "source": [
    "predict(Xn_train.T, y_train, params)"
   ]
  },
  {
   "cell_type": "code",
   "execution_count": 224,
   "id": "6b228ad4",
   "metadata": {},
   "outputs": [
    {
     "data": {
      "text/plain": [
       "0.9375"
      ]
     },
     "execution_count": 224,
     "metadata": {},
     "output_type": "execute_result"
    }
   ],
   "source": [
    "predict(norm.transform(X_cv).T, y_cv, params)"
   ]
  },
  {
   "cell_type": "code",
   "execution_count": 225,
   "id": "aa528ddc",
   "metadata": {},
   "outputs": [
    {
     "data": {
      "text/plain": [
       "0.9"
      ]
     },
     "execution_count": 225,
     "metadata": {},
     "output_type": "execute_result"
    }
   ],
   "source": [
    "predict(norm.transform(X_test).T, y_test, params)"
   ]
  },
  {
   "cell_type": "code",
   "execution_count": null,
   "id": "a1f81e51",
   "metadata": {},
   "outputs": [],
   "source": []
  }
 ],
 "metadata": {
  "kernelspec": {
   "display_name": "Python 3 (ipykernel)",
   "language": "python",
   "name": "python3"
  },
  "language_info": {
   "codemirror_mode": {
    "name": "ipython",
    "version": 3
   },
   "file_extension": ".py",
   "mimetype": "text/x-python",
   "name": "python",
   "nbconvert_exporter": "python",
   "pygments_lexer": "ipython3",
   "version": "3.10.4"
  }
 },
 "nbformat": 4,
 "nbformat_minor": 5
}
