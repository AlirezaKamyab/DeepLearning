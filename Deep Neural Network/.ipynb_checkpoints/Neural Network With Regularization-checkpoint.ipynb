{
 "cells": [
  {
   "cell_type": "markdown",
   "id": "a5ef4287",
   "metadata": {},
   "source": [
    "# Deep Neural Network"
   ]
  },
  {
   "cell_type": "markdown",
   "id": "d48caba8",
   "metadata": {},
   "source": [
    "## Notations and demonstrations\n",
    "- $m$ is denoted as the number of training examples\n",
    "- $n$ is denoted as the number of the features\n",
    "- $X$ is a matrix that each column is a training example and each row is a feature <br>\n",
    "$\n",
    "X = \n",
    "\\begin{bmatrix}\n",
    "    \\displaystyle\n",
    "    x^{(1)}_{1} & x^{(2)}_{1} & \\dots & x^{(m)}_{1} \\\\\n",
    "    x^{(1)}_{2} & x^{(2)}_{2} & \\dots & x^{(m)}_{2} \\\\\n",
    "    & \\vdots & \\vdots & \\\\\n",
    "    x^{(1)}_{n} & x^{(2)}_{n} & \\dots & x^{(m)}_{n} \\\\\n",
    "\\end{bmatrix}_{n_x \\times m}\n",
    "$\n",
    "- $y$ is a vector denoted as the labels <br>\n",
    "$\n",
    "y = \n",
    "\\begin{bmatrix}\n",
    "    y_1 & y_2 & \\dots & y_m\n",
    "\\end{bmatrix}\n",
    "$\n",
    "- $w$ is a vector of weights <br>\n",
    "$\n",
    "w = \n",
    "\\begin{bmatrix}\n",
    "\\displaystyle\n",
    "    w_1\\\\\n",
    "    w_2\\\\\n",
    "    \\vdots\\\\\n",
    "    w_n\n",
    "\\end{bmatrix}\n",
    "$\n",
    "<br> <br>\n",
    "Neural networks might have multiple layers; each layers contains multiple perceptron and each themselves could be logistic function or ...; so for each we need different vector of weights that could be obtained via stacking each function's weights in a matrix;\n",
    "<br>\n",
    "- $W^{[1]}$ is a matrix for the first layer of the neural network; for example, if the first layer contains 4 logistic functions we have<br>\n",
    "$\n",
    "W^{[1]} =\n",
    "\\displaystyle\n",
    "\\begin{bmatrix}\n",
    "    \\dots & w_1^{[1]T} & \\dots\\\\\n",
    "    \\dots & w_2^{[1]T} & \\dots\\\\\n",
    "    \\dots & w_3^{[1]T} & \\dots\\\\\n",
    "    \\dots & w_4^{[1]T} & \\dots\\\\\n",
    "\\end{bmatrix}_{4, n}\n",
    "$\n",
    "<br><br>\n",
    "Since we have multiple functions in each layer, we need multiple intercepts.\n",
    "- $b$ is vector of intercepts; If we have 4 logistic function in the first layer, it would be like below <br>\n",
    "$\n",
    "b^{[1]} = \n",
    "\\displaystyle\n",
    "\\begin{bmatrix}\n",
    "    b_1^{[1]}\\\\\n",
    "    b_2^{[1]}\\\\\n",
    "    b_3^{[1]}\\\\\n",
    "    b_4^{[1]}\\\\\n",
    "\\end{bmatrix}\n",
    "$\n",
    "<br><br>\n",
    "For calculating $Z$ we have\n",
    "$$\n",
    "Z^{[1]} = \n",
    "\\begin{bmatrix}\n",
    "    \\dots & w_1^{[1]T} & \\dots\\\\\n",
    "    \\dots & w_2^{[1]T} & \\dots\\\\\n",
    "    \\dots & w_3^{[1]T} & \\dots\\\\\n",
    "    \\dots & w_4^{[1]T} & \\dots\\\\\n",
    "\\end{bmatrix}_{4, n}\n",
    "\\begin{bmatrix}\n",
    "    \\displaystyle\n",
    "    x^{(1)} & x^{(2)} & \\dots & x^{(m)}\n",
    "\\end{bmatrix}_{n_x \\times m} + \n",
    "\\begin{bmatrix}\n",
    "    b_1^{[1]}\\\\\n",
    "    b_2^{[1]}\\\\\n",
    "    b_3^{[1]}\\\\\n",
    "    b_4^{[1]}\\\\\n",
    "\\end{bmatrix}\n",
    "$$\n",
    "The result will be\n",
    "$$\n",
    "Z^{[1]} = \n",
    "\\begin{bmatrix}\n",
    "    \\displaystyle\n",
    "    W_1^{[1]T}.x^{(1)} + b_1^{[1]}\\\\\n",
    "    W_2^{[1]T}.x^{(2)} + b_2^{[1]}\\\\\n",
    "    W_3^{[1]T}.x^{(3)} + b_3^{[1]}\\\\\n",
    "    W_4^{[1]T}.x^{(4)} + b_4^{[1]}\\\\\n",
    "\\end{bmatrix}\n",
    "=\n",
    "\\begin{bmatrix}\n",
    "    \\displaystyle\n",
    "    Z_1^{[1]}\\\\\n",
    "    Z_2^{[1]}\\\\\n",
    "    Z_3^{[1]}\\\\\n",
    "    Z_4^{[1]}\\\\\n",
    "\\end{bmatrix}_{4, m}\n",
    "$$\n",
    "\n",
    "Applying the activation function for the first layer containing 4 perceptrons we have\n",
    "$$\n",
    "a^{[1]} = \n",
    "\\begin{bmatrix}\n",
    "    \\displaystyle\n",
    "    a_1^{[1]}\\\\\n",
    "    a_2^{[1]}\\\\\n",
    "    a_3^{[1]}\\\\\n",
    "    a_4^{[1]}\\\\\n",
    "\\end{bmatrix}\n",
    "= G(Z^{[1]})\n",
    "$$"
   ]
  },
  {
   "cell_type": "markdown",
   "id": "1d553824",
   "metadata": {},
   "source": [
    "## Activation functions\n",
    "- Sigmoid\n",
    "$$\n",
    "    \\begin{equation}\n",
    "        a = g(z) = \\displaystyle\\frac{1}{1 + e^{-z}} \\\\\n",
    "    \\end{equation}\n",
    "$$\n",
    "<img src=\"https://upload.wikimedia.org/wikipedia/commons/8/88/Logistic-curve.svg\" width=\"300px\" height=\"300px\"/>\n",
    "\n",
    "    - Derivative\n",
    "    $$\n",
    "        \\begin{equation}\n",
    "            g'(z) = \\frac{dg(z)}{dz} = \\frac{1}{1 + e^{-z}}(1 - \\frac{1}{1 + e^{-z}}) \\\\ \n",
    "            g'(z) = g(z)(1 - g(z)) = a(1 - a)\n",
    "        \\end{equation}\n",
    "    $$\n",
    "    Calculations :\n",
    "    $$\n",
    "        \\begin{equation}\n",
    "            \\frac{d}{dz}g(z) = \\frac{0 - (-e^{-z})}{(1 + e^{-z})^2} = \\frac{e^{-z}}{(1 + e^{-z})^2} = \\\\\n",
    "                \\frac{e^{-z} + 1 - 1}{1 + e^{-z}} \\times \\frac{1}{1 + e^{-z}} = \\\\\n",
    "                (1 - \\frac{1}{1 + e^{-z}})\\frac{1}{1+e^{-z}}\n",
    "        \\end{equation}\n",
    "    $$\n",
    "    <br><br>\n",
    "\n",
    "- tanh\n",
    "$$\n",
    "    \\begin{equation}\n",
    "        a = g(z) = \\frac{e^z - e^{-z}}{e^z + e^{-z}}\n",
    "    \\end{equation}\n",
    "$$\n",
    "<img src=\"https://upload.wikimedia.org/wikipedia/commons/7/76/Sinh_cosh_tanh.svg\" width=\"300px\" height=\"300px\"/>\n",
    "\n",
    "    - Derivative\n",
    "    $$\n",
    "        \\begin{equation}\n",
    "        g'(z) = \\frac{d}{dz}tanh(z) = 1 - (tanh(z))^2\\\\\n",
    "        g'(z) = 1 - a^2\n",
    "        \\end{equation}\n",
    "    $$\n",
    "    Calculations:\n",
    "    $$\n",
    "        \\begin{equation}\n",
    "            \\frac{d}{dz} tanh(z) = \\frac{(e^z+e^{-z}) - (e^z-e^{-z})}{(e^z+e^{-z})^2} = \\\\\n",
    "            1 - \\frac{(e^z-e^{-z})}{e^z+e^{-z}} = 1 - (tanh(z))^2\n",
    "        \\end{equation}\n",
    "    $$\n",
    "\n",
    "<br><br>\n",
    "- ReLU\n",
    "$$\n",
    "    a = max(0, z)\n",
    "$$\n",
    "<img src=\"https://upload.wikimedia.org/wikipedia/commons/4/42/ReLU_and_GELU.svg\" width=\"300px\" height=\"300px\"/>\n",
    "\n",
    "    - Derivative\n",
    "    $$\n",
    "    g'(z) = \n",
    "        \\begin{equation}\n",
    "            \\begin{cases}\n",
    "            0 & z < 0\\\\\n",
    "            1 & z \\ge 0\n",
    "            \\end{cases}\n",
    "        \\end{equation}\n",
    "    $$\n",
    "    \n",
    "<br><br>\n",
    "- leaky ReLU\n",
    "$$\n",
    "    a = max(0.01z, z)\n",
    "$$\n",
    "\n",
    "    - Derivative\n",
    "    \n",
    "    $$\n",
    "    g'(z) = \n",
    "        \\begin{equation}\n",
    "            \\begin{cases}\n",
    "            0.01 & z < 0\\\\\n",
    "            1 & z \\ge 0\n",
    "            \\end{cases}\n",
    "        \\end{equation}\n",
    "    $$\n",
    "    "
   ]
  },
  {
   "cell_type": "code",
   "execution_count": 1,
   "id": "d445d7d5",
   "metadata": {},
   "outputs": [],
   "source": [
    "import numpy as np\n",
    "import matplotlib.pyplot as plt\n",
    "from sklearn.datasets import make_classification, make_blobs\n",
    "from sklearn.model_selection import train_test_split\n",
    "from sklearn.preprocessing import StandardScaler"
   ]
  },
  {
   "cell_type": "markdown",
   "id": "6141d79f",
   "metadata": {},
   "source": [
    "## Implement L-Layered Neural Network functions"
   ]
  },
  {
   "cell_type": "markdown",
   "id": "a0736d04",
   "metadata": {},
   "source": [
    "### Initialization"
   ]
  },
  {
   "cell_type": "code",
   "execution_count": 2,
   "id": "e042caf3",
   "metadata": {},
   "outputs": [],
   "source": [
    "def initialize_parameters_deep(layer_dims):\n",
    "    \"\"\"\n",
    "    arguments:\n",
    "        layer_dims: A list that contains the size of each layer\n",
    "        \n",
    "    returns:\n",
    "        dict: parameters for each layer\n",
    "    \"\"\"\n",
    "    \n",
    "    params = {}\n",
    "    L = len(layer_dims)\n",
    "    for l in range(1, L):\n",
    "        # This uses He initialization\n",
    "        params['W' + str(l)] = np.random.randn(layer_dims[l], layer_dims[l - 1]) * np.sqrt(2 / layer_dims[l - 1])\n",
    "        params['b' + str(l)] = np.zeros((layer_dims[l], 1))\n",
    "    return params"
   ]
  },
  {
   "cell_type": "code",
   "execution_count": 3,
   "id": "639e330f",
   "metadata": {},
   "outputs": [
    {
     "name": "stdout",
     "output_type": "stream",
     "text": [
      "W1 :\n",
      "[[-0.0635502  -0.88523995  0.22841401]\n",
      " [-0.0413894   0.56413289  0.48696094]\n",
      " [-0.210066   -0.77741515  0.60205267]\n",
      " [ 0.94187801  0.10226537 -0.11770336]\n",
      " [ 0.15372539 -0.61331985  0.77960281]]\n",
      "b1 :\n",
      "[[0.]\n",
      " [0.]\n",
      " [0.]\n",
      " [0.]\n",
      " [0.]]\n",
      "W2 :\n",
      "[[-0.55833915  0.16871642  0.04099606  0.20108409  1.07772576]\n",
      " [-0.8401812   0.25892812  0.92158228  0.24763115  0.17796068]\n",
      " [-1.10979996 -0.59394     1.28221157  0.29111582 -0.22560005]\n",
      " [ 0.34577921  0.55602878 -1.18372269 -0.09139999  0.78650318]]\n",
      "b2 :\n",
      "[[0.]\n",
      " [0.]\n",
      " [0.]\n",
      " [0.]]\n",
      "W3 :\n",
      "[[0.37002468 0.10522163 0.08453493 0.04466346]]\n",
      "b3 :\n",
      "[[0.]]\n"
     ]
    }
   ],
   "source": [
    "# Test function\n",
    "params = initialize_parameters_deep([3, 5, 4, 1])\n",
    "for k, v in params.items():\n",
    "    print(k, \":\")\n",
    "    print(v)"
   ]
  },
  {
   "cell_type": "markdown",
   "id": "d428b907",
   "metadata": {},
   "source": [
    "### Forward Propagation"
   ]
  },
  {
   "cell_type": "markdown",
   "id": "31941956",
   "metadata": {},
   "source": [
    "#### Linear forward\n",
    "Here we need to calculate $Z^{[l]} = W^{[l]}.A^{[l-1]} + b^{[l]}$"
   ]
  },
  {
   "cell_type": "code",
   "execution_count": 4,
   "id": "4871a952",
   "metadata": {},
   "outputs": [],
   "source": [
    "def linear_forward(A, W, b):\n",
    "    \"\"\"\n",
    "    arguments:\n",
    "        A: activations from previous layer or inputs, shape=(size of l-1, m)\n",
    "        W: weights from layer l, shape=(size of layer l, size of layer l-1)\n",
    "        b: intercepts from layer l, shape(size of layer l, 1)\n",
    "        \n",
    "    returns:\n",
    "        Z: forward calculation\n",
    "        cache: The same arguments useful for backward propagation\n",
    "    \"\"\"\n",
    "    Z = np.dot(W, A) + b\n",
    "    cache = (A, W, b)\n",
    "    \n",
    "    return Z, cache"
   ]
  },
  {
   "cell_type": "code",
   "execution_count": 5,
   "id": "7834cbef",
   "metadata": {},
   "outputs": [
    {
     "name": "stdout",
     "output_type": "stream",
     "text": [
      "[[-1.19190198e+00 -7.83866252e-01  7.75427829e-01 -9.08476997e-01]\n",
      " [ 4.20429252e-02  1.64800903e-01 -5.65428910e-01 -2.91921199e-01]\n",
      " [-1.47542198e+00 -8.96641009e-01  5.22045142e-01 -1.13817664e+00]\n",
      " [ 3.35315638e-04  1.00984305e-01  9.46379837e-01 -1.68525631e+00]\n",
      " [-1.60327183e+00 -8.83329061e-01  7.76459184e-01 -2.06255114e+00]]\n",
      "[[-0.26112443 -0.04106868  1.11157836 -2.07640768]\n",
      " [ 1.06374332  0.75051417 -0.94769459  0.75069894]\n",
      " [-1.16817881 -0.53451645  0.0312229  -1.64562773]]\n",
      "[[-0.0635502  -0.88523995  0.22841401]\n",
      " [-0.0413894   0.56413289  0.48696094]\n",
      " [-0.210066   -0.77741515  0.60205267]\n",
      " [ 0.94187801  0.10226537 -0.11770336]\n",
      " [ 0.15372539 -0.61331985  0.77960281]]\n",
      "[[0.]\n",
      " [0.]\n",
      " [0.]\n",
      " [0.]\n",
      " [0.]]\n"
     ]
    }
   ],
   "source": [
    "X = np.random.randn(3, 4)\n",
    "Y = np.array([[1, 0, 1, 0]])\n",
    "Z, cache = linear_forward(X, params['W1'], params['b1'])\n",
    "print(Z)\n",
    "print(cache[0])\n",
    "print(cache[1])\n",
    "print(cache[2])"
   ]
  },
  {
   "cell_type": "code",
   "execution_count": 6,
   "id": "83e9c78f",
   "metadata": {},
   "outputs": [],
   "source": [
    "def sigmoid(Z):\n",
    "    \"\"\"\n",
    "    arguments:\n",
    "        Z: a matrix calculated in \"linear_forward\" step\n",
    "        \n",
    "    returns:\n",
    "        A: activation function of sigmoid(Z)\n",
    "        cache: The same arguments useful for backward propagation\n",
    "    \"\"\"\n",
    "    cache = Z\n",
    "    A = 1 / (1 + np.exp(-Z))\n",
    "    \n",
    "    return A, cache"
   ]
  },
  {
   "cell_type": "code",
   "execution_count": 7,
   "id": "7763be2d",
   "metadata": {},
   "outputs": [],
   "source": [
    "def relu(Z):\n",
    "    \"\"\"\n",
    "    arguments:\n",
    "        Z: a matrix calculated in \"linear_forward\" step\n",
    "        \n",
    "    returns:\n",
    "        A: activation function of relu(Z)\n",
    "        cache: The same arguments useful for backward propagation\n",
    "    \"\"\"\n",
    "    cache = Z\n",
    "    A = np.maximum(0, Z)\n",
    "    \n",
    "    return A, cache"
   ]
  },
  {
   "cell_type": "code",
   "execution_count": 8,
   "id": "d49a3e1c",
   "metadata": {},
   "outputs": [],
   "source": [
    "def linear_activation_forward(A_prev, W, b, activation):\n",
    "    \"\"\"\n",
    "    arguments:\n",
    "        A: activations from previous layer or inputs, shape=(size of l-1, m)\n",
    "        W: weights from layer l, shape=(size of layer l, size of layer l-1)\n",
    "        b: intercepts from layer l, shape(size of layer l, 1)\n",
    "        activation: A string that specifies what type of activiation function to use (sigmoid or ReLU)\n",
    "    \n",
    "    returns:\n",
    "        A: activation calculated\n",
    "        cache: to be used for backward propagation\n",
    "    \"\"\"\n",
    "    Z, linear_cache = linear_forward(A_prev, W, b)\n",
    "    \n",
    "    if activation == 'relu':\n",
    "        A, activation_cache = relu(Z)\n",
    "    elif activation == 'sigmoid':\n",
    "        A, activation_cache = sigmoid(Z)\n",
    "    else:\n",
    "        A, activation_cache = Z, Z\n",
    "    \n",
    "    cache = (linear_cache, activation_cache)\n",
    "    \n",
    "    return A, cache"
   ]
  },
  {
   "cell_type": "code",
   "execution_count": 9,
   "id": "ed1272e8",
   "metadata": {},
   "outputs": [
    {
     "name": "stdout",
     "output_type": "stream",
     "text": [
      "[[0.00000000e+00 0.00000000e+00 7.75427829e-01 0.00000000e+00]\n",
      " [4.20429252e-02 1.64800903e-01 0.00000000e+00 0.00000000e+00]\n",
      " [0.00000000e+00 0.00000000e+00 5.22045142e-01 0.00000000e+00]\n",
      " [3.35315638e-04 1.00984305e-01 9.46379837e-01 0.00000000e+00]\n",
      " [0.00000000e+00 0.00000000e+00 7.76459184e-01 0.00000000e+00]]\n",
      "(array([[-0.26112443, -0.04106868,  1.11157836, -2.07640768],\n",
      "       [ 1.06374332,  0.75051417, -0.94769459,  0.75069894],\n",
      "       [-1.16817881, -0.53451645,  0.0312229 , -1.64562773]]), array([[-0.0635502 , -0.88523995,  0.22841401],\n",
      "       [-0.0413894 ,  0.56413289,  0.48696094],\n",
      "       [-0.210066  , -0.77741515,  0.60205267],\n",
      "       [ 0.94187801,  0.10226537, -0.11770336],\n",
      "       [ 0.15372539, -0.61331985,  0.77960281]]), array([[0.],\n",
      "       [0.],\n",
      "       [0.],\n",
      "       [0.],\n",
      "       [0.]]))\n",
      "[[-1.19190198e+00 -7.83866252e-01  7.75427829e-01 -9.08476997e-01]\n",
      " [ 4.20429252e-02  1.64800903e-01 -5.65428910e-01 -2.91921199e-01]\n",
      " [-1.47542198e+00 -8.96641009e-01  5.22045142e-01 -1.13817664e+00]\n",
      " [ 3.35315638e-04  1.00984305e-01  9.46379837e-01 -1.68525631e+00]\n",
      " [-1.60327183e+00 -8.83329061e-01  7.76459184e-01 -2.06255114e+00]]\n"
     ]
    }
   ],
   "source": [
    "A, cache = linear_activation_forward(X, params[\"W1\"], params[\"b1\"], activation='relu')\n",
    "print(A)\n",
    "print(cache[0])\n",
    "print(cache[1])"
   ]
  },
  {
   "cell_type": "code",
   "execution_count": 10,
   "id": "fa7a161a",
   "metadata": {},
   "outputs": [],
   "source": [
    "def L_model_forward(X, parameters=None, keep_prob=1.):\n",
    "    \"\"\"\n",
    "    arguments:\n",
    "        X: numpy array, shape=(input size, input examples i.e m)\n",
    "        parameters: output of initialize_parameters_deep\n",
    "        keep_prob: the probability of which each perceptron is kept\n",
    "        \n",
    "    returns:\n",
    "        AL: activation value from the output layer\n",
    "        caches: Caches from calling Linear activation forward, the size is L since there are L layers\n",
    "    \"\"\"\n",
    "    caches = []\n",
    "    L = len(parameters) // 2\n",
    "    A_prev = X\n",
    "    \n",
    "    for l in range(1, L):\n",
    "        Wl = parameters['W' + str(l)]\n",
    "        bl = parameters['b' + str(l)]\n",
    "        A, cache = linear_activation_forward(A_prev, Wl, bl, 'relu')\n",
    "        caches.append(cache)\n",
    "        \n",
    "        # Regularization : Drop out\n",
    "        D = np.random.rand(A.shape[0], A.shape[1])\n",
    "        D = (D <= keep_prob).astype(int)\n",
    "        A = A * D\n",
    "        A /= keep_prob\n",
    "        \n",
    "        A_prev = A\n",
    "        \n",
    "    WL = parameters['W' + str(L)]\n",
    "    bL = parameters['b' + str(L)]\n",
    "    AL, cache = linear_activation_forward(A_prev, WL, bL, 'sigmoid')\n",
    "    caches.append(cache)\n",
    "    \n",
    "    return AL, caches"
   ]
  },
  {
   "cell_type": "code",
   "execution_count": 11,
   "id": "b9f8aa1a",
   "metadata": {},
   "outputs": [
    {
     "name": "stdout",
     "output_type": "stream",
     "text": [
      "[[0.50121164 0.50715049 0.56385691 0.5       ]]\n",
      "\n",
      "\n",
      "[((array([[-0.26112443, -0.04106868,  1.11157836, -2.07640768],\n",
      "       [ 1.06374332,  0.75051417, -0.94769459,  0.75069894],\n",
      "       [-1.16817881, -0.53451645,  0.0312229 , -1.64562773]]), array([[-0.0635502 , -0.88523995,  0.22841401],\n",
      "       [-0.0413894 ,  0.56413289,  0.48696094],\n",
      "       [-0.210066  , -0.77741515,  0.60205267],\n",
      "       [ 0.94187801,  0.10226537, -0.11770336],\n",
      "       [ 0.15372539, -0.61331985,  0.77960281]]), array([[0.],\n",
      "       [0.],\n",
      "       [0.],\n",
      "       [0.],\n",
      "       [0.]])), array([[-1.19190198e+00, -7.83866252e-01,  7.75427829e-01,\n",
      "        -9.08476997e-01],\n",
      "       [ 4.20429252e-02,  1.64800903e-01, -5.65428910e-01,\n",
      "        -2.91921199e-01],\n",
      "       [-1.47542198e+00, -8.96641009e-01,  5.22045142e-01,\n",
      "        -1.13817664e+00],\n",
      "       [ 3.35315638e-04,  1.00984305e-01,  9.46379837e-01,\n",
      "        -1.68525631e+00],\n",
      "       [-1.60327183e+00, -8.83329061e-01,  7.76459184e-01,\n",
      "        -2.06255114e+00]])), ((array([[0.00000000e+00, 0.00000000e+00, 7.75427829e-01, 0.00000000e+00],\n",
      "       [4.20429252e-02, 1.64800903e-01, 0.00000000e+00, 0.00000000e+00],\n",
      "       [0.00000000e+00, 0.00000000e+00, 5.22045142e-01, 0.00000000e+00],\n",
      "       [3.35315638e-04, 1.00984305e-01, 9.46379837e-01, 0.00000000e+00],\n",
      "       [0.00000000e+00, 0.00000000e+00, 7.76459184e-01, 0.00000000e+00]]), array([[-0.55833915,  0.16871642,  0.04099606,  0.20108409,  1.07772576],\n",
      "       [-0.8401812 ,  0.25892812,  0.92158228,  0.24763115,  0.17796068],\n",
      "       [-1.10979996, -0.59394   ,  1.28221157,  0.29111582, -0.22560005],\n",
      "       [ 0.34577921,  0.55602878, -1.18372269, -0.09139999,  0.78650318]]), array([[0.],\n",
      "       [0.],\n",
      "       [0.],\n",
      "       [0.]])), array([[ 0.00716076,  0.04811096,  0.61556208,  0.        ],\n",
      "       [ 0.01096913,  0.06767845,  0.20214   ,  0.        ],\n",
      "       [-0.02487336, -0.06848372, -0.09086054,  0.        ],\n",
      "       [ 0.02334643,  0.08240408,  0.17435865,  0.        ]])), ((array([[0.00716076, 0.04811096, 0.61556208, 0.        ],\n",
      "       [0.01096913, 0.06767845, 0.20214   , 0.        ],\n",
      "       [0.        , 0.        , 0.        , 0.        ],\n",
      "       [0.02334643, 0.08240408, 0.17435865, 0.        ]]), array([[0.37002468, 0.10522163, 0.08453493, 0.04466346]]), array([[0.]])), array([[0.00484658, 0.02860393, 0.25683012, 0.        ]]))]\n"
     ]
    }
   ],
   "source": [
    "AL, caches = L_model_forward(X, params)\n",
    "print(AL)\n",
    "print('\\n')\n",
    "print(caches)"
   ]
  },
  {
   "cell_type": "markdown",
   "id": "342c05f2",
   "metadata": {},
   "source": [
    "#### Compute Cost\n",
    "Cost for sigmoid function is defined as\n",
    "$$-\\frac{1}{m} \\sum\\limits_{i = 1}^{m} (y^{(i)}\\log\\left(a^{[L] (i)}\\right) + (1-y^{(i)})\\log\\left(1- a^{[L](i)}\\right))$$\n",
    "$$J_{regularized} = \\small \\underbrace{-\\frac{1}{m} \\sum\\limits_{i = 1}^{m} \\large{(}\\small y^{(i)}\\log\\left(a^{[L](i)}\\right) + (1-y^{(i)})\\log\\left(1- a^{[L](i)}\\right) \\large{)} }_\\text{cross-entropy cost} + \\underbrace{\\frac{1}{m} \\frac{\\lambda}{2} \\sum\\limits_l\\sum\\limits_k\\sum\\limits_j W_{k,j}^{[l]2} }_\\text{L2 regularization cost}$$"
   ]
  },
  {
   "cell_type": "code",
   "execution_count": 12,
   "id": "7a4b0545",
   "metadata": {},
   "outputs": [],
   "source": [
    "def compute_frobenius_norm(parameters):\n",
    "    L = len(parameters) // 2\n",
    "    summation = 0\n",
    "    for l in range(1, L + 1):\n",
    "        W_kj = parameters['W' + str(l)]\n",
    "        summation += np.sum(np.square(W_kj))\n",
    "    return np.sqrt(summation)"
   ]
  },
  {
   "cell_type": "code",
   "execution_count": 13,
   "id": "bf815bce",
   "metadata": {},
   "outputs": [],
   "source": [
    "def compute_derivative_frobenius_norm(parameter, parameters):\n",
    "    l2norm = compute_frobenius_norm(parameters)\n",
    "    return parameter / l2norm"
   ]
  },
  {
   "cell_type": "code",
   "execution_count": 14,
   "id": "53656f56",
   "metadata": {},
   "outputs": [],
   "source": [
    "def compute_cost(AL, Y, parameters=None, lambda_=0., epsilon=1e-15):\n",
    "    \"\"\"\n",
    "    arguments:\n",
    "        AL: nparray; the output of the neural network\n",
    "        Y: array of labels\n",
    "        parameters: dictionary of the parameters containing Ws and bs to calculate ||W||F\n",
    "        lambda_: is a scalar as regularization parameter\n",
    "    returns:\n",
    "        decimal number specifing the cost\n",
    "    \"\"\"\n",
    "    Y = Y.reshape(AL.shape)\n",
    "    m = Y.shape[1]\n",
    "    AL = np.clip(AL, epsilon, 1 - epsilon)\n",
    "    cost = np.multiply(-Y, np.log(AL)) - np.multiply(1 - Y, np.log(1 - AL))\n",
    "    cost = np.sum(cost, axis=1) / (m)\n",
    "    \n",
    "    if parameters is not None:\n",
    "        reg_cost = (lambda_ * compute_frobenius_norm(parameters) ** 2) / (2 * m)\n",
    "        cost += reg_cost\n",
    "        \n",
    "    return np.squeeze(cost)"
   ]
  },
  {
   "cell_type": "markdown",
   "id": "aaa9a5e4",
   "metadata": {},
   "source": [
    "In computing cost, we used a boundary of epsilon and 1 - epsilon for AL so it won't be zero or 1; The issue of AL being zero can arise when computing the natural logarithm log(AL). This is because the logarithm is undefined for values less than or equal to zero. To address this issue, a small positive value, called the \"epsilon\", is added to AL to ensure that the logarithm is well-defined. The value of epsilon is usually a small constant such as 1e-8 or 1e-16."
   ]
  },
  {
   "cell_type": "code",
   "execution_count": 15,
   "id": "78b6a932",
   "metadata": {},
   "outputs": [
    {
     "data": {
      "text/plain": [
       "array(0.66609505)"
      ]
     },
     "execution_count": 15,
     "metadata": {},
     "output_type": "execute_result"
    }
   ],
   "source": [
    "# Test function\n",
    "compute_cost(AL, Y)"
   ]
  },
  {
   "cell_type": "markdown",
   "id": "1f9670b8",
   "metadata": {},
   "source": [
    "### Backward Propagation"
   ]
  },
  {
   "cell_type": "code",
   "execution_count": 16,
   "id": "a7aec0fb",
   "metadata": {},
   "outputs": [],
   "source": [
    "def sigmoid_backward(dA, cache):\n",
    "    \"\"\"\n",
    "    arguments:\n",
    "        dA: post-activation gradient, of any shape\n",
    "        cache: it is \"Z\" that we stored to use later in back prop\n",
    "    \n",
    "    returns:\n",
    "        derivative of loss function with respect to Z\n",
    "    \"\"\"\n",
    "    Z = cache\n",
    "    s = 1 / (1 + np.exp(-Z))\n",
    "    dZ = dA * s * (1 - s)\n",
    "    \n",
    "    return dZ"
   ]
  },
  {
   "cell_type": "code",
   "execution_count": 17,
   "id": "854f7913",
   "metadata": {},
   "outputs": [],
   "source": [
    "def relu_backward(dA, cache):\n",
    "    \"\"\"\n",
    "    arguments:\n",
    "        dA: post-activation gradient, of any shape\n",
    "        cache: it is \"Z\" that we stored to use later in back prop\n",
    "    \n",
    "    returns:\n",
    "        derivative of loss function with respect to Z\n",
    "    \"\"\"\n",
    "    Z = cache\n",
    "    dZ = np.array(dA, copy=True)\n",
    "    dZ[Z <= 0] = 0\n",
    "    \n",
    "    return dZ"
   ]
  },
  {
   "cell_type": "markdown",
   "id": "bd3a77b6",
   "metadata": {},
   "source": [
    "Let's say we have dZ, now we are to find:\n",
    "$$ dW^{[l]} = \\frac{\\partial \\mathcal{J} }{\\partial W^{[l]}} = \\frac{1}{m} dZ^{[l]} A^{[l-1] T}$$\n",
    "$$ db^{[l]} = \\frac{\\partial \\mathcal{J} }{\\partial b^{[l]}} = \\frac{1}{m} \\sum_{i = 1}^{m} dZ^{[l](i)}$$\n",
    "$$ dA^{[l-1]} = \\frac{\\partial \\mathcal{L} }{\\partial A^{[l-1]}} = W^{[l] T} dZ^{[l]}$$\n",
    "And for regularization update we have\n",
    "$$\\frac{d}{dW} ( \\frac{1}{2}\\frac{\\lambda}{m}  W^2) = \\frac{\\lambda}{m} W$$"
   ]
  },
  {
   "cell_type": "code",
   "execution_count": 18,
   "id": "4a5b1c3f",
   "metadata": {},
   "outputs": [],
   "source": [
    "def linear_backward(dZ, cache):\n",
    "    \"\"\"\n",
    "    arguments:\n",
    "        dZ: gradient of the cost with respect to the linear output i.e Z\n",
    "        cache: the tupe (A_prev, W, b)\n",
    "    \n",
    "    returns:\n",
    "        dW: gradient of the cost with respect to the weights i.e W\n",
    "        db: gradient of the cost with respect to the intercepts i.e b\n",
    "        dA_prev: gradient of the cost with respect to the activation function in the previous layer\n",
    "    \"\"\"\n",
    "    A_prev, W, b = cache\n",
    "    m = A_prev.shape[1]\n",
    "    dW = np.matmul(dZ, A_prev.T) / m\n",
    "    db = np.sum(dZ, axis=1, keepdims=True) / m\n",
    "    dA_prev = np.matmul(W.T, dZ)\n",
    "    \n",
    "    return dA_prev, dW, db"
   ]
  },
  {
   "cell_type": "code",
   "execution_count": 19,
   "id": "8cdf1f51",
   "metadata": {},
   "outputs": [],
   "source": [
    "def linear_activation_backward(dA, cache, activation):\n",
    "    \"\"\"\n",
    "    arguments:\n",
    "        dA: post-activation gradient for current layer l\n",
    "        cache: tuple contaning (linear_cache, activation_cache)\n",
    "        activation: activation function go to be used in this layer\n",
    "        \n",
    "    returns:\n",
    "        dW: gradient of the cost with respect to the weights i.e W\n",
    "        db: gradient of the cost with respect to the intercepts i.e b\n",
    "        dA_prev: gradient of the cost with respect to the activation function in the previous layer\n",
    "    \"\"\"\n",
    "    \n",
    "    (linear_cache, activation_cache) = cache\n",
    "    if activation == 'relu':\n",
    "        dZ = relu_backward(dA, activation_cache)\n",
    "    elif activation == 'sigmoid':\n",
    "        dZ = sigmoid_backward(dA, activation_cache)\n",
    "    \n",
    "    dA_prev, dW, db = linear_backward(dZ, linear_cache)\n",
    "    return dA_prev, dW, db"
   ]
  },
  {
   "cell_type": "code",
   "execution_count": 20,
   "id": "55c96dcf",
   "metadata": {},
   "outputs": [],
   "source": [
    "def L_model_backward(AL, Y, caches, parameters, lambda_=0, keep_prob=1., epsilon=1e-15):\n",
    "    \"\"\"\n",
    "    arguments:\n",
    "        AL: predicted outputs from the neural network\n",
    "        Y: correct values\n",
    "        caches: cached values in each step of linear forward and linear activation forward\n",
    "        parameters: dictionary of the parameters containing Ws and bs to calculate ||W||F\n",
    "        lambda_: is a scalar as regularization parameter\n",
    "    returns:\n",
    "        gradients that are --> dA_prev, dW, db for each layer\n",
    "    \"\"\"\n",
    "    grads = {}\n",
    "    Y = Y.reshape(AL.shape)\n",
    "    L = len(caches)\n",
    "    m = Y.shape[1]\n",
    "    \n",
    "    current_cache = caches[L - 1]\n",
    "    AL = np.clip(AL, epsilon, 1 - epsilon)\n",
    "    dAL = -(np.divide(Y, AL) - np.divide(1 - Y, 1 - AL))\n",
    "    dA_prev, dW, db = linear_activation_backward(dAL, current_cache, 'sigmoid')\n",
    "    grads['dW' + str(L)] = dW\n",
    "    grads['db' + str(L)] = db\n",
    "    grads['dA' + str(L - 1)] = dA_prev\n",
    "    \n",
    "    for l in reversed(range(L - 1)):\n",
    "        current_cache = caches[l] # caches[l] means, caches from layer l+1\n",
    "        dA_prev, dW, db = linear_activation_backward(grads[\"dA\" + str(l + 1)], current_cache, 'relu')\n",
    "        grads['dW' + str(l + 1)] = dW\n",
    "        grads['db' + str(l + 1)] = db\n",
    "        grads['dA' + str(l)] = dA_prev\n",
    "        \n",
    "    \n",
    "    # This does not calculate d||W||F/dW it calculates d||W||F^2/dW\n",
    "    for l in range(1, L + 1):\n",
    "        grads['dW' + str(l)] += lambda_/m * parameters['W' + str(l)]\n",
    "        \n",
    "        \n",
    "    # Regularization : Dropout\n",
    "    for l in range(1, L):\n",
    "        grad_A = grads['dA' + str(l)]\n",
    "        D = np.random.rand(grad_A.shape[0], grad_A.shape[1])\n",
    "        D = (D <= keep_prob).astype(int)\n",
    "        grad_A = grad_A * D\n",
    "        grads['dA' + str(l)] = grad_A\n",
    "        \n",
    "    return grads"
   ]
  },
  {
   "cell_type": "code",
   "execution_count": 21,
   "id": "80dde1bc",
   "metadata": {},
   "outputs": [
    {
     "data": {
      "text/plain": [
       "{'dW3': array([[-6.18188330e-02, -1.48012153e-02,  2.11337330e-05,\n",
       "         -1.14635786e-02]]),\n",
       " 'db3': array([[0.01805476]]),\n",
       " 'dA2': array([[-0.184564  ,  0.1876582 , -0.16138371,  0.18501234],\n",
       "        [-0.05248332,  0.0533632 , -0.04589169,  0.05261081],\n",
       "        [-0.04216504,  0.04287193, -0.03686933,  0.04226747],\n",
       "        [-0.02227762,  0.0226511 , -0.01947966,  0.02233173]]),\n",
       " 'dW2': array([[-3.14249397e-02,  5.83383668e-03, -2.10521464e-02,\n",
       "         -3.34101397e-02, -3.10575345e-02],\n",
       "        [-9.10646782e-03,  1.71166981e-03, -5.75898729e-03,\n",
       "         -9.45302188e-03, -8.86376500e-03],\n",
       "        [-2.77449990e-04, -1.48485000e-04,  3.20552893e-04,\n",
       "          7.27789555e-05, -5.64000122e-05],\n",
       "        [-3.68982315e-03,  8.38083520e-04, -2.83824637e-03,\n",
       "         -4.06165593e-03, -3.58466477e-03]]),\n",
       " 'db2': array([[-0.03957238],\n",
       "        [-0.01125295],\n",
       "        [ 0.        ],\n",
       "        [-0.00477654]]),\n",
       " 'dA1': array([[ 0.13944167, -0.1417794 ,  0.12192851,  0.        ],\n",
       "        [-0.05711538,  0.05807291, -0.04994198,  0.        ],\n",
       "        [-0.02956358,  0.03005921, -0.02585054,  0.        ],\n",
       "        [-0.04807322,  0.04887916, -0.04203547,  0.        ],\n",
       "        [-0.22577076,  0.22955579, -0.19741511,  0.        ]]),\n",
       " 'dW1': array([[ 3.38673863e-02, -2.91090576e-02,  1.00884400e-03],\n",
       "        [ 3.12196351e-03, -4.15185667e-03,  9.04175265e-03],\n",
       "        [-7.23624268e-03,  5.93025122e-03, -5.12690792e-05],\n",
       "        [-8.80953714e-03,  6.37149710e-03,  7.15030645e-03],\n",
       "        [-5.48221604e-02,  4.66189783e-02, -1.34606748e-03]]),\n",
       " 'db1': array([[ 0.03048213],\n",
       "        [ 0.00023938],\n",
       "        [-0.00646264],\n",
       "        [-0.01030738],\n",
       "        [-0.04935378]]),\n",
       " 'dA0': array([[-0.04291513,  0.0436346 , -0.07225826,  0.        ],\n",
       "        [-0.03713689,  0.03775949,  0.02894045,  0.        ],\n",
       "        [-0.02215458,  0.022526  , -0.13667087,  0.        ]])}"
      ]
     },
     "execution_count": 21,
     "metadata": {},
     "output_type": "execute_result"
    }
   ],
   "source": [
    "# Test function\n",
    "grads = L_model_backward(AL, Y, caches, params, 0.001)\n",
    "grads"
   ]
  },
  {
   "cell_type": "markdown",
   "id": "834f7a8a",
   "metadata": {},
   "source": [
    "### Update Parameters\n",
    "$$ W^{[l]} = W^{[l]} - \\alpha \\text{ } dW^{[l]}$$\n",
    "$$ b^{[l]} = b^{[l]} - \\alpha \\text{ } db^{[l]}$$"
   ]
  },
  {
   "cell_type": "code",
   "execution_count": 22,
   "id": "93327cf8",
   "metadata": {},
   "outputs": [],
   "source": [
    "def update_parameters(params, grads, learning_rate):\n",
    "    \"\"\"\n",
    "    arguments\n",
    "        params: is the parameters that we initialized\n",
    "        grads: gradients that are calculated in \"L_model_backward\"\n",
    "        learning_rate: a decimal illustrating how much of the gradient should effect params\n",
    "    \n",
    "    return:\n",
    "        updated parameters\n",
    "    \"\"\"\n",
    "    L = len(params) // 2\n",
    "    parameters = params.copy()\n",
    "    \n",
    "    for l in range(1, L + 1):\n",
    "        parameters['W' + str(l)] = params['W' + str(l)] - learning_rate * grads['dW' + str(l)]\n",
    "        parameters['b' + str(l)] = params['b' + str(l)] - learning_rate * grads['db' + str(l)]\n",
    "    \n",
    "    return parameters"
   ]
  },
  {
   "cell_type": "code",
   "execution_count": 23,
   "id": "a54e8247",
   "metadata": {},
   "outputs": [
    {
     "data": {
      "text/plain": [
       "{'W1': array([[-0.06388888, -0.88494886,  0.22840392],\n",
       "        [-0.04142062,  0.56417441,  0.48687052],\n",
       "        [-0.20999364, -0.77747446,  0.60205318],\n",
       "        [ 0.9419661 ,  0.10220165, -0.11777486],\n",
       "        [ 0.15427361, -0.61378604,  0.77961627]]),\n",
       " 'b1': array([[-3.04821280e-04],\n",
       "        [-2.39383420e-06],\n",
       "        [ 6.46263585e-05],\n",
       "        [ 1.03073810e-04],\n",
       "        [ 4.93537781e-04]]),\n",
       " 'W2': array([[-0.5580249 ,  0.16865808,  0.04120659,  0.20141819,  1.07803633],\n",
       "        [-0.84009014,  0.258911  ,  0.92163987,  0.24772568,  0.17804932],\n",
       "        [-1.10979718, -0.59393851,  1.28220837,  0.29111509, -0.22559948],\n",
       "        [ 0.34581611,  0.5560204 , -1.18369431, -0.09135937,  0.78653902]]),\n",
       " 'b2': array([[3.95723781e-04],\n",
       "        [1.12529520e-04],\n",
       "        [0.00000000e+00],\n",
       "        [4.77654493e-05]]),\n",
       " 'W3': array([[0.37064287, 0.10536964, 0.08453472, 0.0447781 ]]),\n",
       " 'b3': array([[-0.00018055]])}"
      ]
     },
     "execution_count": 23,
     "metadata": {},
     "output_type": "execute_result"
    }
   ],
   "source": [
    "# Test function\n",
    "update_parameters(params, grads, 0.01)"
   ]
  },
  {
   "cell_type": "markdown",
   "id": "c2712bae",
   "metadata": {},
   "source": [
    "## Gradient Test"
   ]
  },
  {
   "cell_type": "code",
   "execution_count": 24,
   "id": "9102e32d",
   "metadata": {},
   "outputs": [],
   "source": [
    "def vector_to_dictionary(vector, parameters):\n",
    "    \"\"\"\n",
    "    Convert a vector into a dictionary of parameters\n",
    "    Arguments:\n",
    "    vector -- The vector to convert\n",
    "    parameters -- A dictionary of parameters, containing the shapes of the parameters\n",
    "    \n",
    "    Returns:\n",
    "    dictionary -- A dictionary of parameters from the vector\n",
    "    \"\"\"\n",
    "    L = len(parameters) // 2\n",
    "    index = 0\n",
    "    for l in range(1, L + 1):\n",
    "        shape = parameters['W' + str(l)].shape\n",
    "        size = np.prod(shape)\n",
    "        parameters['W' + str(l)] = np.reshape(vector[index:index + size], shape)\n",
    "        index += size\n",
    "        \n",
    "        shape = parameters['b' + str(l)].shape\n",
    "        size = np.prod(shape)\n",
    "        parameters['b' + str(l)] = np.reshape(vector[index:index + size], shape)\n",
    "        index += size\n",
    "    return parameters"
   ]
  },
  {
   "cell_type": "code",
   "execution_count": 25,
   "id": "1a4ea889",
   "metadata": {},
   "outputs": [],
   "source": [
    "def dict_to_vector(params):\n",
    "    \"\"\"Flatten dictionary to vector.\"\"\"\n",
    "    L = len(params) // 2\n",
    "    vec = np.array([])\n",
    "    for l in range(1, L + 1):\n",
    "        vec = np.concatenate((vec, params['W' + str(l)].flatten()))\n",
    "        vec = np.concatenate((vec, params['b' + str(l)].flatten()))\n",
    "    return vec"
   ]
  },
  {
   "cell_type": "code",
   "execution_count": 26,
   "id": "862ce78d",
   "metadata": {},
   "outputs": [],
   "source": [
    "def grads_to_vec(grads, L):\n",
    "    \"\"\"Flatten gradients to vector.\"\"\"\n",
    "    vec = np.array([])\n",
    "    for l in range(1, L + 1):\n",
    "        vec = np.concatenate((vec, grads['dW' + str(l)].flatten()))\n",
    "        vec = np.concatenate((vec, grads['db' + str(l)].flatten()))\n",
    "    return vec"
   ]
  },
  {
   "cell_type": "code",
   "execution_count": 27,
   "id": "c74df7ff",
   "metadata": {},
   "outputs": [],
   "source": [
    "def gradient_check(X, Y, parameters, grads, epsilon=1e-7):\n",
    "    \"\"\"\n",
    "    Implement gradient check\n",
    "    \n",
    "    Arguments:\n",
    "    X -- Input data, shape (input size, number of examples)\n",
    "    Y -- True labels, shape (output size, number of examples)\n",
    "    parameters -- Output of initialize_parameters_deep\n",
    "    grads -- Output of backward_propagation\n",
    "    epsilon -- Small epsilon value for numeric approximation of gradient\n",
    "    \n",
    "    Returns:\n",
    "    difference -- Difference between numeric gradient and backprop gradient\n",
    "    \"\"\"\n",
    "    parameters_values = dict_to_vector(parameters)\n",
    "    num_parameters = parameters_values.shape[0]\n",
    "    grad = grads_to_vec(grads, len(parameters) // 2).reshape(-1, 1)\n",
    "    J_plus = np.zeros((num_parameters, 1))\n",
    "    J_minus = np.zeros((num_parameters, 1))\n",
    "    gradapprox = np.zeros((num_parameters, 1))\n",
    "    \n",
    "    for i in range(num_parameters):\n",
    "        thetaplus = np.copy(parameters_values)                                      \n",
    "        thetaplus[i] = thetaplus[i] + epsilon   \n",
    "        AL, _ = L_model_forward(X, vector_to_dictionary(thetaplus, parameters))                 \n",
    "        J_plus[i] = compute_cost(AL, Y, parameters)     \n",
    "        \n",
    "        thetaminus = np.copy(parameters_values)                                     \n",
    "        thetaminus[i] = thetaminus[i] - epsilon                               \n",
    "        AL, _ = L_model_forward(X, vector_to_dictionary(thetaminus, parameters))                \n",
    "        J_minus[i] = compute_cost(AL, Y, parameters)                                            \n",
    "        \n",
    "        gradapprox[i] = (J_plus[i] - J_minus[i]) / (2 * epsilon)                    \n",
    "    \n",
    "    numerator = np.linalg.norm(grad - gradapprox)                                   \n",
    "    denominator = np.linalg.norm(grad) + np.linalg.norm(gradapprox)                \n",
    "    difference = numerator / denominator   \n",
    "    \n",
    "    if difference > 2 * epsilon:\n",
    "        print(\"There is a mistake in the backward propagation! difference = \" + str(difference))\n",
    "    else:\n",
    "        print(\"Your backward propagation works perfectly fine! difference = \" + str(difference))\n",
    "    \n",
    "    return difference, gradapprox, grad"
   ]
  },
  {
   "cell_type": "markdown",
   "id": "ba4b3714",
   "metadata": {},
   "source": [
    "## Test"
   ]
  },
  {
   "cell_type": "code",
   "execution_count": 28,
   "id": "f942585a",
   "metadata": {},
   "outputs": [],
   "source": [
    "X, y = make_classification(n_samples=5000, n_features=2, n_informative=2, n_redundant=0, n_classes=2, class_sep=0.9,\n",
    "                           scale=[50, 400], n_clusters_per_class=1)"
   ]
  },
  {
   "cell_type": "code",
   "execution_count": 29,
   "id": "190ebc1e",
   "metadata": {},
   "outputs": [
    {
     "data": {
      "image/png": "[encoded data removed]",
      "text/plain": [
       "<Figure size 432x288 with 1 Axes>"
      ]
     },
     "metadata": {},
     "output_type": "display_data"
    }
   ],
   "source": [
    "fig = plt.figure()\n",
    "plt.scatter(X[y == 1, 0], X[y == 1, 1], alpha=0.5);\n",
    "plt.scatter(X[y == 0, 0], X[y == 0, 1], alpha=0.5);\n",
    "ax = plt.gca()\n",
    "ax.set_xlabel('$x_1$');\n",
    "ax.set_ylabel('$x_2$');\n",
    "ax.tick_params(left=False, bottom=False, labelleft=False, labelbottom=False)"
   ]
  },
  {
   "cell_type": "code",
   "execution_count": 30,
   "id": "c980bf98",
   "metadata": {},
   "outputs": [],
   "source": [
    "# Split\n",
    "X_train, X_cv, y_train, y_cv = train_test_split(X, y, test_size=0.4)\n",
    "X_cv, X_test, y_cv, y_test = train_test_split(X_cv, y_cv, test_size=0.5)\n",
    "# Normalization\n",
    "norm = StandardScaler().fit(X_train)\n",
    "Xn_train = norm.transform(X_train)"
   ]
  },
  {
   "cell_type": "code",
   "execution_count": 31,
   "id": "e28ae414",
   "metadata": {},
   "outputs": [
    {
     "data": {
      "image/png": "[encoded data removed]",
      "text/plain": [
       "<Figure size 432x288 with 1 Axes>"
      ]
     },
     "metadata": {
      "needs_background": "light"
     },
     "output_type": "display_data"
    }
   ],
   "source": [
    "fig = plt.figure()\n",
    "plt.scatter(Xn_train[y_train == 1, 0], Xn_train[y_train == 1, 1], alpha=0.5);\n",
    "plt.scatter(Xn_train[y_train == 0, 0], Xn_train[y_train == 0, 1], alpha=0.5);\n",
    "ax = plt.gca()\n",
    "ax.set_xlabel('$x_1$');\n",
    "ax.set_ylabel('$x_2$');"
   ]
  },
  {
   "cell_type": "code",
   "execution_count": 32,
   "id": "161d20b0",
   "metadata": {},
   "outputs": [],
   "source": [
    "def model(X, y, iterations=100, learning_rate=0.01, lambda_=0, keep_prob=1., verbos=True, debug_mode=False):\n",
    "    hist = []\n",
    "    parameters = initialize_parameters_deep([2, 50, 50, 1])\n",
    "    \n",
    "    for i in range(1, iterations + 1):\n",
    "        AL, caches = L_model_forward(X, parameters, keep_prob)\n",
    "        grads = L_model_backward(AL, y, caches, parameters, lambda_)\n",
    "                \n",
    "        if debug_mode and i % 100 == 0:\n",
    "            gradient_check(X, y, parameters, grads) # Do gradient check\n",
    "            \n",
    "        parameters = update_parameters(parameters, grads, learning_rate)\n",
    "        cost = compute_cost(AL, y, parameters, lambda_)\n",
    "        hist.append(cost)\n",
    "        if verbos and i % 100 == 0:\n",
    "            print(f'Iteration {i} : cost is {cost}')\n",
    "        \n",
    "    return parameters, grads, hist"
   ]
  },
  {
   "cell_type": "code",
   "execution_count": 33,
   "id": "705b10f5",
   "metadata": {
    "scrolled": false
   },
   "outputs": [
    {
     "name": "stdout",
     "output_type": "stream",
     "text": [
      "Iteration 100 : cost is 0.0351987122587596\n",
      "Iteration 200 : cost is 0.03401782426707679\n",
      "Iteration 300 : cost is 0.03348215348990841\n",
      "Iteration 400 : cost is 0.03307003352720174\n",
      "Iteration 500 : cost is 0.03272962265773956\n",
      "Iteration 600 : cost is 0.032435271858685714\n",
      "Iteration 700 : cost is 0.0321722500474508\n",
      "Iteration 800 : cost is 0.0319319128574825\n",
      "Iteration 900 : cost is 0.031714779395777354\n",
      "Iteration 1000 : cost is 0.03151625563493125\n",
      "Iteration 1100 : cost is 0.03133185001282519\n",
      "Iteration 1200 : cost is 0.031148477990131245\n",
      "Iteration 1300 : cost is 0.03098218337224164\n",
      "Iteration 1400 : cost is 0.030829876006469255\n",
      "Iteration 1500 : cost is 0.030689627383658907\n",
      "Iteration 1600 : cost is 0.03055800161587117\n",
      "Iteration 1700 : cost is 0.030441284152571555\n",
      "Iteration 1800 : cost is 0.030335569755490004\n",
      "Iteration 1900 : cost is 0.030234835567326413\n",
      "Iteration 2000 : cost is 0.03013861310366072\n",
      "Iteration 2100 : cost is 0.030047256360417284\n",
      "Iteration 2200 : cost is 0.029959594392774562\n",
      "Iteration 2300 : cost is 0.0298753635327418\n",
      "Iteration 2400 : cost is 0.02979374854003846\n",
      "Iteration 2500 : cost is 0.029714206879536863\n",
      "Iteration 2600 : cost is 0.029638974020733965\n",
      "Iteration 2700 : cost is 0.029569390418036582\n",
      "Iteration 2800 : cost is 0.029501972275243\n",
      "Iteration 2900 : cost is 0.02943701334037086\n",
      "Iteration 3000 : cost is 0.029375810030694595\n",
      "Iteration 3100 : cost is 0.02931842706524153\n",
      "Iteration 3200 : cost is 0.029263118025993143\n",
      "Iteration 3300 : cost is 0.029209899175004276\n",
      "Iteration 3400 : cost is 0.029158646534212865\n",
      "Iteration 3500 : cost is 0.02910925710586318\n",
      "Iteration 3600 : cost is 0.02906145894199005\n",
      "Iteration 3700 : cost is 0.029015289249390296\n",
      "Iteration 3800 : cost is 0.028970569630357886\n",
      "Iteration 3900 : cost is 0.028927035547400965\n",
      "Iteration 4000 : cost is 0.028885090072231057\n",
      "Iteration 4100 : cost is 0.028844650376275573\n",
      "Iteration 4200 : cost is 0.028805282180996934\n",
      "Iteration 4300 : cost is 0.028766997410026605\n",
      "Iteration 4400 : cost is 0.028729650603236394\n",
      "Iteration 4500 : cost is 0.028693392745878194\n",
      "Iteration 4600 : cost is 0.028658162859424862\n",
      "Iteration 4700 : cost is 0.028623699064977838\n",
      "Iteration 4800 : cost is 0.028590310420254752\n",
      "Iteration 4900 : cost is 0.0285578216126484\n",
      "Iteration 5000 : cost is 0.02852599184940158\n",
      "Iteration 5100 : cost is 0.028494742623533638\n",
      "Iteration 5200 : cost is 0.028463845947433123\n",
      "Iteration 5300 : cost is 0.028433959580669656\n",
      "Iteration 5400 : cost is 0.028404985214344262\n",
      "Iteration 5500 : cost is 0.028376656895987496\n",
      "Iteration 5600 : cost is 0.028348798053165012\n",
      "Iteration 5700 : cost is 0.02832119141381267\n",
      "Iteration 5800 : cost is 0.028297208582382306\n",
      "Iteration 5900 : cost is 0.028274416423414814\n",
      "Iteration 6000 : cost is 0.028252162847366213\n",
      "Iteration 6100 : cost is 0.02823084484553133\n",
      "Iteration 6200 : cost is 0.02821108732750462\n",
      "Iteration 6300 : cost is 0.028191861473771507\n",
      "Iteration 6400 : cost is 0.028173243495589556\n",
      "Iteration 6500 : cost is 0.028155141723801128\n",
      "Iteration 6600 : cost is 0.02813753647322505\n",
      "Iteration 6700 : cost is 0.02812035306387026\n",
      "Iteration 6800 : cost is 0.028103573419906845\n",
      "Iteration 6900 : cost is 0.028087162486182437\n",
      "Iteration 7000 : cost is 0.028071180513484076\n",
      "Iteration 7100 : cost is 0.02805557321157351\n",
      "Iteration 7200 : cost is 0.028040292892162075\n",
      "Iteration 7300 : cost is 0.02802532620734828\n",
      "Iteration 7400 : cost is 0.028010627030304696\n",
      "Iteration 7500 : cost is 0.02799629854897658\n",
      "Iteration 7600 : cost is 0.027982211820473765\n",
      "Iteration 7700 : cost is 0.027968385075813767\n",
      "Iteration 7800 : cost is 0.027954795563357882\n",
      "Iteration 7900 : cost is 0.027941453321136157\n",
      "Iteration 8000 : cost is 0.027928328200177818\n",
      "Iteration 8100 : cost is 0.02791567207730611\n",
      "Iteration 8200 : cost is 0.02790326076019716\n",
      "Iteration 8300 : cost is 0.027891054068515587\n",
      "Iteration 8400 : cost is 0.02787905028184247\n",
      "Iteration 8500 : cost is 0.0278672269524812\n",
      "Iteration 8600 : cost is 0.02785575030373268\n",
      "Iteration 8700 : cost is 0.027844149244325565\n",
      "Iteration 8800 : cost is 0.027832619213004662\n",
      "Iteration 8900 : cost is 0.027821380155503457\n",
      "Iteration 9000 : cost is 0.027810338088139274\n",
      "Iteration 9100 : cost is 0.02779949519679852\n",
      "Iteration 9200 : cost is 0.02778879848849957\n",
      "Iteration 9300 : cost is 0.0277782602383832\n",
      "Iteration 9400 : cost is 0.027767961158852234\n",
      "Iteration 9500 : cost is 0.02775780465319944\n",
      "Iteration 9600 : cost is 0.027747812160184925\n",
      "Iteration 9700 : cost is 0.02773835785936466\n",
      "Iteration 9800 : cost is 0.027728979717252036\n",
      "Iteration 9900 : cost is 0.027719722916637143\n",
      "Iteration 10000 : cost is 0.02771056555360672\n"
     ]
    }
   ],
   "source": [
    "params, grads, hist = model(Xn_train.T, y_train, iterations=10000, learning_rate=.1, debug_mode=False)"
   ]
  },
  {
   "cell_type": "code",
   "execution_count": 34,
   "id": "17468a63",
   "metadata": {},
   "outputs": [],
   "source": [
    "def predict(X, parameters):\n",
    "    y_hat, _ = L_model_forward(X, parameters)\n",
    "    y_hat[y_hat > 0.5] = 1\n",
    "    y_hat[y_hat <= 0.5] = 0\n",
    "    return y_hat"
   ]
  },
  {
   "cell_type": "code",
   "execution_count": 35,
   "id": "5b790880",
   "metadata": {},
   "outputs": [],
   "source": [
    "y_hat = predict(Xn_train.T, params)"
   ]
  },
  {
   "cell_type": "code",
   "execution_count": 36,
   "id": "c9a8fa8e",
   "metadata": {},
   "outputs": [
    {
     "data": {
      "text/plain": [
       "0.9953333333333333"
      ]
     },
     "execution_count": 36,
     "metadata": {},
     "output_type": "execute_result"
    }
   ],
   "source": [
    "(y_train.reshape(y_hat.shape) == y_hat).sum() / y_hat.shape[1]"
   ]
  },
  {
   "cell_type": "code",
   "execution_count": 37,
   "id": "6b228ad4",
   "metadata": {},
   "outputs": [],
   "source": [
    "y_hat = predict(norm.transform(X_cv).T, params)"
   ]
  },
  {
   "cell_type": "code",
   "execution_count": 38,
   "id": "39f76600",
   "metadata": {},
   "outputs": [
    {
     "data": {
      "text/plain": [
       "0.996"
      ]
     },
     "execution_count": 38,
     "metadata": {},
     "output_type": "execute_result"
    }
   ],
   "source": [
    "(y_cv == y_hat).sum() / y_hat.shape[1]"
   ]
  },
  {
   "cell_type": "code",
   "execution_count": 39,
   "id": "aa528ddc",
   "metadata": {
    "scrolled": true
   },
   "outputs": [],
   "source": [
    "y_hat = predict(norm.transform(X_test).T, params)"
   ]
  },
  {
   "cell_type": "code",
   "execution_count": 40,
   "id": "9d0ee04e",
   "metadata": {},
   "outputs": [
    {
     "data": {
      "text/plain": [
       "0.991"
      ]
     },
     "execution_count": 40,
     "metadata": {},
     "output_type": "execute_result"
    }
   ],
   "source": [
    "(y_test == y_hat).sum() / y_hat.shape[1]"
   ]
  },
  {
   "cell_type": "code",
   "execution_count": 41,
   "id": "e1e74c8d",
   "metadata": {},
   "outputs": [],
   "source": [
    "def plot(X_in, y_in, params, norm, x_min=-2, x_max=2, y_min=-2, y_max=2):\n",
    "    plt.figure()\n",
    "    \n",
    "    x = np.linspace(x_min, x_max, 1000)\n",
    "    y = np.linspace(y_min, y_max, 1000)\n",
    "    X, Y = np.meshgrid(x, y)\n",
    "    xx, yy = X.flatten().reshape(1, -1), Y.flatten().reshape(1, -1)\n",
    "    data = np.vstack((xx, yy)).T\n",
    "    data_n = norm.transform(data)\n",
    "    Z, _ = L_model_forward(data_n.T, params)\n",
    "    plt.contourf(X, Y, Z.reshape(X.shape), cmap='OrRd')\n",
    "    plt.colorbar()\n",
    "    \n",
    "    plt.scatter(X_in[y_in == 1, 0], X_in[y_in == 1, 1], alpha=0.75, label='Y = 1', c='yellow');\n",
    "    plt.scatter(X_in[y_in == 0, 0], X_in[y_in == 0, 1], alpha=0.75, label='Y = 0', c='red');\n",
    "    \n",
    "    ax = plt.gca()\n",
    "    ax.set_xlim([x_min, x_max])\n",
    "    ax.set_ylim([y_min, y_max])\n",
    "    plt.legend()"
   ]
  },
  {
   "cell_type": "code",
   "execution_count": 47,
   "id": "48af91fe",
   "metadata": {},
   "outputs": [
    {
     "data": {
      "image/png": "[encoded data removed]",
      "text/plain": [
       "<Figure size 432x288 with 2 Axes>"
      ]
     },
     "metadata": {
      "needs_background": "light"
     },
     "output_type": "display_data"
    }
   ],
   "source": [
    "plot(X_train, y_train, params, norm, -1500, 1500, -1500, 1500)"
   ]
  },
  {
   "cell_type": "code",
   "execution_count": null,
   "id": "db27fa45",
   "metadata": {},
   "outputs": [],
   "source": []
  }
 ],
 "metadata": {
  "kernelspec": {
   "display_name": "Python 3 (ipykernel)",
   "language": "python",
   "name": "python3"
  },
  "language_info": {
   "codemirror_mode": {
    "name": "ipython",
    "version": 3
   },
   "file_extension": ".py",
   "mimetype": "text/x-python",
   "name": "python",
   "nbconvert_exporter": "python",
   "pygments_lexer": "ipython3",
   "version": "3.10.4"
  }
 },
 "nbformat": 4,
 "nbformat_minor": 5
}
